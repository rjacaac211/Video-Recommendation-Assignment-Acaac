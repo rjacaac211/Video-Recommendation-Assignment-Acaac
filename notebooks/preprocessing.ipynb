{
 "cells": [
  {
   "cell_type": "code",
   "execution_count": 1,
   "metadata": {},
   "outputs": [],
   "source": [
    "import os\n",
    "import json\n",
    "import pandas as pd"
   ]
  },
  {
   "cell_type": "code",
   "execution_count": 2,
   "metadata": {},
   "outputs": [
    {
     "name": "stdout",
     "output_type": "stream",
     "text": [
      "Data Directory Exists: True\n"
     ]
    }
   ],
   "source": [
    "DATA_DIR = \"../data\"  # Relative to the root directory\n",
    "print(\"Data Directory Exists:\", os.path.exists(DATA_DIR))"
   ]
  },
  {
   "cell_type": "code",
   "execution_count": 3,
   "metadata": {},
   "outputs": [],
   "source": [
    "# Helper function to load JSON files into DataFrames\n",
    "def load_json_to_df(filename):\n",
    "    filepath = os.path.join(DATA_DIR, filename)\n",
    "    if not os.path.exists(filepath):  # Check if the file exists\n",
    "        raise FileNotFoundError(f\"File not found: {filepath}\")\n",
    "    with open(filepath, \"r\") as f:\n",
    "        data = json.load(f)\n",
    "    return pd.DataFrame(data)"
   ]
  },
  {
   "cell_type": "code",
   "execution_count": 4,
   "metadata": {},
   "outputs": [],
   "source": [
    "# Load the files into DataFrames\n",
    "viewed_df = load_json_to_df(\"viewed_posts.json\")\n",
    "liked_df = load_json_to_df(\"liked_posts.json\")\n",
    "inspired_df = load_json_to_df(\"inspired_posts.json\")\n",
    "rated_df = load_json_to_df(\"rated_posts.json\")\n",
    "all_posts_df = load_json_to_df(\"all_posts.json\")\n",
    "all_users_df = load_json_to_df(\"all_users.json\")"
   ]
  },
  {
   "cell_type": "code",
   "execution_count": 5,
   "metadata": {},
   "outputs": [
    {
     "name": "stdout",
     "output_type": "stream",
     "text": [
      "Viewed Posts:\n",
      "   id  post_id  user_id            viewed_at\n",
      "0  18      631      114  2024-01-10 07:20:55\n",
      "1  19      626      114  2024-01-10 07:21:18\n",
      "2  20      571      114  2024-01-10 07:22:02\n",
      "3  22      558      116  2024-01-10 12:33:47\n",
      "4  23      551      116  2024-01-10 12:33:55\n",
      "\n",
      "Liked Posts:\n",
      "   id  post_id  user_id             liked_at\n",
      "0   2       26        9  2023-10-24 19:28:41\n",
      "1   3       33        9  2023-10-26 09:08:32\n",
      "2   5       36        1  2023-10-28 09:08:35\n",
      "3   7       36       16  2023-10-28 09:15:57\n",
      "4   9       52        9  2023-10-30 15:48:46\n",
      "\n",
      "Inspired Posts:\n",
      "   id  post_id  user_id          inspired_at\n",
      "0   1      588        1  2023-12-31 09:06:27\n",
      "1   2      152        1  2023-12-31 09:07:32\n",
      "2   3      415        1  2023-12-31 09:10:09\n",
      "3   4      558        1  2023-12-31 09:11:23\n",
      "4   5      549        1  2023-12-31 09:11:28\n",
      "\n",
      "Rated Posts:\n",
      "   id  post_id  user_id  rating_percent             rated_at\n",
      "0   1      516        1              64  2024-01-11 12:45:41\n",
      "1   2      160        1              62  2024-01-11 12:47:15\n",
      "2   3       19        1              20  2024-01-11 12:47:28\n",
      "3   4      148        1             100  2024-01-11 12:49:35\n",
      "4   5      513        1              63  2024-01-11 12:50:58\n",
      "\n",
      "All Posts:\n",
      "   id                                           category  \\\n",
      "0  11  {'id': 2, 'name': 'Vible', 'count': 534, 'desc...   \n",
      "1  12  {'id': 2, 'name': 'Vible', 'count': 534, 'desc...   \n",
      "2  13  {'id': 2, 'name': 'Vible', 'count': 534, 'desc...   \n",
      "3  14  {'id': 2, 'name': 'Vible', 'count': 534, 'desc...   \n",
      "4  15  {'id': 2, 'name': 'Vible', 'count': 534, 'desc...   \n",
      "\n",
      "                        slug                      title identifier  \\\n",
      "0    recipe-for-a-flow-state    Recipe for a flow state    OSsJAMz   \n",
      "1                 why-fit-in              Why fit in..?    iGqBOIW   \n",
      "2   transcending-singularity   Transcending Singularity    QAUE7s4   \n",
      "3           peak-performance          Peak Performance?    7bKiXIe   \n",
      "4  our-existential-situation  Our Existential Situation    BLFD9FX   \n",
      "\n",
      "   comment_count  upvote_count  view_count  exit_count  rating_count  ...  \\\n",
      "0              0            45          62           0             7  ...   \n",
      "1              0            42          54           0             0  ...   \n",
      "2              0            20          75           0            45  ...   \n",
      "3              0            71          95           6             6  ...   \n",
      "4              0            64          70           0             9  ...   \n",
      "\n",
      "   first_name  last_name   username upvoted bookmarked  \\\n",
      "0     Michael     Dadzie  afrobeezy    True      False   \n",
      "1     Michael     Dadzie  afrobeezy   False      False   \n",
      "2     Michael     Dadzie  afrobeezy   False      False   \n",
      "3     Michael     Dadzie  afrobeezy   False      False   \n",
      "4     Michael     Dadzie  afrobeezy   False      False   \n",
      "\n",
      "                                       thumbnail_url gif_thumbnail_url  \\\n",
      "0  https://video-cdn.socialverseapp.com/michael_9...                     \n",
      "1  https://video-cdn.socialverseapp.com/michael_5...                     \n",
      "2  https://video-cdn.socialverseapp.com/michael_5...                     \n",
      "3  https://video-cdn.socialverseapp.com/michael_4...                     \n",
      "4  https://video-cdn.socialverseapp.com/michael_b...                     \n",
      "\n",
      "   following                                        picture_url  \\\n",
      "0       True  https://assets.socialverseapp.com/profile/afro...   \n",
      "1       True  https://assets.socialverseapp.com/profile/afro...   \n",
      "2       True  https://assets.socialverseapp.com/profile/afro...   \n",
      "3       True  https://assets.socialverseapp.com/profile/afro...   \n",
      "4       True  https://assets.socialverseapp.com/profile/afro...   \n",
      "\n",
      "                                        post_summary  \n",
      "0  {'actions': {'key_events': ['discussion about ...  \n",
      "1  {'actions': {'key_actions': ['Character expres...  \n",
      "2  {'actions': {'key_actions': ['Speaker engaging...  \n",
      "3  {'actions': {'key_actions': ['speaker uses han...  \n",
      "4  {'actions': {'key_actions': ['Speaker engages ...  \n",
      "\n",
      "[5 rows x 29 columns]\n",
      "\n",
      "All Users:\n",
      "   id first_name last_name   username                      email role  \\\n",
      "0   1    Michael    Dadzie  afrobeezy    dadziemikke@outlook.com    A   \n",
      "1   2       John       Doe       doey             test@gmail.com    U   \n",
      "2   3       John       Doe      doeyy            test1@gmail.com    U   \n",
      "3   4       John       Doe     doeyyy                 code#gmail    U   \n",
      "4   5     Sachin     Kinha      kinha  sachinkinha1913@gmail.com    A   \n",
      "\n",
      "                                         profile_url  \\\n",
      "0  https://assets.socialverseapp.com/profile/afro...   \n",
      "1  https://cdn-assets.socialverseapp.com/profile/...   \n",
      "2  https://cdn-assets.socialverseapp.com/profile/...   \n",
      "3  https://cdn-assets.socialverseapp.com/profile/...   \n",
      "4  https://assets.socialverseapp.com/profile/kinh...   \n",
      "\n",
      "                                                 bio  \\\n",
      "0                     Digitial Nomad | iOS Developer   \n",
      "1                                                      \n",
      "2                                                      \n",
      "3                                                      \n",
      "4  SDE | Competitive Programming | Deserve before...   \n",
      "\n",
      "                            website_url  \\\n",
      "0  https://www.github.com/michaeldadzie   \n",
      "1                                         \n",
      "2                                         \n",
      "3                                         \n",
      "4               https://sachinkinha.com   \n",
      "\n",
      "                                       instagram-url  ... has_wallet  \\\n",
      "0           https://www.instagram.com/michaeldadziie  ...       True   \n",
      "1                                               None  ...      False   \n",
      "2                                               None  ...      False   \n",
      "3                                               None  ...      False   \n",
      "4  https://www.instagram.com/kinha_sachin?igsh=dn...  ...       True   \n",
      "\n",
      "            last_login  share_count post_count  following_count  \\\n",
      "0  2024-12-06 11:27:00            0         57                8   \n",
      "1                                 0          0                0   \n",
      "2                                 0          0                0   \n",
      "3                                 0          0                0   \n",
      "4  2024-12-06 07:59:01            0        944               17   \n",
      "\n",
      "  follower_count  is_verified  is_online  latitude  longitude  \n",
      "0             20        False       True                       \n",
      "1              0        False      False                       \n",
      "2              0        False      False                       \n",
      "3              0        False      False                       \n",
      "4             46        False      False                       \n",
      "\n",
      "[5 rows x 24 columns]\n"
     ]
    }
   ],
   "source": [
    "# Display the first few rows of each DataFrame\n",
    "print(\"Viewed Posts:\", viewed_df.head(), sep=\"\\n\")\n",
    "print(\"\\nLiked Posts:\", liked_df.head(), sep=\"\\n\")\n",
    "print(\"\\nInspired Posts:\", inspired_df.head(), sep=\"\\n\")\n",
    "print(\"\\nRated Posts:\", rated_df.head(), sep=\"\\n\")\n",
    "print(\"\\nAll Posts:\", all_posts_df.head(), sep=\"\\n\")\n",
    "print(\"\\nAll Users:\", all_users_df.head(), sep=\"\\n\")"
   ]
  },
  {
   "cell_type": "markdown",
   "metadata": {},
   "source": [
    "### Check For Missing Values"
   ]
  },
  {
   "cell_type": "code",
   "execution_count": 6,
   "metadata": {},
   "outputs": [
    {
     "name": "stdout",
     "output_type": "stream",
     "text": [
      "Viewed Posts Missing Values:\n",
      "id           0\n",
      "post_id      0\n",
      "user_id      0\n",
      "viewed_at    0\n",
      "dtype: int64\n",
      "\n",
      "Liked Posts Missing Values:\n",
      "id          0\n",
      "post_id     0\n",
      "user_id     0\n",
      "liked_at    0\n",
      "dtype: int64\n",
      "\n",
      "Inspired Posts Missing Values:\n",
      "id             0\n",
      "post_id        0\n",
      "user_id        0\n",
      "inspired_at    0\n",
      "dtype: int64\n",
      "\n",
      "Rated Posts Missing Values:\n",
      "id                0\n",
      "post_id           0\n",
      "user_id           0\n",
      "rating_percent    0\n",
      "rated_at          0\n",
      "dtype: int64\n",
      "\n",
      "All Posts Missing Values:\n",
      "id                   0\n",
      "category             0\n",
      "slug                 0\n",
      "title                0\n",
      "identifier           0\n",
      "comment_count        0\n",
      "upvote_count         0\n",
      "view_count           0\n",
      "exit_count           0\n",
      "rating_count         0\n",
      "average_rating       0\n",
      "share_count          0\n",
      "video_link           0\n",
      "contract_address     0\n",
      "chain_id             0\n",
      "chart_url            0\n",
      "baseToken            0\n",
      "is_locked            0\n",
      "created_at           0\n",
      "first_name           0\n",
      "last_name            0\n",
      "username             0\n",
      "upvoted              0\n",
      "bookmarked           0\n",
      "thumbnail_url        0\n",
      "gif_thumbnail_url    0\n",
      "following            0\n",
      "picture_url          0\n",
      "post_summary         0\n",
      "dtype: int64\n",
      "\n",
      "All Users Missing Values:\n",
      "id                    0\n",
      "first_name            0\n",
      "last_name             0\n",
      "username              0\n",
      "email                 0\n",
      "role                  0\n",
      "profile_url           0\n",
      "bio                   0\n",
      "website_url           0\n",
      "instagram-url      1132\n",
      "youtube_url        1132\n",
      "tictok_url         1132\n",
      "isVerified            0\n",
      "referral_code         0\n",
      "has_wallet            0\n",
      "last_login            0\n",
      "share_count           0\n",
      "post_count            0\n",
      "following_count       0\n",
      "follower_count        0\n",
      "is_verified           0\n",
      "is_online             0\n",
      "latitude              0\n",
      "longitude             0\n",
      "dtype: int64\n"
     ]
    }
   ],
   "source": [
    "# Check for missing values in all DataFrames\n",
    "print(\"Viewed Posts Missing Values:\")\n",
    "print(viewed_df.isnull().sum())\n",
    "\n",
    "print(\"\\nLiked Posts Missing Values:\")\n",
    "print(liked_df.isnull().sum())\n",
    "\n",
    "print(\"\\nInspired Posts Missing Values:\")\n",
    "print(inspired_df.isnull().sum())\n",
    "\n",
    "print(\"\\nRated Posts Missing Values:\")\n",
    "print(rated_df.isnull().sum())\n",
    "\n",
    "print(\"\\nAll Posts Missing Values:\")\n",
    "print(all_posts_df.isnull().sum())\n",
    "\n",
    "print(\"\\nAll Users Missing Values:\")\n",
    "print(all_users_df.isnull().sum())"
   ]
  },
  {
   "cell_type": "code",
   "execution_count": 7,
   "metadata": {},
   "outputs": [
    {
     "name": "stdout",
     "output_type": "stream",
     "text": [
      "Updated All Users Missing Values:\n",
      "id                 0\n",
      "first_name         0\n",
      "last_name          0\n",
      "username           0\n",
      "email              0\n",
      "role               0\n",
      "profile_url        0\n",
      "bio                0\n",
      "website_url        0\n",
      "instagram-url      0\n",
      "youtube_url        0\n",
      "tictok_url         0\n",
      "isVerified         0\n",
      "referral_code      0\n",
      "has_wallet         0\n",
      "last_login         0\n",
      "share_count        0\n",
      "post_count         0\n",
      "following_count    0\n",
      "follower_count     0\n",
      "is_verified        0\n",
      "is_online          0\n",
      "latitude           0\n",
      "longitude          0\n",
      "dtype: int64\n"
     ]
    },
    {
     "name": "stderr",
     "output_type": "stream",
     "text": [
      "/tmp/ipykernel_33891/139954331.py:2: FutureWarning: A value is trying to be set on a copy of a DataFrame or Series through chained assignment using an inplace method.\n",
      "The behavior will change in pandas 3.0. This inplace method will never work because the intermediate object on which we are setting values always behaves as a copy.\n",
      "\n",
      "For example, when doing 'df[col].method(value, inplace=True)', try using 'df.method({col: value}, inplace=True)' or df[col] = df[col].method(value) instead, to perform the operation inplace on the original object.\n",
      "\n",
      "\n",
      "  all_users_df['instagram-url'].fillna(\"Not Provided\", inplace=True)\n",
      "/tmp/ipykernel_33891/139954331.py:3: FutureWarning: A value is trying to be set on a copy of a DataFrame or Series through chained assignment using an inplace method.\n",
      "The behavior will change in pandas 3.0. This inplace method will never work because the intermediate object on which we are setting values always behaves as a copy.\n",
      "\n",
      "For example, when doing 'df[col].method(value, inplace=True)', try using 'df.method({col: value}, inplace=True)' or df[col] = df[col].method(value) instead, to perform the operation inplace on the original object.\n",
      "\n",
      "\n",
      "  all_users_df['youtube_url'].fillna(\"Not Provided\", inplace=True)\n",
      "/tmp/ipykernel_33891/139954331.py:4: FutureWarning: A value is trying to be set on a copy of a DataFrame or Series through chained assignment using an inplace method.\n",
      "The behavior will change in pandas 3.0. This inplace method will never work because the intermediate object on which we are setting values always behaves as a copy.\n",
      "\n",
      "For example, when doing 'df[col].method(value, inplace=True)', try using 'df.method({col: value}, inplace=True)' or df[col] = df[col].method(value) instead, to perform the operation inplace on the original object.\n",
      "\n",
      "\n",
      "  all_users_df['tictok_url'].fillna(\"Not Provided\", inplace=True)\n"
     ]
    }
   ],
   "source": [
    "# Fill missing values in optional social media links with \"Not Provided\"\n",
    "all_users_df['instagram-url'].fillna(\"Not Provided\", inplace=True)\n",
    "all_users_df['youtube_url'].fillna(\"Not Provided\", inplace=True)\n",
    "all_users_df['tictok_url'].fillna(\"Not Provided\", inplace=True)\n",
    "\n",
    "# Verify the changes\n",
    "print(\"Updated All Users Missing Values:\")\n",
    "print(all_users_df.isnull().sum())"
   ]
  },
  {
   "cell_type": "markdown",
   "metadata": {},
   "source": [
    "### Convert timestamp to DateTime Format"
   ]
  },
  {
   "cell_type": "code",
   "execution_count": 8,
   "metadata": {},
   "outputs": [
    {
     "name": "stdout",
     "output_type": "stream",
     "text": [
      "Viewed Posts Timestamps: datetime64[ns]\n",
      "Liked Posts Timestamps: datetime64[ns]\n",
      "Inspired Posts Timestamps: datetime64[ns]\n",
      "Rated Posts Timestamps: datetime64[ns]\n",
      "All Posts Created At Timestamps: datetime64[ns]\n",
      "All Users Last Login Timestamps: datetime64[ns]\n"
     ]
    }
   ],
   "source": [
    "# Convert timestamp columns to datetime format\n",
    "viewed_df['viewed_at'] = pd.to_datetime(viewed_df['viewed_at'], errors='coerce')\n",
    "liked_df['liked_at'] = pd.to_datetime(liked_df['liked_at'], errors='coerce')\n",
    "inspired_df['inspired_at'] = pd.to_datetime(inspired_df['inspired_at'], errors='coerce')\n",
    "rated_df['rated_at'] = pd.to_datetime(rated_df['rated_at'], errors='coerce')\n",
    "all_posts_df['created_at'] = pd.to_datetime(all_posts_df['created_at'], errors='coerce')\n",
    "all_users_df['last_login'] = pd.to_datetime(all_users_df['last_login'], errors='coerce')\n",
    "\n",
    "# Verify the changes\n",
    "print(\"Viewed Posts Timestamps:\", viewed_df.dtypes['viewed_at'])\n",
    "print(\"Liked Posts Timestamps:\", liked_df.dtypes['liked_at'])\n",
    "print(\"Inspired Posts Timestamps:\", inspired_df.dtypes['inspired_at'])\n",
    "print(\"Rated Posts Timestamps:\", rated_df.dtypes['rated_at'])\n",
    "print(\"All Posts Created At Timestamps:\", all_posts_df.dtypes['created_at'])\n",
    "print(\"All Users Last Login Timestamps:\", all_users_df.dtypes['last_login'])"
   ]
  },
  {
   "cell_type": "code",
   "execution_count": 9,
   "metadata": {},
   "outputs": [
    {
     "name": "stdout",
     "output_type": "stream",
     "text": [
      "Updated All Posts DataFrame:\n",
      "   id                       slug                      title identifier  \\\n",
      "0  11    recipe-for-a-flow-state    Recipe for a flow state    OSsJAMz   \n",
      "1  12                 why-fit-in              Why fit in..?    iGqBOIW   \n",
      "2  13   transcending-singularity   Transcending Singularity    QAUE7s4   \n",
      "3  14           peak-performance          Peak Performance?    7bKiXIe   \n",
      "4  15  our-existential-situation  Our Existential Situation    BLFD9FX   \n",
      "\n",
      "   comment_count  upvote_count  view_count  exit_count  rating_count  \\\n",
      "0              0            45          62           0             7   \n",
      "1              0            42          54           0             0   \n",
      "2              0            20          75           0            45   \n",
      "3              0            71          95           6             6   \n",
      "4              0            64          70           0             9   \n",
      "\n",
      "   average_rating  ...                                      thumbnail_url  \\\n",
      "0              36  ...  https://video-cdn.socialverseapp.com/michael_9...   \n",
      "1               0  ...  https://video-cdn.socialverseapp.com/michael_5...   \n",
      "2               8  ...  https://video-cdn.socialverseapp.com/michael_5...   \n",
      "3              28  ...  https://video-cdn.socialverseapp.com/michael_4...   \n",
      "4              33  ...  https://video-cdn.socialverseapp.com/michael_b...   \n",
      "\n",
      "  gif_thumbnail_url following  \\\n",
      "0                        True   \n",
      "1                        True   \n",
      "2                        True   \n",
      "3                        True   \n",
      "4                        True   \n",
      "\n",
      "                                         picture_url  \\\n",
      "0  https://assets.socialverseapp.com/profile/afro...   \n",
      "1  https://assets.socialverseapp.com/profile/afro...   \n",
      "2  https://assets.socialverseapp.com/profile/afro...   \n",
      "3  https://assets.socialverseapp.com/profile/afro...   \n",
      "4  https://assets.socialverseapp.com/profile/afro...   \n",
      "\n",
      "                                        post_summary category_id  \\\n",
      "0  {'actions': {'key_events': ['discussion about ...           2   \n",
      "1  {'actions': {'key_actions': ['Character expres...           2   \n",
      "2  {'actions': {'key_actions': ['Speaker engaging...           2   \n",
      "3  {'actions': {'key_actions': ['speaker uses han...           2   \n",
      "4  {'actions': {'key_actions': ['Speaker engages ...           2   \n",
      "\n",
      "   category_name category_count category_description  \\\n",
      "0          Vible            534  All the best vibes!   \n",
      "1          Vible            534  All the best vibes!   \n",
      "2          Vible            534  All the best vibes!   \n",
      "3          Vible            534  All the best vibes!   \n",
      "4          Vible            534  All the best vibes!   \n",
      "\n",
      "                                  category_image_url  \n",
      "0  https://assets.socialverseapp.com/categories/a...  \n",
      "1  https://assets.socialverseapp.com/categories/a...  \n",
      "2  https://assets.socialverseapp.com/categories/a...  \n",
      "3  https://assets.socialverseapp.com/categories/a...  \n",
      "4  https://assets.socialverseapp.com/categories/a...  \n",
      "\n",
      "[5 rows x 33 columns]\n"
     ]
    }
   ],
   "source": [
    "# Normalize the 'category' field in all_posts_df\n",
    "category_df = pd.json_normalize(all_posts_df['category'])\n",
    "all_posts_df = pd.concat([all_posts_df.drop(columns=['category']), category_df.add_prefix('category_')], axis=1)\n",
    "\n",
    "# Display the updated DataFrame\n",
    "print(\"Updated All Posts DataFrame:\")\n",
    "print(all_posts_df.head())"
   ]
  },
  {
   "cell_type": "markdown",
   "metadata": {},
   "source": [
    "### Drop Unnecessary Columns"
   ]
  },
  {
   "cell_type": "code",
   "execution_count": 10,
   "metadata": {},
   "outputs": [
    {
     "name": "stdout",
     "output_type": "stream",
     "text": [
      "Updated All Posts Columns: ['id', 'title', 'upvote_count', 'view_count', 'rating_count', 'average_rating', 'share_count', 'video_link', 'contract_address', 'chain_id', 'chart_url', 'baseToken', 'is_locked', 'created_at', 'first_name', 'last_name', 'username', 'upvoted', 'bookmarked', 'following', 'category_id', 'category_name']\n",
      "   id                      title  upvote_count  view_count  rating_count  \\\n",
      "0  11    Recipe for a flow state            45          62             7   \n",
      "1  12              Why fit in..?            42          54             0   \n",
      "2  13   Transcending Singularity            20          75            45   \n",
      "3  14          Peak Performance?            71          95             6   \n",
      "4  15  Our Existential Situation            64          70             9   \n",
      "\n",
      "   average_rating  share_count  \\\n",
      "0              36            8   \n",
      "1               0            0   \n",
      "2               8            0   \n",
      "3              28            0   \n",
      "4              33            0   \n",
      "\n",
      "                                          video_link contract_address  \\\n",
      "0  https://video-cdn.socialverseapp.com/michael_9...                    \n",
      "1  https://video-cdn.socialverseapp.com/michael_5...                    \n",
      "2  https://video-cdn.socialverseapp.com/michael_5...                    \n",
      "3  https://video-cdn.socialverseapp.com/michael_4...                    \n",
      "4  https://video-cdn.socialverseapp.com/michael_b...                    \n",
      "\n",
      "  chain_id  ... is_locked                 created_at  first_name last_name  \\\n",
      "0           ...     False 1970-01-01 00:28:18.088807     Michael    Dadzie   \n",
      "1           ...     False 1970-01-01 00:28:18.096725     Michael    Dadzie   \n",
      "2           ...     False 1970-01-01 00:28:18.097013     Michael    Dadzie   \n",
      "3           ...     False 1970-01-01 00:28:18.097687     Michael    Dadzie   \n",
      "4           ...     False 1970-01-01 00:28:18.098168     Michael    Dadzie   \n",
      "\n",
      "    username upvoted bookmarked  following  category_id  category_name  \n",
      "0  afrobeezy    True      False       True            2          Vible  \n",
      "1  afrobeezy   False      False       True            2          Vible  \n",
      "2  afrobeezy   False      False       True            2          Vible  \n",
      "3  afrobeezy   False      False       True            2          Vible  \n",
      "4  afrobeezy   False      False       True            2          Vible  \n",
      "\n",
      "[5 rows x 22 columns]\n"
     ]
    }
   ],
   "source": [
    "# Drop unnecessary columns\n",
    "columns_to_drop = ['slug', 'identifier', 'comment_count', 'exit_count', \n",
    "                   'thumbnail_url', 'gif_thumbnail_url', 'picture_url', \n",
    "                   'post_summary', 'category_count', 'category_description', 'category_image_url']\n",
    "\n",
    "all_posts_df = all_posts_df.drop(columns=columns_to_drop)\n",
    "\n",
    "# Display the updated DataFrame\n",
    "print(\"Updated All Posts Columns:\", all_posts_df.columns.tolist())\n",
    "print(all_posts_df.head())"
   ]
  },
  {
   "cell_type": "code",
   "execution_count": 11,
   "metadata": {},
   "outputs": [
    {
     "data": {
      "text/html": [
       "<div>\n",
       "<style scoped>\n",
       "    .dataframe tbody tr th:only-of-type {\n",
       "        vertical-align: middle;\n",
       "    }\n",
       "\n",
       "    .dataframe tbody tr th {\n",
       "        vertical-align: top;\n",
       "    }\n",
       "\n",
       "    .dataframe thead th {\n",
       "        text-align: right;\n",
       "    }\n",
       "</style>\n",
       "<table border=\"1\" class=\"dataframe\">\n",
       "  <thead>\n",
       "    <tr style=\"text-align: right;\">\n",
       "      <th></th>\n",
       "      <th>id</th>\n",
       "      <th>title</th>\n",
       "      <th>upvote_count</th>\n",
       "      <th>view_count</th>\n",
       "      <th>rating_count</th>\n",
       "      <th>average_rating</th>\n",
       "      <th>share_count</th>\n",
       "      <th>video_link</th>\n",
       "      <th>contract_address</th>\n",
       "      <th>chain_id</th>\n",
       "      <th>...</th>\n",
       "      <th>is_locked</th>\n",
       "      <th>created_at</th>\n",
       "      <th>first_name</th>\n",
       "      <th>last_name</th>\n",
       "      <th>username</th>\n",
       "      <th>upvoted</th>\n",
       "      <th>bookmarked</th>\n",
       "      <th>following</th>\n",
       "      <th>category_id</th>\n",
       "      <th>category_name</th>\n",
       "    </tr>\n",
       "  </thead>\n",
       "  <tbody>\n",
       "    <tr>\n",
       "      <th>0</th>\n",
       "      <td>11</td>\n",
       "      <td>Recipe for a flow state</td>\n",
       "      <td>45</td>\n",
       "      <td>62</td>\n",
       "      <td>7</td>\n",
       "      <td>36</td>\n",
       "      <td>8</td>\n",
       "      <td>https://video-cdn.socialverseapp.com/michael_9...</td>\n",
       "      <td></td>\n",
       "      <td></td>\n",
       "      <td>...</td>\n",
       "      <td>False</td>\n",
       "      <td>1970-01-01 00:28:18.088807</td>\n",
       "      <td>Michael</td>\n",
       "      <td>Dadzie</td>\n",
       "      <td>afrobeezy</td>\n",
       "      <td>True</td>\n",
       "      <td>False</td>\n",
       "      <td>True</td>\n",
       "      <td>2</td>\n",
       "      <td>Vible</td>\n",
       "    </tr>\n",
       "    <tr>\n",
       "      <th>1</th>\n",
       "      <td>12</td>\n",
       "      <td>Why fit in..?</td>\n",
       "      <td>42</td>\n",
       "      <td>54</td>\n",
       "      <td>0</td>\n",
       "      <td>0</td>\n",
       "      <td>0</td>\n",
       "      <td>https://video-cdn.socialverseapp.com/michael_5...</td>\n",
       "      <td></td>\n",
       "      <td></td>\n",
       "      <td>...</td>\n",
       "      <td>False</td>\n",
       "      <td>1970-01-01 00:28:18.096725</td>\n",
       "      <td>Michael</td>\n",
       "      <td>Dadzie</td>\n",
       "      <td>afrobeezy</td>\n",
       "      <td>False</td>\n",
       "      <td>False</td>\n",
       "      <td>True</td>\n",
       "      <td>2</td>\n",
       "      <td>Vible</td>\n",
       "    </tr>\n",
       "    <tr>\n",
       "      <th>2</th>\n",
       "      <td>13</td>\n",
       "      <td>Transcending Singularity</td>\n",
       "      <td>20</td>\n",
       "      <td>75</td>\n",
       "      <td>45</td>\n",
       "      <td>8</td>\n",
       "      <td>0</td>\n",
       "      <td>https://video-cdn.socialverseapp.com/michael_5...</td>\n",
       "      <td></td>\n",
       "      <td></td>\n",
       "      <td>...</td>\n",
       "      <td>False</td>\n",
       "      <td>1970-01-01 00:28:18.097013</td>\n",
       "      <td>Michael</td>\n",
       "      <td>Dadzie</td>\n",
       "      <td>afrobeezy</td>\n",
       "      <td>False</td>\n",
       "      <td>False</td>\n",
       "      <td>True</td>\n",
       "      <td>2</td>\n",
       "      <td>Vible</td>\n",
       "    </tr>\n",
       "    <tr>\n",
       "      <th>3</th>\n",
       "      <td>14</td>\n",
       "      <td>Peak Performance?</td>\n",
       "      <td>71</td>\n",
       "      <td>95</td>\n",
       "      <td>6</td>\n",
       "      <td>28</td>\n",
       "      <td>0</td>\n",
       "      <td>https://video-cdn.socialverseapp.com/michael_4...</td>\n",
       "      <td></td>\n",
       "      <td></td>\n",
       "      <td>...</td>\n",
       "      <td>False</td>\n",
       "      <td>1970-01-01 00:28:18.097687</td>\n",
       "      <td>Michael</td>\n",
       "      <td>Dadzie</td>\n",
       "      <td>afrobeezy</td>\n",
       "      <td>False</td>\n",
       "      <td>False</td>\n",
       "      <td>True</td>\n",
       "      <td>2</td>\n",
       "      <td>Vible</td>\n",
       "    </tr>\n",
       "    <tr>\n",
       "      <th>4</th>\n",
       "      <td>15</td>\n",
       "      <td>Our Existential Situation</td>\n",
       "      <td>64</td>\n",
       "      <td>70</td>\n",
       "      <td>9</td>\n",
       "      <td>33</td>\n",
       "      <td>0</td>\n",
       "      <td>https://video-cdn.socialverseapp.com/michael_b...</td>\n",
       "      <td></td>\n",
       "      <td></td>\n",
       "      <td>...</td>\n",
       "      <td>False</td>\n",
       "      <td>1970-01-01 00:28:18.098168</td>\n",
       "      <td>Michael</td>\n",
       "      <td>Dadzie</td>\n",
       "      <td>afrobeezy</td>\n",
       "      <td>False</td>\n",
       "      <td>False</td>\n",
       "      <td>True</td>\n",
       "      <td>2</td>\n",
       "      <td>Vible</td>\n",
       "    </tr>\n",
       "  </tbody>\n",
       "</table>\n",
       "<p>5 rows × 22 columns</p>\n",
       "</div>"
      ],
      "text/plain": [
       "   id                      title  upvote_count  view_count  rating_count  \\\n",
       "0  11    Recipe for a flow state            45          62             7   \n",
       "1  12              Why fit in..?            42          54             0   \n",
       "2  13   Transcending Singularity            20          75            45   \n",
       "3  14          Peak Performance?            71          95             6   \n",
       "4  15  Our Existential Situation            64          70             9   \n",
       "\n",
       "   average_rating  share_count  \\\n",
       "0              36            8   \n",
       "1               0            0   \n",
       "2               8            0   \n",
       "3              28            0   \n",
       "4              33            0   \n",
       "\n",
       "                                          video_link contract_address  \\\n",
       "0  https://video-cdn.socialverseapp.com/michael_9...                    \n",
       "1  https://video-cdn.socialverseapp.com/michael_5...                    \n",
       "2  https://video-cdn.socialverseapp.com/michael_5...                    \n",
       "3  https://video-cdn.socialverseapp.com/michael_4...                    \n",
       "4  https://video-cdn.socialverseapp.com/michael_b...                    \n",
       "\n",
       "  chain_id  ... is_locked                 created_at  first_name last_name  \\\n",
       "0           ...     False 1970-01-01 00:28:18.088807     Michael    Dadzie   \n",
       "1           ...     False 1970-01-01 00:28:18.096725     Michael    Dadzie   \n",
       "2           ...     False 1970-01-01 00:28:18.097013     Michael    Dadzie   \n",
       "3           ...     False 1970-01-01 00:28:18.097687     Michael    Dadzie   \n",
       "4           ...     False 1970-01-01 00:28:18.098168     Michael    Dadzie   \n",
       "\n",
       "    username upvoted bookmarked  following  category_id  category_name  \n",
       "0  afrobeezy    True      False       True            2          Vible  \n",
       "1  afrobeezy   False      False       True            2          Vible  \n",
       "2  afrobeezy   False      False       True            2          Vible  \n",
       "3  afrobeezy   False      False       True            2          Vible  \n",
       "4  afrobeezy   False      False       True            2          Vible  \n",
       "\n",
       "[5 rows x 22 columns]"
      ]
     },
     "execution_count": 11,
     "metadata": {},
     "output_type": "execute_result"
    }
   ],
   "source": [
    "all_posts_df.head()"
   ]
  },
  {
   "cell_type": "code",
   "execution_count": 12,
   "metadata": {},
   "outputs": [
    {
     "name": "stdout",
     "output_type": "stream",
     "text": [
      "<class 'pandas.core.frame.DataFrame'>\n",
      "RangeIndex: 5534 entries, 0 to 5533\n",
      "Data columns (total 4 columns):\n",
      " #   Column     Non-Null Count  Dtype         \n",
      "---  ------     --------------  -----         \n",
      " 0   id         5534 non-null   int64         \n",
      " 1   post_id    5534 non-null   int64         \n",
      " 2   user_id    5534 non-null   int64         \n",
      " 3   viewed_at  5534 non-null   datetime64[ns]\n",
      "dtypes: datetime64[ns](1), int64(3)\n",
      "memory usage: 173.1 KB\n",
      "None\n",
      "   id  post_id  user_id           viewed_at\n",
      "0  18      631      114 2024-01-10 07:20:55\n",
      "1  19      626      114 2024-01-10 07:21:18\n",
      "2  20      571      114 2024-01-10 07:22:02\n",
      "3  22      558      116 2024-01-10 12:33:47\n",
      "4  23      551      116 2024-01-10 12:33:55\n"
     ]
    }
   ],
   "source": [
    "# Inspect the structure of viewed_df\n",
    "print(viewed_df.info())\n",
    "print(viewed_df.head())"
   ]
  },
  {
   "cell_type": "code",
   "execution_count": 13,
   "metadata": {},
   "outputs": [
    {
     "name": "stdout",
     "output_type": "stream",
     "text": [
      "Duplicates in viewed_df: 0\n",
      "Updated viewed_df shape: (5534, 4)\n"
     ]
    }
   ],
   "source": [
    "# Check for and drop duplicate rows\n",
    "print(\"Duplicates in viewed_df:\", viewed_df.duplicated().sum())\n",
    "viewed_df = viewed_df.drop_duplicates()\n",
    "\n",
    "# Verify the DataFrame shape after removing duplicates\n",
    "print(\"Updated viewed_df shape:\", viewed_df.shape)"
   ]
  },
  {
   "cell_type": "code",
   "execution_count": 14,
   "metadata": {},
   "outputs": [
    {
     "name": "stdout",
     "output_type": "stream",
     "text": [
      "Earliest view timestamp: 2024-01-10 07:20:55\n",
      "Latest view timestamp: 2024-12-07 08:17:26\n"
     ]
    }
   ],
   "source": [
    "# Analyze the timestamp range\n",
    "print(\"Earliest view timestamp:\", viewed_df['viewed_at'].min())\n",
    "print(\"Latest view timestamp:\", viewed_df['viewed_at'].max())\n"
   ]
  },
  {
   "cell_type": "code",
   "execution_count": 15,
   "metadata": {},
   "outputs": [
    {
     "name": "stdout",
     "output_type": "stream",
     "text": [
      "<class 'pandas.core.frame.DataFrame'>\n",
      "RangeIndex: 1234 entries, 0 to 1233\n",
      "Data columns (total 4 columns):\n",
      " #   Column    Non-Null Count  Dtype         \n",
      "---  ------    --------------  -----         \n",
      " 0   id        1234 non-null   int64         \n",
      " 1   post_id   1234 non-null   int64         \n",
      " 2   user_id   1234 non-null   int64         \n",
      " 3   liked_at  1234 non-null   datetime64[ns]\n",
      "dtypes: datetime64[ns](1), int64(3)\n",
      "memory usage: 38.7 KB\n",
      "None\n",
      "   id  post_id  user_id            liked_at\n",
      "0   2       26        9 2023-10-24 19:28:41\n",
      "1   3       33        9 2023-10-26 09:08:32\n",
      "2   5       36        1 2023-10-28 09:08:35\n",
      "3   7       36       16 2023-10-28 09:15:57\n",
      "4   9       52        9 2023-10-30 15:48:46\n"
     ]
    }
   ],
   "source": [
    "# Inspect the structure of liked_df\n",
    "print(liked_df.info())\n",
    "print(liked_df.head())"
   ]
  },
  {
   "cell_type": "code",
   "execution_count": 16,
   "metadata": {},
   "outputs": [
    {
     "name": "stdout",
     "output_type": "stream",
     "text": [
      "Duplicates in liked_df: 0\n",
      "Updated liked_df shape: (1234, 4)\n"
     ]
    }
   ],
   "source": [
    "# Check for and drop duplicate rows\n",
    "print(\"Duplicates in liked_df:\", liked_df.duplicated().sum())\n",
    "liked_df = liked_df.drop_duplicates()\n",
    "\n",
    "# Verify the DataFrame shape after removing duplicates\n",
    "print(\"Updated liked_df shape:\", liked_df.shape)"
   ]
  },
  {
   "cell_type": "code",
   "execution_count": 17,
   "metadata": {},
   "outputs": [
    {
     "name": "stdout",
     "output_type": "stream",
     "text": [
      "Earliest liked timestamp: 2023-10-24 19:28:41\n",
      "Latest liked timestamp: 2024-12-07 07:22:50\n"
     ]
    }
   ],
   "source": [
    "# Verify datetime conversion for liked_at\n",
    "print(\"Earliest liked timestamp:\", liked_df['liked_at'].min())\n",
    "print(\"Latest liked timestamp:\", liked_df['liked_at'].max())\n"
   ]
  },
  {
   "cell_type": "code",
   "execution_count": 18,
   "metadata": {},
   "outputs": [
    {
     "name": "stdout",
     "output_type": "stream",
     "text": [
      "<class 'pandas.core.frame.DataFrame'>\n",
      "RangeIndex: 210 entries, 0 to 209\n",
      "Data columns (total 4 columns):\n",
      " #   Column       Non-Null Count  Dtype         \n",
      "---  ------       --------------  -----         \n",
      " 0   id           210 non-null    int64         \n",
      " 1   post_id      210 non-null    int64         \n",
      " 2   user_id      210 non-null    int64         \n",
      " 3   inspired_at  210 non-null    datetime64[ns]\n",
      "dtypes: datetime64[ns](1), int64(3)\n",
      "memory usage: 6.7 KB\n",
      "None\n",
      "   id  post_id  user_id         inspired_at\n",
      "0   1      588        1 2023-12-31 09:06:27\n",
      "1   2      152        1 2023-12-31 09:07:32\n",
      "2   3      415        1 2023-12-31 09:10:09\n",
      "3   4      558        1 2023-12-31 09:11:23\n",
      "4   5      549        1 2023-12-31 09:11:28\n"
     ]
    }
   ],
   "source": [
    "# Inspect the structure of inspired_df\n",
    "print(inspired_df.info())\n",
    "print(inspired_df.head())"
   ]
  },
  {
   "cell_type": "code",
   "execution_count": 19,
   "metadata": {},
   "outputs": [
    {
     "name": "stdout",
     "output_type": "stream",
     "text": [
      "Duplicates in inspired_df: 0\n",
      "Updated inspired_df shape: (210, 4)\n"
     ]
    }
   ],
   "source": [
    "# Check for and drop duplicate rows\n",
    "print(\"Duplicates in inspired_df:\", inspired_df.duplicated().sum())\n",
    "inspired_df = inspired_df.drop_duplicates()\n",
    "\n",
    "# Verify the DataFrame shape after removing duplicates\n",
    "print(\"Updated inspired_df shape:\", inspired_df.shape)"
   ]
  },
  {
   "cell_type": "code",
   "execution_count": 20,
   "metadata": {},
   "outputs": [
    {
     "name": "stdout",
     "output_type": "stream",
     "text": [
      "Earliest inspired timestamp: 2023-12-31 09:06:27\n",
      "Latest inspired timestamp: 2024-12-06 19:02:41\n"
     ]
    }
   ],
   "source": [
    "# Verify datetime conversion for inspired_at\n",
    "print(\"Earliest inspired timestamp:\", inspired_df['inspired_at'].min())\n",
    "print(\"Latest inspired timestamp:\", inspired_df['inspired_at'].max())"
   ]
  },
  {
   "cell_type": "code",
   "execution_count": 21,
   "metadata": {},
   "outputs": [
    {
     "name": "stdout",
     "output_type": "stream",
     "text": [
      "<class 'pandas.core.frame.DataFrame'>\n",
      "RangeIndex: 2803 entries, 0 to 2802\n",
      "Data columns (total 5 columns):\n",
      " #   Column          Non-Null Count  Dtype         \n",
      "---  ------          --------------  -----         \n",
      " 0   id              2803 non-null   int64         \n",
      " 1   post_id         2803 non-null   int64         \n",
      " 2   user_id         2803 non-null   int64         \n",
      " 3   rating_percent  2803 non-null   int64         \n",
      " 4   rated_at        2803 non-null   datetime64[ns]\n",
      "dtypes: datetime64[ns](1), int64(4)\n",
      "memory usage: 109.6 KB\n",
      "None\n",
      "   id  post_id  user_id  rating_percent            rated_at\n",
      "0   1      516        1              64 2024-01-11 12:45:41\n",
      "1   2      160        1              62 2024-01-11 12:47:15\n",
      "2   3       19        1              20 2024-01-11 12:47:28\n",
      "3   4      148        1             100 2024-01-11 12:49:35\n",
      "4   5      513        1              63 2024-01-11 12:50:58\n"
     ]
    }
   ],
   "source": [
    "# Inspect the structure of rated_df\n",
    "print(rated_df.info())\n",
    "print(rated_df.head())"
   ]
  },
  {
   "cell_type": "code",
   "execution_count": 22,
   "metadata": {},
   "outputs": [
    {
     "name": "stdout",
     "output_type": "stream",
     "text": [
      "Duplicates in rated_df: 0\n",
      "Updated rated_df shape: (2803, 5)\n"
     ]
    }
   ],
   "source": [
    "# Check for and drop duplicate rows\n",
    "print(\"Duplicates in rated_df:\", rated_df.duplicated().sum())\n",
    "rated_df = rated_df.drop_duplicates()\n",
    "\n",
    "# Verify the DataFrame shape after removing duplicates\n",
    "print(\"Updated rated_df shape:\", rated_df.shape)"
   ]
  },
  {
   "cell_type": "code",
   "execution_count": 23,
   "metadata": {},
   "outputs": [
    {
     "name": "stdout",
     "output_type": "stream",
     "text": [
      "Earliest rated timestamp: 2024-01-11 12:45:41\n",
      "Latest rated timestamp: 2024-12-07 07:00:05\n"
     ]
    }
   ],
   "source": [
    "# Verify datetime conversion for rated_at\n",
    "print(\"Earliest rated timestamp:\", rated_df['rated_at'].min())\n",
    "print(\"Latest rated timestamp:\", rated_df['rated_at'].max())"
   ]
  },
  {
   "cell_type": "markdown",
   "metadata": {},
   "source": [
    "### Combine the Interaction DataFrames"
   ]
  },
  {
   "cell_type": "code",
   "execution_count": 24,
   "metadata": {},
   "outputs": [
    {
     "name": "stdout",
     "output_type": "stream",
     "text": [
      "     id  post_id  user_id           viewed_at interaction_type rating_percent  \\\n",
      "0  9447     1256        1 2024-09-24 13:33:57           viewed           None   \n",
      "1  9487     1253        1 2024-09-25 07:34:56           viewed           None   \n",
      "2  9488     1257        1 2024-09-25 07:36:46           viewed           None   \n",
      "3  9489     1258        1 2024-09-25 07:36:47           viewed           None   \n",
      "4  9502     1252        1 2024-09-26 15:09:11           viewed           None   \n",
      "\n",
      "  liked_at inspired_at rated_at  \n",
      "0      NaT         NaT      NaT  \n",
      "1      NaT         NaT      NaT  \n",
      "2      NaT         NaT      NaT  \n",
      "3      NaT         NaT      NaT  \n",
      "4      NaT         NaT      NaT  \n",
      "Combined Interaction DataFrame Shape: (9781, 9)\n"
     ]
    }
   ],
   "source": [
    "# Add a new column to each DataFrame indicating the interaction type\n",
    "viewed_df['interaction_type'] = 'viewed'\n",
    "liked_df['interaction_type'] = 'liked'\n",
    "inspired_df['interaction_type'] = 'inspired'\n",
    "rated_df['interaction_type'] = 'rated'\n",
    "\n",
    "# Include the rating_percent column for rated_df only, fill with NaN for others\n",
    "viewed_df['rating_percent'] = None\n",
    "liked_df['rating_percent'] = None\n",
    "inspired_df['rating_percent'] = None\n",
    "\n",
    "# Concatenate all interaction DataFrames\n",
    "interaction_df = pd.concat([viewed_df, liked_df, inspired_df, rated_df], ignore_index=True)\n",
    "\n",
    "# Sort the DataFrame by user_id and interaction timestamp\n",
    "interaction_df = interaction_df.sort_values(by=['user_id', 'viewed_at', 'liked_at', 'inspired_at', 'rated_at'])\n",
    "\n",
    "# Reset the index\n",
    "interaction_df.reset_index(drop=True, inplace=True)\n",
    "\n",
    "# Display the consolidated DataFrame\n",
    "print(interaction_df.head())\n",
    "print(\"Combined Interaction DataFrame Shape:\", interaction_df.shape)"
   ]
  },
  {
   "cell_type": "code",
   "execution_count": 25,
   "metadata": {},
   "outputs": [
    {
     "name": "stdout",
     "output_type": "stream",
     "text": [
      "interaction_type\n",
      "viewed      5534\n",
      "rated       2803\n",
      "liked       1234\n",
      "inspired     210\n",
      "Name: count, dtype: int64\n"
     ]
    }
   ],
   "source": [
    "print(interaction_df['interaction_type'].value_counts())"
   ]
  },
  {
   "cell_type": "code",
   "execution_count": 26,
   "metadata": {},
   "outputs": [
    {
     "name": "stdout",
     "output_type": "stream",
     "text": [
      "Duplicates in interaction_df: 0\n"
     ]
    }
   ],
   "source": [
    "print(\"Duplicates in interaction_df:\", interaction_df.duplicated().sum())"
   ]
  },
  {
   "cell_type": "code",
   "execution_count": 27,
   "metadata": {},
   "outputs": [
    {
     "name": "stdout",
     "output_type": "stream",
     "text": [
      "                  id      post_id      user_id                      viewed_at  \\\n",
      "count    9781.000000  9781.000000  9781.000000                           5534   \n",
      "unique           NaN          NaN          NaN                            NaN   \n",
      "top              NaN          NaN          NaN                            NaN   \n",
      "freq             NaN          NaN          NaN                            NaN   \n",
      "mean     4749.367958   750.104182   513.359575  2024-08-18 22:09:18.818395648   \n",
      "min         1.000000    11.000000     1.000000            2024-01-10 07:20:55   \n",
      "25%      1272.000000   173.000000   142.000000            2024-06-20 14:12:19   \n",
      "50%      3234.000000   811.000000   431.000000     2024-08-09 18:25:30.500000   \n",
      "75%      8853.000000  1153.000000   953.000000  2024-11-12 17:49:19.249999872   \n",
      "max     11830.000000  1654.000000  1230.000000            2024-12-07 08:17:26   \n",
      "std      3953.020345   475.491711   426.101968                            NaN   \n",
      "\n",
      "       interaction_type  rating_percent                       liked_at  \\\n",
      "count              9781          2803.0                           1234   \n",
      "unique                4           100.0                            NaN   \n",
      "top              viewed            18.0                            NaN   \n",
      "freq               5534           121.0                            NaN   \n",
      "mean                NaN             NaN  2024-05-31 09:48:32.296596480   \n",
      "min                 NaN             NaN            2023-10-24 19:28:41   \n",
      "25%                 NaN             NaN     2024-03-30 13:38:46.500000   \n",
      "50%                 NaN             NaN            2024-06-19 15:25:36   \n",
      "75%                 NaN             NaN  2024-07-30 04:46:36.249999872   \n",
      "max                 NaN             NaN            2024-12-07 07:22:50   \n",
      "std                 NaN             NaN                            NaN   \n",
      "\n",
      "                          inspired_at                       rated_at  \n",
      "count                             210                           2803  \n",
      "unique                            NaN                            NaN  \n",
      "top                               NaN                            NaN  \n",
      "freq                              NaN                            NaN  \n",
      "mean    2024-06-03 14:24:56.961904640  2024-07-30 17:47:36.638601472  \n",
      "min               2023-12-31 09:06:27            2024-01-11 12:45:41  \n",
      "25%     2024-01-20 01:55:05.249999872            2024-06-06 11:25:50  \n",
      "50%        2024-05-07 13:49:12.500000            2024-07-23 18:11:21  \n",
      "75%               2024-10-09 01:01:05     2024-10-04 18:37:41.500000  \n",
      "max               2024-12-06 19:02:41            2024-12-07 07:00:05  \n",
      "std                               NaN                            NaN  \n"
     ]
    }
   ],
   "source": [
    "print(interaction_df.describe(include='all'))"
   ]
  },
  {
   "cell_type": "markdown",
   "metadata": {},
   "source": [
    "### Inspect all_users_df"
   ]
  },
  {
   "cell_type": "code",
   "execution_count": 28,
   "metadata": {},
   "outputs": [
    {
     "name": "stdout",
     "output_type": "stream",
     "text": [
      "<class 'pandas.core.frame.DataFrame'>\n",
      "RangeIndex: 1207 entries, 0 to 1206\n",
      "Data columns (total 24 columns):\n",
      " #   Column           Non-Null Count  Dtype         \n",
      "---  ------           --------------  -----         \n",
      " 0   id               1207 non-null   int64         \n",
      " 1   first_name       1207 non-null   object        \n",
      " 2   last_name        1207 non-null   object        \n",
      " 3   username         1207 non-null   object        \n",
      " 4   email            1207 non-null   object        \n",
      " 5   role             1207 non-null   object        \n",
      " 6   profile_url      1207 non-null   object        \n",
      " 7   bio              1207 non-null   object        \n",
      " 8   website_url      1207 non-null   object        \n",
      " 9   instagram-url    1207 non-null   object        \n",
      " 10  youtube_url      1207 non-null   object        \n",
      " 11  tictok_url       1207 non-null   object        \n",
      " 12  isVerified       1207 non-null   bool          \n",
      " 13  referral_code    1207 non-null   object        \n",
      " 14  has_wallet       1207 non-null   bool          \n",
      " 15  last_login       928 non-null    datetime64[ns]\n",
      " 16  share_count      1207 non-null   int64         \n",
      " 17  post_count       1207 non-null   int64         \n",
      " 18  following_count  1207 non-null   int64         \n",
      " 19  follower_count   1207 non-null   int64         \n",
      " 20  is_verified      1207 non-null   bool          \n",
      " 21  is_online        1207 non-null   bool          \n",
      " 22  latitude         1207 non-null   object        \n",
      " 23  longitude        1207 non-null   object        \n",
      "dtypes: bool(4), datetime64[ns](1), int64(5), object(14)\n",
      "memory usage: 193.4+ KB\n",
      "None\n",
      "   id first_name last_name   username                      email role  \\\n",
      "0   1    Michael    Dadzie  afrobeezy    dadziemikke@outlook.com    A   \n",
      "1   2       John       Doe       doey             test@gmail.com    U   \n",
      "2   3       John       Doe      doeyy            test1@gmail.com    U   \n",
      "3   4       John       Doe     doeyyy                 code#gmail    U   \n",
      "4   5     Sachin     Kinha      kinha  sachinkinha1913@gmail.com    A   \n",
      "\n",
      "                                         profile_url  \\\n",
      "0  https://assets.socialverseapp.com/profile/afro...   \n",
      "1  https://cdn-assets.socialverseapp.com/profile/...   \n",
      "2  https://cdn-assets.socialverseapp.com/profile/...   \n",
      "3  https://cdn-assets.socialverseapp.com/profile/...   \n",
      "4  https://assets.socialverseapp.com/profile/kinh...   \n",
      "\n",
      "                                                 bio  \\\n",
      "0                     Digitial Nomad | iOS Developer   \n",
      "1                                                      \n",
      "2                                                      \n",
      "3                                                      \n",
      "4  SDE | Competitive Programming | Deserve before...   \n",
      "\n",
      "                            website_url  \\\n",
      "0  https://www.github.com/michaeldadzie   \n",
      "1                                         \n",
      "2                                         \n",
      "3                                         \n",
      "4               https://sachinkinha.com   \n",
      "\n",
      "                                       instagram-url  ... has_wallet  \\\n",
      "0           https://www.instagram.com/michaeldadziie  ...       True   \n",
      "1                                       Not Provided  ...      False   \n",
      "2                                       Not Provided  ...      False   \n",
      "3                                       Not Provided  ...      False   \n",
      "4  https://www.instagram.com/kinha_sachin?igsh=dn...  ...       True   \n",
      "\n",
      "           last_login  share_count post_count  following_count follower_count  \\\n",
      "0 2024-12-06 11:27:00            0         57                8             20   \n",
      "1                 NaT            0          0                0              0   \n",
      "2                 NaT            0          0                0              0   \n",
      "3                 NaT            0          0                0              0   \n",
      "4 2024-12-06 07:59:01            0        944               17             46   \n",
      "\n",
      "   is_verified  is_online  latitude  longitude  \n",
      "0        False       True                       \n",
      "1        False      False                       \n",
      "2        False      False                       \n",
      "3        False      False                       \n",
      "4        False      False                       \n",
      "\n",
      "[5 rows x 24 columns]\n"
     ]
    }
   ],
   "source": [
    "# Inspect the structure of all_users_df\n",
    "print(all_users_df.info())\n",
    "print(all_users_df.head())"
   ]
  },
  {
   "cell_type": "code",
   "execution_count": 29,
   "metadata": {},
   "outputs": [
    {
     "name": "stdout",
     "output_type": "stream",
     "text": [
      "Updated All Users Columns: ['id', 'username', 'email', 'role', 'isVerified', 'referral_code', 'has_wallet', 'last_login', 'share_count', 'post_count', 'following_count', 'follower_count', 'is_verified', 'is_online']\n",
      "   id   username                      email role  isVerified referral_code  \\\n",
      "0   1  afrobeezy    dadziemikke@outlook.com    A       False    afrob_dd42   \n",
      "1   2       doey             test@gmail.com    U       False                 \n",
      "2   3      doeyy            test1@gmail.com    U       False                 \n",
      "3   4     doeyyy                 code#gmail    U       False                 \n",
      "4   5      kinha  sachinkinha1913@gmail.com    A       False    kinha_f4ae   \n",
      "\n",
      "   has_wallet          last_login  share_count  post_count  following_count  \\\n",
      "0        True 2024-12-06 11:27:00            0          57                8   \n",
      "1       False                 NaT            0           0                0   \n",
      "2       False                 NaT            0           0                0   \n",
      "3       False                 NaT            0           0                0   \n",
      "4        True 2024-12-06 07:59:01            0         944               17   \n",
      "\n",
      "   follower_count  is_verified  is_online  \n",
      "0              20        False       True  \n",
      "1               0        False      False  \n",
      "2               0        False      False  \n",
      "3               0        False      False  \n",
      "4              46        False      False  \n"
     ]
    }
   ],
   "source": [
    "# Drop unnecessary columns\n",
    "columns_to_drop = [\n",
    "    'first_name', 'last_name', 'profile_url', 'bio', \n",
    "    'website_url', 'instagram-url', 'youtube_url', \n",
    "    'tictok_url', 'latitude', 'longitude'\n",
    "]\n",
    "all_users_df = all_users_df.drop(columns=columns_to_drop)\n",
    "\n",
    "# Display updated DataFrame\n",
    "print(\"Updated All Users Columns:\", all_users_df.columns.tolist())\n",
    "print(all_users_df.head())"
   ]
  },
  {
   "cell_type": "code",
   "execution_count": 30,
   "metadata": {},
   "outputs": [],
   "source": [
    "# Fill missing last_login values with a placeholder\n",
    "all_users_df['last_login'] = all_users_df['last_login'].fillna(\"Never Logged In\")"
   ]
  },
  {
   "cell_type": "code",
   "execution_count": 31,
   "metadata": {},
   "outputs": [
    {
     "name": "stdout",
     "output_type": "stream",
     "text": [
      "<class 'pandas.core.frame.DataFrame'>\n",
      "RangeIndex: 1207 entries, 0 to 1206\n",
      "Data columns (total 14 columns):\n",
      " #   Column           Non-Null Count  Dtype \n",
      "---  ------           --------------  ----- \n",
      " 0   id               1207 non-null   int64 \n",
      " 1   username         1207 non-null   object\n",
      " 2   email            1207 non-null   object\n",
      " 3   role             1207 non-null   object\n",
      " 4   isVerified       1207 non-null   bool  \n",
      " 5   referral_code    1207 non-null   object\n",
      " 6   has_wallet       1207 non-null   bool  \n",
      " 7   last_login       1207 non-null   object\n",
      " 8   share_count      1207 non-null   int64 \n",
      " 9   post_count       1207 non-null   int64 \n",
      " 10  following_count  1207 non-null   int64 \n",
      " 11  follower_count   1207 non-null   int64 \n",
      " 12  is_verified      1207 non-null   bool  \n",
      " 13  is_online        1207 non-null   bool  \n",
      "dtypes: bool(4), int64(5), object(5)\n",
      "memory usage: 99.1+ KB\n",
      "None\n",
      "id                 0\n",
      "username           0\n",
      "email              0\n",
      "role               0\n",
      "isVerified         0\n",
      "referral_code      0\n",
      "has_wallet         0\n",
      "last_login         0\n",
      "share_count        0\n",
      "post_count         0\n",
      "following_count    0\n",
      "follower_count     0\n",
      "is_verified        0\n",
      "is_online          0\n",
      "dtype: int64\n"
     ]
    }
   ],
   "source": [
    "# Verify the cleaned DataFrame\n",
    "print(all_users_df.info())\n",
    "print(all_users_df.isnull().sum())"
   ]
  },
  {
   "cell_type": "markdown",
   "metadata": {},
   "source": [
    "### Inspect all_posts_df"
   ]
  },
  {
   "cell_type": "code",
   "execution_count": 32,
   "metadata": {},
   "outputs": [
    {
     "name": "stdout",
     "output_type": "stream",
     "text": [
      "<class 'pandas.core.frame.DataFrame'>\n",
      "RangeIndex: 1251 entries, 0 to 1250\n",
      "Data columns (total 22 columns):\n",
      " #   Column            Non-Null Count  Dtype         \n",
      "---  ------            --------------  -----         \n",
      " 0   id                1251 non-null   int64         \n",
      " 1   title             1251 non-null   object        \n",
      " 2   upvote_count      1251 non-null   int64         \n",
      " 3   view_count        1251 non-null   int64         \n",
      " 4   rating_count      1251 non-null   int64         \n",
      " 5   average_rating    1251 non-null   int64         \n",
      " 6   share_count       1251 non-null   int64         \n",
      " 7   video_link        1251 non-null   object        \n",
      " 8   contract_address  1251 non-null   object        \n",
      " 9   chain_id          1251 non-null   object        \n",
      " 10  chart_url         1251 non-null   object        \n",
      " 11  baseToken         1251 non-null   object        \n",
      " 12  is_locked         1251 non-null   bool          \n",
      " 13  created_at        1251 non-null   datetime64[ns]\n",
      " 14  first_name        1251 non-null   object        \n",
      " 15  last_name         1251 non-null   object        \n",
      " 16  username          1251 non-null   object        \n",
      " 17  upvoted           1251 non-null   bool          \n",
      " 18  bookmarked        1251 non-null   bool          \n",
      " 19  following         1251 non-null   bool          \n",
      " 20  category_id       1251 non-null   int64         \n",
      " 21  category_name     1251 non-null   object        \n",
      "dtypes: bool(4), datetime64[ns](1), int64(7), object(10)\n",
      "memory usage: 180.9+ KB\n",
      "None\n",
      "   id                      title  upvote_count  view_count  rating_count  \\\n",
      "0  11    Recipe for a flow state            45          62             7   \n",
      "1  12              Why fit in..?            42          54             0   \n",
      "2  13   Transcending Singularity            20          75            45   \n",
      "3  14          Peak Performance?            71          95             6   \n",
      "4  15  Our Existential Situation            64          70             9   \n",
      "\n",
      "   average_rating  share_count  \\\n",
      "0              36            8   \n",
      "1               0            0   \n",
      "2               8            0   \n",
      "3              28            0   \n",
      "4              33            0   \n",
      "\n",
      "                                          video_link contract_address  \\\n",
      "0  https://video-cdn.socialverseapp.com/michael_9...                    \n",
      "1  https://video-cdn.socialverseapp.com/michael_5...                    \n",
      "2  https://video-cdn.socialverseapp.com/michael_5...                    \n",
      "3  https://video-cdn.socialverseapp.com/michael_4...                    \n",
      "4  https://video-cdn.socialverseapp.com/michael_b...                    \n",
      "\n",
      "  chain_id  ... is_locked                 created_at  first_name last_name  \\\n",
      "0           ...     False 1970-01-01 00:28:18.088807     Michael    Dadzie   \n",
      "1           ...     False 1970-01-01 00:28:18.096725     Michael    Dadzie   \n",
      "2           ...     False 1970-01-01 00:28:18.097013     Michael    Dadzie   \n",
      "3           ...     False 1970-01-01 00:28:18.097687     Michael    Dadzie   \n",
      "4           ...     False 1970-01-01 00:28:18.098168     Michael    Dadzie   \n",
      "\n",
      "    username upvoted bookmarked  following  category_id  category_name  \n",
      "0  afrobeezy    True      False       True            2          Vible  \n",
      "1  afrobeezy   False      False       True            2          Vible  \n",
      "2  afrobeezy   False      False       True            2          Vible  \n",
      "3  afrobeezy   False      False       True            2          Vible  \n",
      "4  afrobeezy   False      False       True            2          Vible  \n",
      "\n",
      "[5 rows x 22 columns]\n"
     ]
    }
   ],
   "source": [
    "# Inspect the structure of all_posts_df\n",
    "print(all_posts_df.info())\n",
    "print(all_posts_df.head())"
   ]
  },
  {
   "cell_type": "code",
   "execution_count": 33,
   "metadata": {},
   "outputs": [
    {
     "name": "stdout",
     "output_type": "stream",
     "text": [
      "Updated All Posts Columns: ['id', 'title', 'upvote_count', 'view_count', 'rating_count', 'average_rating', 'share_count', 'video_link', 'is_locked', 'created_at', 'category_id', 'category_name']\n",
      "   id                      title  upvote_count  view_count  rating_count  \\\n",
      "0  11    Recipe for a flow state            45          62             7   \n",
      "1  12              Why fit in..?            42          54             0   \n",
      "2  13   Transcending Singularity            20          75            45   \n",
      "3  14          Peak Performance?            71          95             6   \n",
      "4  15  Our Existential Situation            64          70             9   \n",
      "\n",
      "   average_rating  share_count  \\\n",
      "0              36            8   \n",
      "1               0            0   \n",
      "2               8            0   \n",
      "3              28            0   \n",
      "4              33            0   \n",
      "\n",
      "                                          video_link  is_locked  \\\n",
      "0  https://video-cdn.socialverseapp.com/michael_9...      False   \n",
      "1  https://video-cdn.socialverseapp.com/michael_5...      False   \n",
      "2  https://video-cdn.socialverseapp.com/michael_5...      False   \n",
      "3  https://video-cdn.socialverseapp.com/michael_4...      False   \n",
      "4  https://video-cdn.socialverseapp.com/michael_b...      False   \n",
      "\n",
      "                  created_at  category_id category_name  \n",
      "0 1970-01-01 00:28:18.088807            2         Vible  \n",
      "1 1970-01-01 00:28:18.096725            2         Vible  \n",
      "2 1970-01-01 00:28:18.097013            2         Vible  \n",
      "3 1970-01-01 00:28:18.097687            2         Vible  \n",
      "4 1970-01-01 00:28:18.098168            2         Vible  \n"
     ]
    }
   ],
   "source": [
    "# Drop unnecessary columns\n",
    "columns_to_drop = [\n",
    "    'contract_address', 'chain_id', 'chart_url', 'baseToken', \n",
    "    'first_name', 'last_name', 'username', \n",
    "    'upvoted', 'bookmarked', 'following'\n",
    "]\n",
    "all_posts_df = all_posts_df.drop(columns=columns_to_drop)\n",
    "\n",
    "# Display the updated DataFrame\n",
    "print(\"Updated All Posts Columns:\", all_posts_df.columns.tolist())\n",
    "print(all_posts_df.head())"
   ]
  },
  {
   "cell_type": "code",
   "execution_count": 34,
   "metadata": {},
   "outputs": [
    {
     "name": "stdout",
     "output_type": "stream",
     "text": [
      "Missing Values in all_posts_df:\n",
      "id                0\n",
      "title             0\n",
      "upvote_count      0\n",
      "view_count        0\n",
      "rating_count      0\n",
      "average_rating    0\n",
      "share_count       0\n",
      "video_link        0\n",
      "is_locked         0\n",
      "created_at        0\n",
      "category_id       0\n",
      "category_name     0\n",
      "dtype: int64\n"
     ]
    }
   ],
   "source": [
    "# Check for missing values\n",
    "print(\"Missing Values in all_posts_df:\")\n",
    "print(all_posts_df.isnull().sum())"
   ]
  },
  {
   "cell_type": "code",
   "execution_count": 35,
   "metadata": {},
   "outputs": [
    {
     "name": "stdout",
     "output_type": "stream",
     "text": [
      "Earliest post creation: 1970-01-01 00:28:18.088807\n",
      "Latest post creation: 1970-01-01 00:28:53.557388\n"
     ]
    }
   ],
   "source": [
    "# Check the range of created_at\n",
    "print(\"Earliest post creation:\", all_posts_df['created_at'].min())\n",
    "print(\"Latest post creation:\", all_posts_df['created_at'].max())"
   ]
  },
  {
   "cell_type": "markdown",
   "metadata": {},
   "source": [
    "### User-Level Features"
   ]
  },
  {
   "cell_type": "code",
   "execution_count": 36,
   "metadata": {},
   "outputs": [
    {
     "name": "stdout",
     "output_type": "stream",
     "text": [
      "   user_id  total_views  total_likes  total_inspirations  total_ratings  \\\n",
      "0        1          213          139                  98            292   \n",
      "1        5          148           65                  19            187   \n",
      "2        9           50           90                   5            143   \n",
      "3       16           29            7                   0             19   \n",
      "4       18          101           96                  24            217   \n",
      "\n",
      "   average_rating  \n",
      "0       50.273973  \n",
      "1       31.919786  \n",
      "2       51.951049  \n",
      "3       41.947368  \n",
      "4       32.732719  \n"
     ]
    },
    {
     "name": "stderr",
     "output_type": "stream",
     "text": [
      "/tmp/ipykernel_33891/1622819506.py:11: FutureWarning: Downcasting object dtype arrays on .fillna, .ffill, .bfill is deprecated and will change in a future version. Call result.infer_objects(copy=False) instead. To opt-in to the future behavior, set `pd.set_option('future.no_silent_downcasting', True)`\n",
      "  user_features['average_rating'] = user_features['average_rating'].fillna(0)\n"
     ]
    }
   ],
   "source": [
    "# Aggregate user interactions\n",
    "user_features = interaction_df.groupby('user_id').agg(\n",
    "    total_views=('interaction_type', lambda x: (x == 'viewed').sum()),\n",
    "    total_likes=('interaction_type', lambda x: (x == 'liked').sum()),\n",
    "    total_inspirations=('interaction_type', lambda x: (x == 'inspired').sum()),\n",
    "    total_ratings=('interaction_type', lambda x: (x == 'rated').sum()),\n",
    "    average_rating=('rating_percent', 'mean')  # Only applicable for 'rated'\n",
    ").reset_index()\n",
    "\n",
    "# Fill NaN values in average_rating with 0 (for users with no ratings)\n",
    "user_features['average_rating'] = user_features['average_rating'].fillna(0)\n",
    "\n",
    "# Display the user_features DataFrame\n",
    "print(user_features.head())"
   ]
  },
  {
   "cell_type": "markdown",
   "metadata": {},
   "source": [
    "### Post-Level Features"
   ]
  },
  {
   "cell_type": "code",
   "execution_count": 37,
   "metadata": {},
   "outputs": [
    {
     "name": "stdout",
     "output_type": "stream",
     "text": [
      "   id                      title  upvote_count  view_count  rating_count  \\\n",
      "0  11    Recipe for a flow state            45          62             7   \n",
      "1  12              Why fit in..?            42          54             0   \n",
      "2  13   Transcending Singularity            20          75            45   \n",
      "3  14          Peak Performance?            71          95             6   \n",
      "4  15  Our Existential Situation            64          70             9   \n",
      "\n",
      "   average_rating_all_posts  share_count  \\\n",
      "0                        36            8   \n",
      "1                         0            0   \n",
      "2                         8            0   \n",
      "3                        28            0   \n",
      "4                        33            0   \n",
      "\n",
      "                                          video_link  is_locked  \\\n",
      "0  https://video-cdn.socialverseapp.com/michael_9...      False   \n",
      "1  https://video-cdn.socialverseapp.com/michael_5...      False   \n",
      "2  https://video-cdn.socialverseapp.com/michael_5...      False   \n",
      "3  https://video-cdn.socialverseapp.com/michael_4...      False   \n",
      "4  https://video-cdn.socialverseapp.com/michael_b...      False   \n",
      "\n",
      "                  created_at  category_id category_name  post_id  total_views  \\\n",
      "0 1970-01-01 00:28:18.088807            2         Vible     11.0         10.0   \n",
      "1 1970-01-01 00:28:18.096725            2         Vible     12.0          1.0   \n",
      "2 1970-01-01 00:28:18.097013            2         Vible     13.0         57.0   \n",
      "3 1970-01-01 00:28:18.097687            2         Vible     14.0          4.0   \n",
      "4 1970-01-01 00:28:18.098168            2         Vible     15.0          8.0   \n",
      "\n",
      "   total_likes  total_inspirations  total_ratings  average_rating_features  \n",
      "0          2.0                 0.0            7.0                39.571429  \n",
      "1          2.0                 0.0            0.0                 0.000000  \n",
      "2          0.0                 0.0           44.0                20.977273  \n",
      "3          2.0                 1.0            6.0                33.333333  \n",
      "4          1.0                 0.0            9.0                37.888889  \n"
     ]
    },
    {
     "name": "stderr",
     "output_type": "stream",
     "text": [
      "/tmp/ipykernel_33891/2895652711.py:11: FutureWarning: Downcasting object dtype arrays on .fillna, .ffill, .bfill is deprecated and will change in a future version. Call result.infer_objects(copy=False) instead. To opt-in to the future behavior, set `pd.set_option('future.no_silent_downcasting', True)`\n",
      "  post_features['average_rating'] = post_features['average_rating'].fillna(0).astype(post_features['average_rating'].dtype)\n",
      "/tmp/ipykernel_33891/2895652711.py:37: FutureWarning: Downcasting object dtype arrays on .fillna, .ffill, .bfill is deprecated and will change in a future version. Call result.infer_objects(copy=False) instead. To opt-in to the future behavior, set `pd.set_option('future.no_silent_downcasting', True)`\n",
      "  all_posts_with_features[interaction_columns] = all_posts_with_features[interaction_columns].fillna(0)\n"
     ]
    }
   ],
   "source": [
    "# Aggregate post interactions\n",
    "post_features = interaction_df.groupby('post_id').agg(\n",
    "    total_views=('interaction_type', lambda x: (x == 'viewed').sum()),\n",
    "    total_likes=('interaction_type', lambda x: (x == 'liked').sum()),\n",
    "    total_inspirations=('interaction_type', lambda x: (x == 'inspired').sum()),\n",
    "    total_ratings=('interaction_type', lambda x: (x == 'rated').sum()),\n",
    "    average_rating=('rating_percent', 'mean')  # Only for rated posts\n",
    ").reset_index()\n",
    "\n",
    "# Fill NaN values in average_rating with 0 (for posts with no ratings)\n",
    "post_features['average_rating'] = post_features['average_rating'].fillna(0).astype(post_features['average_rating'].dtype)\n",
    "\n",
    "# Merge post features with all_posts_df\n",
    "all_posts_with_features = pd.merge(\n",
    "    all_posts_df,\n",
    "    post_features,\n",
    "    left_on='id',\n",
    "    right_on='post_id',\n",
    "    how='left'\n",
    ")\n",
    "\n",
    "# Rename conflicting average_rating columns for clarity\n",
    "all_posts_with_features.rename(\n",
    "    columns={\n",
    "        'average_rating_x': 'average_rating_all_posts',   # From all_posts_df\n",
    "        'average_rating_y': 'average_rating_features'    # From post_features\n",
    "    },\n",
    "    inplace=True\n",
    ")\n",
    "\n",
    "# Choose the appropriate average_rating column (e.g., from post_features)\n",
    "interaction_columns = [\n",
    "    'total_views', 'total_likes', 'total_inspirations', 'total_ratings', 'average_rating_features'\n",
    "]\n",
    "\n",
    "# Fill NaN for interaction columns with 0 (e.g., no views, likes, etc.)\n",
    "all_posts_with_features[interaction_columns] = all_posts_with_features[interaction_columns].fillna(0)\n",
    "\n",
    "# Optionally, drop unnecessary columns if not needed\n",
    "# all_posts_with_features.drop(columns=['average_rating_all_posts'], inplace=True)\n",
    "\n",
    "# Display the resulting DataFrame\n",
    "print(all_posts_with_features.head())"
   ]
  },
  {
   "cell_type": "code",
   "execution_count": 38,
   "metadata": {},
   "outputs": [],
   "source": [
    "processed_dir = \"../data/processed\"\n",
    "os.makedirs(processed_dir, exist_ok=True)"
   ]
  },
  {
   "cell_type": "code",
   "execution_count": 39,
   "metadata": {},
   "outputs": [],
   "source": [
    "all_posts_with_features.to_csv(f\"{processed_dir}/all_posts_with_features.csv\", index=False)"
   ]
  },
  {
   "cell_type": "code",
   "execution_count": 40,
   "metadata": {},
   "outputs": [],
   "source": [
    "interaction_df.to_csv(f\"{processed_dir}/interaction_df.csv\", index=False)"
   ]
  }
 ],
 "metadata": {
  "kernelspec": {
   "display_name": "Python (vid_recom)",
   "language": "python",
   "name": "vid_recom"
  },
  "language_info": {
   "codemirror_mode": {
    "name": "ipython",
    "version": 3
   },
   "file_extension": ".py",
   "mimetype": "text/x-python",
   "name": "python",
   "nbconvert_exporter": "python",
   "pygments_lexer": "ipython3",
   "version": "3.10.12"
  }
 },
 "nbformat": 4,
 "nbformat_minor": 2
}
