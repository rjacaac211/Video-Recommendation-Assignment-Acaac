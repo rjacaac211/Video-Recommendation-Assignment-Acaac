{
 "cells": [
  {
   "cell_type": "code",
   "execution_count": 1,
   "metadata": {},
   "outputs": [],
   "source": [
    "import pandas as pd"
   ]
  },
  {
   "cell_type": "code",
   "execution_count": 2,
   "metadata": {},
   "outputs": [
    {
     "name": "stdout",
     "output_type": "stream",
     "text": [
      "<class 'pandas.core.frame.DataFrame'>\n",
      "RangeIndex: 1251 entries, 0 to 1250\n",
      "Data columns (total 18 columns):\n",
      " #   Column                    Non-Null Count  Dtype  \n",
      "---  ------                    --------------  -----  \n",
      " 0   id                        1251 non-null   int64  \n",
      " 1   title                     925 non-null    object \n",
      " 2   upvote_count              1251 non-null   int64  \n",
      " 3   view_count                1251 non-null   int64  \n",
      " 4   rating_count              1251 non-null   int64  \n",
      " 5   average_rating_all_posts  1251 non-null   int64  \n",
      " 6   share_count               1251 non-null   int64  \n",
      " 7   video_link                1251 non-null   object \n",
      " 8   is_locked                 1251 non-null   bool   \n",
      " 9   created_at                1251 non-null   object \n",
      " 10  category_id               1251 non-null   int64  \n",
      " 11  category_name             1251 non-null   object \n",
      " 12  post_id                   835 non-null    float64\n",
      " 13  total_views               1251 non-null   float64\n",
      " 14  total_likes               1251 non-null   float64\n",
      " 15  total_inspirations        1251 non-null   float64\n",
      " 16  total_ratings             1251 non-null   float64\n",
      " 17  average_rating_features   1251 non-null   float64\n",
      "dtypes: bool(1), float64(6), int64(7), object(4)\n",
      "memory usage: 167.5+ KB\n"
     ]
    },
    {
     "data": {
      "text/plain": [
       "None"
      ]
     },
     "metadata": {},
     "output_type": "display_data"
    },
    {
     "data": {
      "text/html": [
       "<div>\n",
       "<style scoped>\n",
       "    .dataframe tbody tr th:only-of-type {\n",
       "        vertical-align: middle;\n",
       "    }\n",
       "\n",
       "    .dataframe tbody tr th {\n",
       "        vertical-align: top;\n",
       "    }\n",
       "\n",
       "    .dataframe thead th {\n",
       "        text-align: right;\n",
       "    }\n",
       "</style>\n",
       "<table border=\"1\" class=\"dataframe\">\n",
       "  <thead>\n",
       "    <tr style=\"text-align: right;\">\n",
       "      <th></th>\n",
       "      <th>id</th>\n",
       "      <th>title</th>\n",
       "      <th>upvote_count</th>\n",
       "      <th>view_count</th>\n",
       "      <th>rating_count</th>\n",
       "      <th>average_rating_all_posts</th>\n",
       "      <th>share_count</th>\n",
       "      <th>video_link</th>\n",
       "      <th>is_locked</th>\n",
       "      <th>created_at</th>\n",
       "      <th>category_id</th>\n",
       "      <th>category_name</th>\n",
       "      <th>post_id</th>\n",
       "      <th>total_views</th>\n",
       "      <th>total_likes</th>\n",
       "      <th>total_inspirations</th>\n",
       "      <th>total_ratings</th>\n",
       "      <th>average_rating_features</th>\n",
       "    </tr>\n",
       "  </thead>\n",
       "  <tbody>\n",
       "    <tr>\n",
       "      <th>0</th>\n",
       "      <td>11</td>\n",
       "      <td>Recipe for a flow state</td>\n",
       "      <td>45</td>\n",
       "      <td>62</td>\n",
       "      <td>7</td>\n",
       "      <td>36</td>\n",
       "      <td>8</td>\n",
       "      <td>https://video-cdn.socialverseapp.com/michael_9...</td>\n",
       "      <td>False</td>\n",
       "      <td>1970-01-01 00:28:18.088807</td>\n",
       "      <td>2</td>\n",
       "      <td>Vible</td>\n",
       "      <td>11.0</td>\n",
       "      <td>10.0</td>\n",
       "      <td>2.0</td>\n",
       "      <td>0.0</td>\n",
       "      <td>7.0</td>\n",
       "      <td>39.571429</td>\n",
       "    </tr>\n",
       "    <tr>\n",
       "      <th>1</th>\n",
       "      <td>12</td>\n",
       "      <td>Why fit in..?</td>\n",
       "      <td>42</td>\n",
       "      <td>54</td>\n",
       "      <td>0</td>\n",
       "      <td>0</td>\n",
       "      <td>0</td>\n",
       "      <td>https://video-cdn.socialverseapp.com/michael_5...</td>\n",
       "      <td>False</td>\n",
       "      <td>1970-01-01 00:28:18.096725</td>\n",
       "      <td>2</td>\n",
       "      <td>Vible</td>\n",
       "      <td>12.0</td>\n",
       "      <td>1.0</td>\n",
       "      <td>2.0</td>\n",
       "      <td>0.0</td>\n",
       "      <td>0.0</td>\n",
       "      <td>0.000000</td>\n",
       "    </tr>\n",
       "    <tr>\n",
       "      <th>2</th>\n",
       "      <td>13</td>\n",
       "      <td>Transcending Singularity</td>\n",
       "      <td>20</td>\n",
       "      <td>75</td>\n",
       "      <td>45</td>\n",
       "      <td>8</td>\n",
       "      <td>0</td>\n",
       "      <td>https://video-cdn.socialverseapp.com/michael_5...</td>\n",
       "      <td>False</td>\n",
       "      <td>1970-01-01 00:28:18.097013</td>\n",
       "      <td>2</td>\n",
       "      <td>Vible</td>\n",
       "      <td>13.0</td>\n",
       "      <td>57.0</td>\n",
       "      <td>0.0</td>\n",
       "      <td>0.0</td>\n",
       "      <td>44.0</td>\n",
       "      <td>20.977273</td>\n",
       "    </tr>\n",
       "    <tr>\n",
       "      <th>3</th>\n",
       "      <td>14</td>\n",
       "      <td>Peak Performance?</td>\n",
       "      <td>71</td>\n",
       "      <td>95</td>\n",
       "      <td>6</td>\n",
       "      <td>28</td>\n",
       "      <td>0</td>\n",
       "      <td>https://video-cdn.socialverseapp.com/michael_4...</td>\n",
       "      <td>False</td>\n",
       "      <td>1970-01-01 00:28:18.097687</td>\n",
       "      <td>2</td>\n",
       "      <td>Vible</td>\n",
       "      <td>14.0</td>\n",
       "      <td>4.0</td>\n",
       "      <td>2.0</td>\n",
       "      <td>1.0</td>\n",
       "      <td>6.0</td>\n",
       "      <td>33.333333</td>\n",
       "    </tr>\n",
       "    <tr>\n",
       "      <th>4</th>\n",
       "      <td>15</td>\n",
       "      <td>Our Existential Situation</td>\n",
       "      <td>64</td>\n",
       "      <td>70</td>\n",
       "      <td>9</td>\n",
       "      <td>33</td>\n",
       "      <td>0</td>\n",
       "      <td>https://video-cdn.socialverseapp.com/michael_b...</td>\n",
       "      <td>False</td>\n",
       "      <td>1970-01-01 00:28:18.098168</td>\n",
       "      <td>2</td>\n",
       "      <td>Vible</td>\n",
       "      <td>15.0</td>\n",
       "      <td>8.0</td>\n",
       "      <td>1.0</td>\n",
       "      <td>0.0</td>\n",
       "      <td>9.0</td>\n",
       "      <td>37.888889</td>\n",
       "    </tr>\n",
       "  </tbody>\n",
       "</table>\n",
       "</div>"
      ],
      "text/plain": [
       "   id                      title  upvote_count  view_count  rating_count  \\\n",
       "0  11    Recipe for a flow state            45          62             7   \n",
       "1  12              Why fit in..?            42          54             0   \n",
       "2  13   Transcending Singularity            20          75            45   \n",
       "3  14          Peak Performance?            71          95             6   \n",
       "4  15  Our Existential Situation            64          70             9   \n",
       "\n",
       "   average_rating_all_posts  share_count  \\\n",
       "0                        36            8   \n",
       "1                         0            0   \n",
       "2                         8            0   \n",
       "3                        28            0   \n",
       "4                        33            0   \n",
       "\n",
       "                                          video_link  is_locked  \\\n",
       "0  https://video-cdn.socialverseapp.com/michael_9...      False   \n",
       "1  https://video-cdn.socialverseapp.com/michael_5...      False   \n",
       "2  https://video-cdn.socialverseapp.com/michael_5...      False   \n",
       "3  https://video-cdn.socialverseapp.com/michael_4...      False   \n",
       "4  https://video-cdn.socialverseapp.com/michael_b...      False   \n",
       "\n",
       "                   created_at  category_id category_name  post_id  \\\n",
       "0  1970-01-01 00:28:18.088807            2         Vible     11.0   \n",
       "1  1970-01-01 00:28:18.096725            2         Vible     12.0   \n",
       "2  1970-01-01 00:28:18.097013            2         Vible     13.0   \n",
       "3  1970-01-01 00:28:18.097687            2         Vible     14.0   \n",
       "4  1970-01-01 00:28:18.098168            2         Vible     15.0   \n",
       "\n",
       "   total_views  total_likes  total_inspirations  total_ratings  \\\n",
       "0         10.0          2.0                 0.0            7.0   \n",
       "1          1.0          2.0                 0.0            0.0   \n",
       "2         57.0          0.0                 0.0           44.0   \n",
       "3          4.0          2.0                 1.0            6.0   \n",
       "4          8.0          1.0                 0.0            9.0   \n",
       "\n",
       "   average_rating_features  \n",
       "0                39.571429  \n",
       "1                 0.000000  \n",
       "2                20.977273  \n",
       "3                33.333333  \n",
       "4                37.888889  "
      ]
     },
     "metadata": {},
     "output_type": "display_data"
    }
   ],
   "source": [
    "# Load the dataset\n",
    "posts_df = pd.read_csv(\"../data/processed/all_posts_with_features.csv\")\n",
    "\n",
    "# Inspect the structure\n",
    "display(posts_df.info())\n",
    "display(posts_df.head())"
   ]
  },
  {
   "cell_type": "code",
   "execution_count": 3,
   "metadata": {},
   "outputs": [
    {
     "name": "stdout",
     "output_type": "stream",
     "text": [
      "<class 'pandas.core.frame.DataFrame'>\n",
      "RangeIndex: 1251 entries, 0 to 1250\n",
      "Data columns (total 6 columns):\n",
      " #   Column                   Non-Null Count  Dtype  \n",
      "---  ------                   --------------  -----  \n",
      " 0   id                       1251 non-null   int64  \n",
      " 1   title                    1251 non-null   object \n",
      " 2   category_name            1251 non-null   object \n",
      " 3   view_count               1251 non-null   int64  \n",
      " 4   total_likes              1251 non-null   float64\n",
      " 5   average_rating_features  1251 non-null   float64\n",
      "dtypes: float64(2), int64(2), object(2)\n",
      "memory usage: 58.8+ KB\n"
     ]
    },
    {
     "name": "stderr",
     "output_type": "stream",
     "text": [
      "/tmp/ipykernel_29264/3663522288.py:5: SettingWithCopyWarning: \n",
      "A value is trying to be set on a copy of a slice from a DataFrame.\n",
      "Try using .loc[row_indexer,col_indexer] = value instead\n",
      "\n",
      "See the caveats in the documentation: https://pandas.pydata.org/pandas-docs/stable/user_guide/indexing.html#returning-a-view-versus-a-copy\n",
      "  content_features['title'] = content_features['title'].fillna(\"Unknown\")\n"
     ]
    },
    {
     "data": {
      "text/plain": [
       "None"
      ]
     },
     "metadata": {},
     "output_type": "display_data"
    },
    {
     "data": {
      "text/html": [
       "<div>\n",
       "<style scoped>\n",
       "    .dataframe tbody tr th:only-of-type {\n",
       "        vertical-align: middle;\n",
       "    }\n",
       "\n",
       "    .dataframe tbody tr th {\n",
       "        vertical-align: top;\n",
       "    }\n",
       "\n",
       "    .dataframe thead th {\n",
       "        text-align: right;\n",
       "    }\n",
       "</style>\n",
       "<table border=\"1\" class=\"dataframe\">\n",
       "  <thead>\n",
       "    <tr style=\"text-align: right;\">\n",
       "      <th></th>\n",
       "      <th>id</th>\n",
       "      <th>title</th>\n",
       "      <th>category_name</th>\n",
       "      <th>view_count</th>\n",
       "      <th>total_likes</th>\n",
       "      <th>average_rating_features</th>\n",
       "    </tr>\n",
       "  </thead>\n",
       "  <tbody>\n",
       "    <tr>\n",
       "      <th>0</th>\n",
       "      <td>11</td>\n",
       "      <td>Recipe for a flow state</td>\n",
       "      <td>Vible</td>\n",
       "      <td>62</td>\n",
       "      <td>2.0</td>\n",
       "      <td>39.571429</td>\n",
       "    </tr>\n",
       "    <tr>\n",
       "      <th>1</th>\n",
       "      <td>12</td>\n",
       "      <td>Why fit in..?</td>\n",
       "      <td>Vible</td>\n",
       "      <td>54</td>\n",
       "      <td>2.0</td>\n",
       "      <td>0.000000</td>\n",
       "    </tr>\n",
       "    <tr>\n",
       "      <th>2</th>\n",
       "      <td>13</td>\n",
       "      <td>Transcending Singularity</td>\n",
       "      <td>Vible</td>\n",
       "      <td>75</td>\n",
       "      <td>0.0</td>\n",
       "      <td>20.977273</td>\n",
       "    </tr>\n",
       "    <tr>\n",
       "      <th>3</th>\n",
       "      <td>14</td>\n",
       "      <td>Peak Performance?</td>\n",
       "      <td>Vible</td>\n",
       "      <td>95</td>\n",
       "      <td>2.0</td>\n",
       "      <td>33.333333</td>\n",
       "    </tr>\n",
       "    <tr>\n",
       "      <th>4</th>\n",
       "      <td>15</td>\n",
       "      <td>Our Existential Situation</td>\n",
       "      <td>Vible</td>\n",
       "      <td>70</td>\n",
       "      <td>1.0</td>\n",
       "      <td>37.888889</td>\n",
       "    </tr>\n",
       "  </tbody>\n",
       "</table>\n",
       "</div>"
      ],
      "text/plain": [
       "   id                      title category_name  view_count  total_likes  \\\n",
       "0  11    Recipe for a flow state         Vible          62          2.0   \n",
       "1  12              Why fit in..?         Vible          54          2.0   \n",
       "2  13   Transcending Singularity         Vible          75          0.0   \n",
       "3  14          Peak Performance?         Vible          95          2.0   \n",
       "4  15  Our Existential Situation         Vible          70          1.0   \n",
       "\n",
       "   average_rating_features  \n",
       "0                39.571429  \n",
       "1                 0.000000  \n",
       "2                20.977273  \n",
       "3                33.333333  \n",
       "4                37.888889  "
      ]
     },
     "metadata": {},
     "output_type": "display_data"
    }
   ],
   "source": [
    "# Select relevant features for recommendation\n",
    "content_features = posts_df[['id', 'title', 'category_name', 'view_count', 'total_likes', 'average_rating_features']]\n",
    "\n",
    "# Handle missing values (fill missing titles with \"Unknown\")\n",
    "content_features['title'] = content_features['title'].fillna(\"Unknown\")\n",
    "\n",
    "# Display the selected features\n",
    "display(content_features.info())\n",
    "display(content_features.head())"
   ]
  },
  {
   "cell_type": "code",
   "execution_count": 4,
   "metadata": {},
   "outputs": [
    {
     "name": "stderr",
     "output_type": "stream",
     "text": [
      "[nltk_data] Downloading package punkt to /home/rjacaac/nltk_data...\n",
      "[nltk_data]   Package punkt is already up-to-date!\n",
      "[nltk_data] Downloading package stopwords to\n",
      "[nltk_data]     /home/rjacaac/nltk_data...\n",
      "[nltk_data]   Package stopwords is already up-to-date!\n",
      "[nltk_data] Downloading package wordnet to /home/rjacaac/nltk_data...\n",
      "[nltk_data]   Package wordnet is already up-to-date!\n"
     ]
    },
    {
     "data": {
      "text/plain": [
       "True"
      ]
     },
     "execution_count": 4,
     "metadata": {},
     "output_type": "execute_result"
    }
   ],
   "source": [
    "import string\n",
    "from nltk.corpus import stopwords\n",
    "from nltk.tokenize import TreebankWordTokenizer\n",
    "from nltk.stem import WordNetLemmatizer\n",
    "\n",
    "# Download required NLTK resources (if not already downloaded)\n",
    "import nltk\n",
    "nltk.download('punkt')\n",
    "nltk.download('stopwords')\n",
    "nltk.download('wordnet')"
   ]
  },
  {
   "cell_type": "code",
   "execution_count": null,
   "metadata": {},
   "outputs": [
    {
     "name": "stdout",
     "output_type": "stream",
     "text": [
      "['/home/rjacaac/nltk_data', '/mnt/d/Users/RJ/Career_Growth/Career Development/Job application/Internshala/AI Intern at Persist Ventures/Video-Recommendation-Assignment-Acaac/venv/nltk_data', '/mnt/d/Users/RJ/Career_Growth/Career Development/Job application/Internshala/AI Intern at Persist Ventures/Video-Recommendation-Assignment-Acaac/venv/share/nltk_data', '/mnt/d/Users/RJ/Career_Growth/Career Development/Job application/Internshala/AI Intern at Persist Ventures/Video-Recommendation-Assignment-Acaac/venv/lib/nltk_data', '/usr/share/nltk_data', '/usr/local/share/nltk_data', '/usr/lib/nltk_data', '/usr/local/lib/nltk_data']\n"
     ]
    }
   ],
   "source": [
    "# print(nltk.data.path)"
   ]
  },
  {
   "cell_type": "code",
   "execution_count": null,
   "metadata": {},
   "outputs": [],
   "source": [
    "# nltk.data.path.append('/home/rjacaac/nltk_data')"
   ]
  },
  {
   "cell_type": "code",
   "execution_count": null,
   "metadata": {},
   "outputs": [
    {
     "name": "stdout",
     "output_type": "stream",
     "text": [
      "PY3\t\testonian.pickle  malayalam.pickle   spanish.pickle\n",
      "README\t\tfinnish.pickle\t norwegian.pickle   swedish.pickle\n",
      "czech.pickle\tfrench.pickle\t polish.pickle\t    turkish.pickle\n",
      "danish.pickle\tgerman.pickle\t portuguese.pickle\n",
      "dutch.pickle\tgreek.pickle\t russian.pickle\n",
      "english.pickle\titalian.pickle\t slovene.pickle\n"
     ]
    }
   ],
   "source": [
    "# !ls /home/rjacaac/nltk_data/tokenizers/punkt"
   ]
  },
  {
   "cell_type": "code",
   "execution_count": 5,
   "metadata": {},
   "outputs": [],
   "source": [
    "# Initialize lemmatizer and stop words\n",
    "lemmatizer = WordNetLemmatizer()\n",
    "stop_words = set(stopwords.words('english'))"
   ]
  },
  {
   "cell_type": "code",
   "execution_count": 6,
   "metadata": {},
   "outputs": [],
   "source": [
    "tokenizer = TreebankWordTokenizer()\n",
    "\n",
    "def preprocess_text(text):\n",
    "    text = text.lower()\n",
    "    text = text.translate(str.maketrans('', '', string.punctuation))\n",
    "    tokens = [word for word in tokenizer.tokenize(text) if word not in stop_words]\n",
    "    lemmatized = [lemmatizer.lemmatize(token) for token in tokens]\n",
    "    return ' '.join(lemmatized)"
   ]
  },
  {
   "cell_type": "code",
   "execution_count": 7,
   "metadata": {},
   "outputs": [
    {
     "name": "stderr",
     "output_type": "stream",
     "text": [
      "/tmp/ipykernel_29264/3189204167.py:2: SettingWithCopyWarning: \n",
      "A value is trying to be set on a copy of a slice from a DataFrame.\n",
      "Try using .loc[row_indexer,col_indexer] = value instead\n",
      "\n",
      "See the caveats in the documentation: https://pandas.pydata.org/pandas-docs/stable/user_guide/indexing.html#returning-a-view-versus-a-copy\n",
      "  content_features['processed_title'] = content_features['title'].apply(preprocess_text)\n"
     ]
    },
    {
     "data": {
      "text/html": [
       "<div>\n",
       "<style scoped>\n",
       "    .dataframe tbody tr th:only-of-type {\n",
       "        vertical-align: middle;\n",
       "    }\n",
       "\n",
       "    .dataframe tbody tr th {\n",
       "        vertical-align: top;\n",
       "    }\n",
       "\n",
       "    .dataframe thead th {\n",
       "        text-align: right;\n",
       "    }\n",
       "</style>\n",
       "<table border=\"1\" class=\"dataframe\">\n",
       "  <thead>\n",
       "    <tr style=\"text-align: right;\">\n",
       "      <th></th>\n",
       "      <th>id</th>\n",
       "      <th>title</th>\n",
       "      <th>processed_title</th>\n",
       "    </tr>\n",
       "  </thead>\n",
       "  <tbody>\n",
       "    <tr>\n",
       "      <th>0</th>\n",
       "      <td>11</td>\n",
       "      <td>Recipe for a flow state</td>\n",
       "      <td>recipe flow state</td>\n",
       "    </tr>\n",
       "    <tr>\n",
       "      <th>1</th>\n",
       "      <td>12</td>\n",
       "      <td>Why fit in..?</td>\n",
       "      <td>fit</td>\n",
       "    </tr>\n",
       "    <tr>\n",
       "      <th>2</th>\n",
       "      <td>13</td>\n",
       "      <td>Transcending Singularity</td>\n",
       "      <td>transcending singularity</td>\n",
       "    </tr>\n",
       "    <tr>\n",
       "      <th>3</th>\n",
       "      <td>14</td>\n",
       "      <td>Peak Performance?</td>\n",
       "      <td>peak performance</td>\n",
       "    </tr>\n",
       "    <tr>\n",
       "      <th>4</th>\n",
       "      <td>15</td>\n",
       "      <td>Our Existential Situation</td>\n",
       "      <td>existential situation</td>\n",
       "    </tr>\n",
       "  </tbody>\n",
       "</table>\n",
       "</div>"
      ],
      "text/plain": [
       "   id                      title           processed_title\n",
       "0  11    Recipe for a flow state         recipe flow state\n",
       "1  12              Why fit in..?                       fit\n",
       "2  13   Transcending Singularity  transcending singularity\n",
       "3  14          Peak Performance?          peak performance\n",
       "4  15  Our Existential Situation     existential situation"
      ]
     },
     "execution_count": 7,
     "metadata": {},
     "output_type": "execute_result"
    }
   ],
   "source": [
    "# Apply preprocessing to the title column\n",
    "content_features['processed_title'] = content_features['title'].apply(preprocess_text)\n",
    "\n",
    "# Display the updated DataFrame\n",
    "content_features[['id', 'title', 'processed_title']].head()"
   ]
  },
  {
   "cell_type": "code",
   "execution_count": 10,
   "metadata": {},
   "outputs": [],
   "source": [
    "content_features = content_features.copy()"
   ]
  },
  {
   "cell_type": "code",
   "execution_count": 9,
   "metadata": {},
   "outputs": [
    {
     "name": "stdout",
     "output_type": "stream",
     "text": [
      "(1251, 2209)\n"
     ]
    }
   ],
   "source": [
    "from sklearn.feature_extraction.text import TfidfVectorizer\n",
    "\n",
    "# Initialize TF-IDF Vectorizer\n",
    "tfidf = TfidfVectorizer()\n",
    "\n",
    "# Fit and transform the processed_title column\n",
    "title_tfidf_matrix = tfidf.fit_transform(content_features['processed_title'])\n",
    "\n",
    "print(title_tfidf_matrix.shape)  # (number_of_posts, number_of_features)"
   ]
  },
  {
   "cell_type": "code",
   "execution_count": 11,
   "metadata": {},
   "outputs": [
    {
     "name": "stdout",
     "output_type": "stream",
     "text": [
      "(1251, 1251)\n"
     ]
    }
   ],
   "source": [
    "from sklearn.metrics.pairwise import cosine_similarity\n",
    "\n",
    "# Compute cosine similarity between all pairs of posts\n",
    "similarity_matrix = cosine_similarity(title_tfidf_matrix, title_tfidf_matrix)\n",
    "\n",
    "print(similarity_matrix.shape)  # Should be (1251, 1251)"
   ]
  },
  {
   "cell_type": "code",
   "execution_count": 12,
   "metadata": {},
   "outputs": [],
   "source": [
    "def get_similar_posts(post_id, N=10):\n",
    "    # Get the index of the given post_id in content_features\n",
    "    post_index = content_features[content_features['id'] == post_id].index[0]\n",
    "    \n",
    "    # Retrieve the similarity scores for this post compared to all others\n",
    "    similarity_scores = list(enumerate(similarity_matrix[post_index]))\n",
    "    \n",
    "    # Sort by similarity score in descending order\n",
    "    # similarity_scores is a list of (post_index, similarity_score)\n",
    "    similarity_scores = sorted(similarity_scores, key=lambda x: x[1], reverse=True)\n",
    "    \n",
    "    # Exclude the post itself by starting from index 1\n",
    "    top_n = similarity_scores[1:N+1]\n",
    "    \n",
    "    # Retrieve the corresponding post IDs\n",
    "    similar_post_ids = [content_features.iloc[i[0]]['id'] for i in top_n]\n",
    "    \n",
    "    return similar_post_ids"
   ]
  },
  {
   "cell_type": "code",
   "execution_count": 16,
   "metadata": {},
   "outputs": [
    {
     "name": "stdout",
     "output_type": "stream",
     "text": [
      "Recommended Posts: [985, 12, 13, 14, 15, 16, 17, 19, 23, 26]\n"
     ]
    }
   ],
   "source": [
    "# Get top 10 similar posts for a given post_id (e.g., 11)\n",
    "recommended_posts = get_similar_posts(11, N=10)\n",
    "\n",
    "recommended_posts = [int(post_id) for post_id in recommended_posts]\n",
    "print(\"Recommended Posts:\", recommended_posts)"
   ]
  },
  {
   "cell_type": "code",
   "execution_count": 17,
   "metadata": {},
   "outputs": [
    {
     "name": "stdout",
     "output_type": "stream",
     "text": [
      "985 : Its all in the state of mind - StoicMentor\n",
      "12 : Why fit in..?\n",
      "13 : Transcending Singularity\n",
      "14 : Peak Performance?\n",
      "15 : Our Existential Situation\n",
      "16 : act now!\n",
      "17 : Jump. Just Jump!\n",
      "19 : WE ARE MADE OF STARS\n",
      "23 : Direct your energy on the right things\n",
      "26 : Be Brave. Be Different\n"
     ]
    }
   ],
   "source": [
    "for pid in recommended_posts:\n",
    "    title = content_features[content_features['id'] == pid]['title'].values[0]\n",
    "    print(pid, \":\", title)"
   ]
  },
  {
   "cell_type": "code",
   "execution_count": 18,
   "metadata": {},
   "outputs": [
    {
     "name": "stdout",
     "output_type": "stream",
     "text": [
      "Encoded category shape: (1251, 12)\n"
     ]
    },
    {
     "data": {
      "text/html": [
       "<div>\n",
       "<style scoped>\n",
       "    .dataframe tbody tr th:only-of-type {\n",
       "        vertical-align: middle;\n",
       "    }\n",
       "\n",
       "    .dataframe tbody tr th {\n",
       "        vertical-align: top;\n",
       "    }\n",
       "\n",
       "    .dataframe thead th {\n",
       "        text-align: right;\n",
       "    }\n",
       "</style>\n",
       "<table border=\"1\" class=\"dataframe\">\n",
       "  <thead>\n",
       "    <tr style=\"text-align: right;\">\n",
       "      <th></th>\n",
       "      <th>Bloom Scroll</th>\n",
       "      <th>E/ACC</th>\n",
       "      <th>Flic</th>\n",
       "      <th>Gratitube</th>\n",
       "      <th>InstaRama</th>\n",
       "      <th>OvaDrive</th>\n",
       "      <th>Pumptok</th>\n",
       "      <th>SolTok</th>\n",
       "      <th>Startup College</th>\n",
       "      <th>Super Feed</th>\n",
       "      <th>The Igloo</th>\n",
       "      <th>Vible</th>\n",
       "    </tr>\n",
       "  </thead>\n",
       "  <tbody>\n",
       "    <tr>\n",
       "      <th>0</th>\n",
       "      <td>False</td>\n",
       "      <td>False</td>\n",
       "      <td>False</td>\n",
       "      <td>False</td>\n",
       "      <td>False</td>\n",
       "      <td>False</td>\n",
       "      <td>False</td>\n",
       "      <td>False</td>\n",
       "      <td>False</td>\n",
       "      <td>False</td>\n",
       "      <td>False</td>\n",
       "      <td>True</td>\n",
       "    </tr>\n",
       "    <tr>\n",
       "      <th>1</th>\n",
       "      <td>False</td>\n",
       "      <td>False</td>\n",
       "      <td>False</td>\n",
       "      <td>False</td>\n",
       "      <td>False</td>\n",
       "      <td>False</td>\n",
       "      <td>False</td>\n",
       "      <td>False</td>\n",
       "      <td>False</td>\n",
       "      <td>False</td>\n",
       "      <td>False</td>\n",
       "      <td>True</td>\n",
       "    </tr>\n",
       "    <tr>\n",
       "      <th>2</th>\n",
       "      <td>False</td>\n",
       "      <td>False</td>\n",
       "      <td>False</td>\n",
       "      <td>False</td>\n",
       "      <td>False</td>\n",
       "      <td>False</td>\n",
       "      <td>False</td>\n",
       "      <td>False</td>\n",
       "      <td>False</td>\n",
       "      <td>False</td>\n",
       "      <td>False</td>\n",
       "      <td>True</td>\n",
       "    </tr>\n",
       "    <tr>\n",
       "      <th>3</th>\n",
       "      <td>False</td>\n",
       "      <td>False</td>\n",
       "      <td>False</td>\n",
       "      <td>False</td>\n",
       "      <td>False</td>\n",
       "      <td>False</td>\n",
       "      <td>False</td>\n",
       "      <td>False</td>\n",
       "      <td>False</td>\n",
       "      <td>False</td>\n",
       "      <td>False</td>\n",
       "      <td>True</td>\n",
       "    </tr>\n",
       "    <tr>\n",
       "      <th>4</th>\n",
       "      <td>False</td>\n",
       "      <td>False</td>\n",
       "      <td>False</td>\n",
       "      <td>False</td>\n",
       "      <td>False</td>\n",
       "      <td>False</td>\n",
       "      <td>False</td>\n",
       "      <td>False</td>\n",
       "      <td>False</td>\n",
       "      <td>False</td>\n",
       "      <td>False</td>\n",
       "      <td>True</td>\n",
       "    </tr>\n",
       "  </tbody>\n",
       "</table>\n",
       "</div>"
      ],
      "text/plain": [
       "   Bloom Scroll  E/ACC   Flic  Gratitube  InstaRama  OvaDrive  Pumptok  \\\n",
       "0         False  False  False      False      False     False    False   \n",
       "1         False  False  False      False      False     False    False   \n",
       "2         False  False  False      False      False     False    False   \n",
       "3         False  False  False      False      False     False    False   \n",
       "4         False  False  False      False      False     False    False   \n",
       "\n",
       "   SolTok  Startup College  Super Feed  The Igloo  Vible  \n",
       "0   False            False       False      False   True  \n",
       "1   False            False       False      False   True  \n",
       "2   False            False       False      False   True  \n",
       "3   False            False       False      False   True  \n",
       "4   False            False       False      False   True  "
      ]
     },
     "execution_count": 18,
     "metadata": {},
     "output_type": "execute_result"
    }
   ],
   "source": [
    "import pandas as pd\n",
    "\n",
    "# One-hot encode the category_name feature\n",
    "category_encoded = pd.get_dummies(content_features['category_name'])\n",
    "\n",
    "# Display the shape and a sample of the encoded categories\n",
    "print(\"Encoded category shape:\", category_encoded.shape)\n",
    "category_encoded.head()"
   ]
  },
  {
   "cell_type": "code",
   "execution_count": 19,
   "metadata": {},
   "outputs": [
    {
     "name": "stdout",
     "output_type": "stream",
     "text": [
      "   Bloom Scroll  E/ACC   Flic  Gratitube  InstaRama  OvaDrive  Pumptok  \\\n",
      "0         False  False  False      False      False     False    False   \n",
      "1         False  False  False      False      False     False    False   \n",
      "2         False  False  False      False      False     False    False   \n",
      "3         False  False  False      False      False     False    False   \n",
      "4         False  False  False      False      False     False    False   \n",
      "\n",
      "   SolTok  Startup College  Super Feed  The Igloo  Vible  \n",
      "0   False            False       False      False   True  \n",
      "1   False            False       False      False   True  \n",
      "2   False            False       False      False   True  \n",
      "3   False            False       False      False   True  \n",
      "4   False            False       False      False   True  \n"
     ]
    }
   ],
   "source": [
    "print(category_encoded.head())"
   ]
  },
  {
   "cell_type": "code",
   "execution_count": 20,
   "metadata": {},
   "outputs": [
    {
     "name": "stdout",
     "output_type": "stream",
     "text": [
      "Combined feature matrix shape: (1251, 2221)\n"
     ]
    }
   ],
   "source": [
    "from scipy.sparse import csr_matrix, hstack\n",
    "\n",
    "# Convert category_encoded (DataFrame) to a sparse matrix\n",
    "category_sparse = csr_matrix(category_encoded.values)\n",
    "\n",
    "# Combine TF-IDF matrix (title_tfidf_matrix) with category matrix (category_sparse)\n",
    "combined_features = hstack([title_tfidf_matrix, category_sparse])\n",
    "\n",
    "print(\"Combined feature matrix shape:\", combined_features.shape)"
   ]
  },
  {
   "cell_type": "code",
   "execution_count": 21,
   "metadata": {},
   "outputs": [
    {
     "name": "stdout",
     "output_type": "stream",
     "text": [
      "(1251, 1251)\n"
     ]
    }
   ],
   "source": [
    "from sklearn.metrics.pairwise import cosine_similarity\n",
    "\n",
    "# Compute cosine similarity with combined features\n",
    "combined_similarity_matrix = cosine_similarity(combined_features, combined_features)\n",
    "\n",
    "print(combined_similarity_matrix.shape)  # Should be (1251, 1251)"
   ]
  },
  {
   "cell_type": "code",
   "execution_count": 22,
   "metadata": {},
   "outputs": [],
   "source": [
    "def get_similar_posts(post_id, similarity_matrix, N=10):\n",
    "    # Get the index of the given post_id in content_features\n",
    "    post_index = content_features[content_features['id'] == post_id].index[0]\n",
    "    \n",
    "    # Retrieve the similarity scores for this post compared to all others\n",
    "    similarity_scores = list(enumerate(similarity_matrix[post_index]))\n",
    "    \n",
    "    # Sort by similarity score in descending order, exclude the post itself\n",
    "    similarity_scores = sorted(similarity_scores, key=lambda x: x[1], reverse=True)[1:N+1]\n",
    "    \n",
    "    # Retrieve the corresponding post IDs\n",
    "    similar_post_ids = [int(content_features.iloc[i[0]]['id']) for i in similarity_scores]\n",
    "    \n",
    "    return similar_post_ids"
   ]
  },
  {
   "cell_type": "code",
   "execution_count": 23,
   "metadata": {},
   "outputs": [
    {
     "name": "stdout",
     "output_type": "stream",
     "text": [
      "Recommended Posts: [43, 696, 1250, 1315, 985, 44, 59, 85, 643, 654]\n",
      "43 : why are you here?\n",
      "696 : I am with you\n",
      "1250 : 🙏🏽\n",
      "1315 : do it now\n",
      "985 : Its all in the state of mind - StoicMentor\n",
      "44 : escape the matrix\n",
      "59 : push through the pain 🫡\n",
      "85 : Fun fact: Oscar Wilde was a homosexual. I think that sort of adds another layer of perspective to this quote. Almost as if he was viewing the relationships between men and women from an outside point of view.\n",
      "643 : By the age of 30, you must come to understand these 4 realities...\n",
      "654 : Remeber, You have to take risks.\n"
     ]
    }
   ],
   "source": [
    "# Test the new recommendations with the combined similarity\n",
    "test_post_id = 11  # Example post_id\n",
    "recommended_posts = get_similar_posts(test_post_id, combined_similarity_matrix, N=10)\n",
    "print(\"Recommended Posts:\", recommended_posts)\n",
    "\n",
    "# Display titles of recommended posts\n",
    "for pid in recommended_posts:\n",
    "    title = content_features[content_features['id'] == pid]['title'].values[0]\n",
    "    print(pid, \":\", title)"
   ]
  },
  {
   "cell_type": "code",
   "execution_count": 24,
   "metadata": {},
   "outputs": [
    {
     "name": "stdout",
     "output_type": "stream",
     "text": [
      "Enhanced feature matrix shape: (1251, 2222)\n"
     ]
    }
   ],
   "source": [
    "from sklearn.preprocessing import MinMaxScaler\n",
    "from scipy.sparse import hstack, csr_matrix\n",
    "\n",
    "# Choose the numeric features to integrate\n",
    "numeric_features = content_features[['average_rating_features']].values\n",
    "\n",
    "# Normalize the numeric features\n",
    "scaler = MinMaxScaler()\n",
    "numeric_scaled = scaler.fit_transform(numeric_features)\n",
    "\n",
    "# Convert scaled numeric features to a sparse matrix to combine with existing features\n",
    "numeric_sparse = csr_matrix(numeric_scaled)\n",
    "\n",
    "# Now combine TF-IDF title features, category encodings, and numeric features\n",
    "enhanced_features = hstack([title_tfidf_matrix, category_sparse, numeric_sparse])\n",
    "\n",
    "print(\"Enhanced feature matrix shape:\", enhanced_features.shape)"
   ]
  },
  {
   "cell_type": "code",
   "execution_count": 25,
   "metadata": {},
   "outputs": [
    {
     "name": "stdout",
     "output_type": "stream",
     "text": [
      "(1251, 1251)\n"
     ]
    }
   ],
   "source": [
    "enhanced_similarity_matrix = cosine_similarity(enhanced_features, enhanced_features)\n",
    "print(enhanced_similarity_matrix.shape)  # Should be (1251, 1251)"
   ]
  },
  {
   "cell_type": "code",
   "execution_count": 26,
   "metadata": {},
   "outputs": [
    {
     "name": "stdout",
     "output_type": "stream",
     "text": [
      "Recommended Posts: [696, 1250, 1315, 43, 985, 1224, 422, 583, 816, 697]\n",
      "696 : I am with you\n",
      "1250 : 🙏🏽\n",
      "1315 : do it now\n",
      "43 : why are you here?\n",
      "985 : Its all in the state of mind - StoicMentor\n",
      "1224 : Early morning exercise. The world’s greatest medicine. Do you agree_✌🏽#leadership #productivity #service #workout #exercise #medicine\n",
      "422 : Unknown\n",
      "583 : Unknown\n",
      "816 : The story of prophet Elijah proving who the real God is\n",
      "697 : I am strong enough to save you\n"
     ]
    }
   ],
   "source": [
    "test_post_id = 11  # example post_id from before\n",
    "recommended_posts = get_similar_posts(test_post_id, enhanced_similarity_matrix, N=10)\n",
    "\n",
    "print(\"Recommended Posts:\", recommended_posts)\n",
    "for pid in recommended_posts:\n",
    "    title = content_features[content_features['id'] == pid]['title'].values[0]\n",
    "    print(pid, \":\", title)"
   ]
  },
  {
   "cell_type": "code",
   "execution_count": 29,
   "metadata": {},
   "outputs": [
    {
     "name": "stdout",
     "output_type": "stream",
     "text": [
      "User-Post Matrix Shape: (831, 835)\n"
     ]
    },
    {
     "data": {
      "text/html": [
       "<div>\n",
       "<style scoped>\n",
       "    .dataframe tbody tr th:only-of-type {\n",
       "        vertical-align: middle;\n",
       "    }\n",
       "\n",
       "    .dataframe tbody tr th {\n",
       "        vertical-align: top;\n",
       "    }\n",
       "\n",
       "    .dataframe thead th {\n",
       "        text-align: right;\n",
       "    }\n",
       "</style>\n",
       "<table border=\"1\" class=\"dataframe\">\n",
       "  <thead>\n",
       "    <tr style=\"text-align: right;\">\n",
       "      <th>post_id</th>\n",
       "      <th>11</th>\n",
       "      <th>12</th>\n",
       "      <th>13</th>\n",
       "      <th>14</th>\n",
       "      <th>15</th>\n",
       "      <th>16</th>\n",
       "      <th>17</th>\n",
       "      <th>19</th>\n",
       "      <th>23</th>\n",
       "      <th>26</th>\n",
       "      <th>...</th>\n",
       "      <th>1631</th>\n",
       "      <th>1632</th>\n",
       "      <th>1633</th>\n",
       "      <th>1634</th>\n",
       "      <th>1636</th>\n",
       "      <th>1638</th>\n",
       "      <th>1640</th>\n",
       "      <th>1641</th>\n",
       "      <th>1644</th>\n",
       "      <th>1654</th>\n",
       "    </tr>\n",
       "    <tr>\n",
       "      <th>user_id</th>\n",
       "      <th></th>\n",
       "      <th></th>\n",
       "      <th></th>\n",
       "      <th></th>\n",
       "      <th></th>\n",
       "      <th></th>\n",
       "      <th></th>\n",
       "      <th></th>\n",
       "      <th></th>\n",
       "      <th></th>\n",
       "      <th></th>\n",
       "      <th></th>\n",
       "      <th></th>\n",
       "      <th></th>\n",
       "      <th></th>\n",
       "      <th></th>\n",
       "      <th></th>\n",
       "      <th></th>\n",
       "      <th></th>\n",
       "      <th></th>\n",
       "      <th></th>\n",
       "    </tr>\n",
       "  </thead>\n",
       "  <tbody>\n",
       "    <tr>\n",
       "      <th>1</th>\n",
       "      <td>1.0</td>\n",
       "      <td>1.0</td>\n",
       "      <td>1.0</td>\n",
       "      <td>1.0</td>\n",
       "      <td>1.0</td>\n",
       "      <td>1.0</td>\n",
       "      <td>1.0</td>\n",
       "      <td>1.0</td>\n",
       "      <td>1.0</td>\n",
       "      <td>1.0</td>\n",
       "      <td>...</td>\n",
       "      <td>0.0</td>\n",
       "      <td>0.0</td>\n",
       "      <td>0.0</td>\n",
       "      <td>0.0</td>\n",
       "      <td>0.0</td>\n",
       "      <td>0.0</td>\n",
       "      <td>0.0</td>\n",
       "      <td>0.0</td>\n",
       "      <td>0.0</td>\n",
       "      <td>0.0</td>\n",
       "    </tr>\n",
       "    <tr>\n",
       "      <th>5</th>\n",
       "      <td>1.0</td>\n",
       "      <td>0.0</td>\n",
       "      <td>0.0</td>\n",
       "      <td>1.0</td>\n",
       "      <td>1.0</td>\n",
       "      <td>1.0</td>\n",
       "      <td>0.0</td>\n",
       "      <td>1.0</td>\n",
       "      <td>1.0</td>\n",
       "      <td>0.0</td>\n",
       "      <td>...</td>\n",
       "      <td>0.0</td>\n",
       "      <td>0.0</td>\n",
       "      <td>0.0</td>\n",
       "      <td>0.0</td>\n",
       "      <td>0.0</td>\n",
       "      <td>0.0</td>\n",
       "      <td>0.0</td>\n",
       "      <td>0.0</td>\n",
       "      <td>0.0</td>\n",
       "      <td>0.0</td>\n",
       "    </tr>\n",
       "    <tr>\n",
       "      <th>9</th>\n",
       "      <td>0.0</td>\n",
       "      <td>0.0</td>\n",
       "      <td>1.0</td>\n",
       "      <td>1.0</td>\n",
       "      <td>1.0</td>\n",
       "      <td>1.0</td>\n",
       "      <td>0.0</td>\n",
       "      <td>1.0</td>\n",
       "      <td>1.0</td>\n",
       "      <td>1.0</td>\n",
       "      <td>...</td>\n",
       "      <td>0.0</td>\n",
       "      <td>0.0</td>\n",
       "      <td>0.0</td>\n",
       "      <td>0.0</td>\n",
       "      <td>0.0</td>\n",
       "      <td>0.0</td>\n",
       "      <td>0.0</td>\n",
       "      <td>0.0</td>\n",
       "      <td>0.0</td>\n",
       "      <td>0.0</td>\n",
       "    </tr>\n",
       "    <tr>\n",
       "      <th>16</th>\n",
       "      <td>1.0</td>\n",
       "      <td>0.0</td>\n",
       "      <td>0.0</td>\n",
       "      <td>0.0</td>\n",
       "      <td>0.0</td>\n",
       "      <td>0.0</td>\n",
       "      <td>0.0</td>\n",
       "      <td>0.0</td>\n",
       "      <td>0.0</td>\n",
       "      <td>0.0</td>\n",
       "      <td>...</td>\n",
       "      <td>0.0</td>\n",
       "      <td>0.0</td>\n",
       "      <td>0.0</td>\n",
       "      <td>0.0</td>\n",
       "      <td>0.0</td>\n",
       "      <td>0.0</td>\n",
       "      <td>0.0</td>\n",
       "      <td>0.0</td>\n",
       "      <td>0.0</td>\n",
       "      <td>0.0</td>\n",
       "    </tr>\n",
       "    <tr>\n",
       "      <th>18</th>\n",
       "      <td>1.0</td>\n",
       "      <td>0.0</td>\n",
       "      <td>1.0</td>\n",
       "      <td>1.0</td>\n",
       "      <td>1.0</td>\n",
       "      <td>1.0</td>\n",
       "      <td>1.0</td>\n",
       "      <td>1.0</td>\n",
       "      <td>1.0</td>\n",
       "      <td>1.0</td>\n",
       "      <td>...</td>\n",
       "      <td>0.0</td>\n",
       "      <td>0.0</td>\n",
       "      <td>0.0</td>\n",
       "      <td>0.0</td>\n",
       "      <td>0.0</td>\n",
       "      <td>0.0</td>\n",
       "      <td>0.0</td>\n",
       "      <td>0.0</td>\n",
       "      <td>0.0</td>\n",
       "      <td>0.0</td>\n",
       "    </tr>\n",
       "  </tbody>\n",
       "</table>\n",
       "<p>5 rows × 835 columns</p>\n",
       "</div>"
      ],
      "text/plain": [
       "post_id  11    12    13    14    15    16    17    19    23    26    ...  \\\n",
       "user_id                                                              ...   \n",
       "1         1.0   1.0   1.0   1.0   1.0   1.0   1.0   1.0   1.0   1.0  ...   \n",
       "5         1.0   0.0   0.0   1.0   1.0   1.0   0.0   1.0   1.0   0.0  ...   \n",
       "9         0.0   0.0   1.0   1.0   1.0   1.0   0.0   1.0   1.0   1.0  ...   \n",
       "16        1.0   0.0   0.0   0.0   0.0   0.0   0.0   0.0   0.0   0.0  ...   \n",
       "18        1.0   0.0   1.0   1.0   1.0   1.0   1.0   1.0   1.0   1.0  ...   \n",
       "\n",
       "post_id  1631  1632  1633  1634  1636  1638  1640  1641  1644  1654  \n",
       "user_id                                                              \n",
       "1         0.0   0.0   0.0   0.0   0.0   0.0   0.0   0.0   0.0   0.0  \n",
       "5         0.0   0.0   0.0   0.0   0.0   0.0   0.0   0.0   0.0   0.0  \n",
       "9         0.0   0.0   0.0   0.0   0.0   0.0   0.0   0.0   0.0   0.0  \n",
       "16        0.0   0.0   0.0   0.0   0.0   0.0   0.0   0.0   0.0   0.0  \n",
       "18        0.0   0.0   0.0   0.0   0.0   0.0   0.0   0.0   0.0   0.0  \n",
       "\n",
       "[5 rows x 835 columns]"
      ]
     },
     "execution_count": 29,
     "metadata": {},
     "output_type": "execute_result"
    }
   ],
   "source": [
    "# Assume we have 'interaction_df' with columns: user_id, post_id, interaction_type\n",
    "import numpy as np\n",
    "\n",
    "interaction_df = pd.read_csv(\"../data/processed/interaction_df.csv\")\n",
    "\n",
    "# Create a pivot table for user-post interactions\n",
    "# Each entry will be 1 if user interacted with the post, else 0.\n",
    "user_post_matrix = interaction_df.pivot_table(\n",
    "    index='user_id',\n",
    "    columns='post_id',\n",
    "    values='interaction_type',\n",
    "    aggfunc=lambda x: 1 if len(x) > 0 else 0\n",
    ").fillna(0)\n",
    "\n",
    "print(\"User-Post Matrix Shape:\", user_post_matrix.shape)\n",
    "user_post_matrix.head()"
   ]
  },
  {
   "cell_type": "code",
   "execution_count": null,
   "metadata": {},
   "outputs": [],
   "source": []
  }
 ],
 "metadata": {
  "kernelspec": {
   "display_name": "Python (vid_recom)",
   "language": "python",
   "name": "vid_recom"
  },
  "language_info": {
   "codemirror_mode": {
    "name": "ipython",
    "version": 3
   },
   "file_extension": ".py",
   "mimetype": "text/x-python",
   "name": "python",
   "nbconvert_exporter": "python",
   "pygments_lexer": "ipython3",
   "version": "3.10.12"
  }
 },
 "nbformat": 4,
 "nbformat_minor": 2
}
