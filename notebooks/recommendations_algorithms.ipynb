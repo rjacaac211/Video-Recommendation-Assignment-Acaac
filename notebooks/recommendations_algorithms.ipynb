{
 "cells": [
  {
   "cell_type": "markdown",
   "metadata": {},
   "source": [
    "## 1. Load and Inspect the Dataset"
   ]
  },
  {
   "cell_type": "code",
   "execution_count": null,
   "metadata": {},
   "outputs": [
    {
     "name": "stdout",
     "output_type": "stream",
     "text": [
      "Posts Dataset Info:\n",
      "<class 'pandas.core.frame.DataFrame'>\n",
      "RangeIndex: 1251 entries, 0 to 1250\n",
      "Data columns (total 18 columns):\n",
      " #   Column                    Non-Null Count  Dtype  \n",
      "---  ------                    --------------  -----  \n",
      " 0   id                        1251 non-null   int64  \n",
      " 1   title                     925 non-null    object \n",
      " 2   upvote_count              1251 non-null   int64  \n",
      " 3   view_count                1251 non-null   int64  \n",
      " 4   rating_count              1251 non-null   int64  \n",
      " 5   average_rating_all_posts  1251 non-null   int64  \n",
      " 6   share_count               1251 non-null   int64  \n",
      " 7   video_link                1251 non-null   object \n",
      " 8   is_locked                 1251 non-null   bool   \n",
      " 9   created_at                1251 non-null   object \n",
      " 10  category_id               1251 non-null   int64  \n",
      " 11  category_name             1251 non-null   object \n",
      " 12  post_id                   835 non-null    float64\n",
      " 13  total_views               1251 non-null   float64\n",
      " 14  total_likes               1251 non-null   float64\n",
      " 15  total_inspirations        1251 non-null   float64\n",
      " 16  total_ratings             1251 non-null   float64\n",
      " 17  average_rating_features   1251 non-null   float64\n",
      "dtypes: bool(1), float64(6), int64(7), object(4)\n",
      "memory usage: 167.5+ KB\n",
      "\n",
      "Sample Data:\n"
     ]
    },
    {
     "data": {
      "text/html": [
       "<div>\n",
       "<style scoped>\n",
       "    .dataframe tbody tr th:only-of-type {\n",
       "        vertical-align: middle;\n",
       "    }\n",
       "\n",
       "    .dataframe tbody tr th {\n",
       "        vertical-align: top;\n",
       "    }\n",
       "\n",
       "    .dataframe thead th {\n",
       "        text-align: right;\n",
       "    }\n",
       "</style>\n",
       "<table border=\"1\" class=\"dataframe\">\n",
       "  <thead>\n",
       "    <tr style=\"text-align: right;\">\n",
       "      <th></th>\n",
       "      <th>id</th>\n",
       "      <th>title</th>\n",
       "      <th>upvote_count</th>\n",
       "      <th>view_count</th>\n",
       "      <th>rating_count</th>\n",
       "      <th>average_rating_all_posts</th>\n",
       "      <th>share_count</th>\n",
       "      <th>video_link</th>\n",
       "      <th>is_locked</th>\n",
       "      <th>created_at</th>\n",
       "      <th>category_id</th>\n",
       "      <th>category_name</th>\n",
       "      <th>post_id</th>\n",
       "      <th>total_views</th>\n",
       "      <th>total_likes</th>\n",
       "      <th>total_inspirations</th>\n",
       "      <th>total_ratings</th>\n",
       "      <th>average_rating_features</th>\n",
       "    </tr>\n",
       "  </thead>\n",
       "  <tbody>\n",
       "    <tr>\n",
       "      <th>0</th>\n",
       "      <td>11</td>\n",
       "      <td>Recipe for a flow state</td>\n",
       "      <td>45</td>\n",
       "      <td>62</td>\n",
       "      <td>7</td>\n",
       "      <td>36</td>\n",
       "      <td>8</td>\n",
       "      <td>https://video-cdn.socialverseapp.com/michael_9...</td>\n",
       "      <td>False</td>\n",
       "      <td>1970-01-01 00:28:18.088807</td>\n",
       "      <td>2</td>\n",
       "      <td>Vible</td>\n",
       "      <td>11.0</td>\n",
       "      <td>10.0</td>\n",
       "      <td>2.0</td>\n",
       "      <td>0.0</td>\n",
       "      <td>7.0</td>\n",
       "      <td>39.571429</td>\n",
       "    </tr>\n",
       "    <tr>\n",
       "      <th>1</th>\n",
       "      <td>12</td>\n",
       "      <td>Why fit in..?</td>\n",
       "      <td>42</td>\n",
       "      <td>54</td>\n",
       "      <td>0</td>\n",
       "      <td>0</td>\n",
       "      <td>0</td>\n",
       "      <td>https://video-cdn.socialverseapp.com/michael_5...</td>\n",
       "      <td>False</td>\n",
       "      <td>1970-01-01 00:28:18.096725</td>\n",
       "      <td>2</td>\n",
       "      <td>Vible</td>\n",
       "      <td>12.0</td>\n",
       "      <td>1.0</td>\n",
       "      <td>2.0</td>\n",
       "      <td>0.0</td>\n",
       "      <td>0.0</td>\n",
       "      <td>0.000000</td>\n",
       "    </tr>\n",
       "    <tr>\n",
       "      <th>2</th>\n",
       "      <td>13</td>\n",
       "      <td>Transcending Singularity</td>\n",
       "      <td>20</td>\n",
       "      <td>75</td>\n",
       "      <td>45</td>\n",
       "      <td>8</td>\n",
       "      <td>0</td>\n",
       "      <td>https://video-cdn.socialverseapp.com/michael_5...</td>\n",
       "      <td>False</td>\n",
       "      <td>1970-01-01 00:28:18.097013</td>\n",
       "      <td>2</td>\n",
       "      <td>Vible</td>\n",
       "      <td>13.0</td>\n",
       "      <td>57.0</td>\n",
       "      <td>0.0</td>\n",
       "      <td>0.0</td>\n",
       "      <td>44.0</td>\n",
       "      <td>20.977273</td>\n",
       "    </tr>\n",
       "    <tr>\n",
       "      <th>3</th>\n",
       "      <td>14</td>\n",
       "      <td>Peak Performance?</td>\n",
       "      <td>71</td>\n",
       "      <td>95</td>\n",
       "      <td>6</td>\n",
       "      <td>28</td>\n",
       "      <td>0</td>\n",
       "      <td>https://video-cdn.socialverseapp.com/michael_4...</td>\n",
       "      <td>False</td>\n",
       "      <td>1970-01-01 00:28:18.097687</td>\n",
       "      <td>2</td>\n",
       "      <td>Vible</td>\n",
       "      <td>14.0</td>\n",
       "      <td>4.0</td>\n",
       "      <td>2.0</td>\n",
       "      <td>1.0</td>\n",
       "      <td>6.0</td>\n",
       "      <td>33.333333</td>\n",
       "    </tr>\n",
       "    <tr>\n",
       "      <th>4</th>\n",
       "      <td>15</td>\n",
       "      <td>Our Existential Situation</td>\n",
       "      <td>64</td>\n",
       "      <td>70</td>\n",
       "      <td>9</td>\n",
       "      <td>33</td>\n",
       "      <td>0</td>\n",
       "      <td>https://video-cdn.socialverseapp.com/michael_b...</td>\n",
       "      <td>False</td>\n",
       "      <td>1970-01-01 00:28:18.098168</td>\n",
       "      <td>2</td>\n",
       "      <td>Vible</td>\n",
       "      <td>15.0</td>\n",
       "      <td>8.0</td>\n",
       "      <td>1.0</td>\n",
       "      <td>0.0</td>\n",
       "      <td>9.0</td>\n",
       "      <td>37.888889</td>\n",
       "    </tr>\n",
       "  </tbody>\n",
       "</table>\n",
       "</div>"
      ],
      "text/plain": [
       "   id                      title  upvote_count  view_count  rating_count  \\\n",
       "0  11    Recipe for a flow state            45          62             7   \n",
       "1  12              Why fit in..?            42          54             0   \n",
       "2  13   Transcending Singularity            20          75            45   \n",
       "3  14          Peak Performance?            71          95             6   \n",
       "4  15  Our Existential Situation            64          70             9   \n",
       "\n",
       "   average_rating_all_posts  share_count  \\\n",
       "0                        36            8   \n",
       "1                         0            0   \n",
       "2                         8            0   \n",
       "3                        28            0   \n",
       "4                        33            0   \n",
       "\n",
       "                                          video_link  is_locked  \\\n",
       "0  https://video-cdn.socialverseapp.com/michael_9...      False   \n",
       "1  https://video-cdn.socialverseapp.com/michael_5...      False   \n",
       "2  https://video-cdn.socialverseapp.com/michael_5...      False   \n",
       "3  https://video-cdn.socialverseapp.com/michael_4...      False   \n",
       "4  https://video-cdn.socialverseapp.com/michael_b...      False   \n",
       "\n",
       "                   created_at  category_id category_name  post_id  \\\n",
       "0  1970-01-01 00:28:18.088807            2         Vible     11.0   \n",
       "1  1970-01-01 00:28:18.096725            2         Vible     12.0   \n",
       "2  1970-01-01 00:28:18.097013            2         Vible     13.0   \n",
       "3  1970-01-01 00:28:18.097687            2         Vible     14.0   \n",
       "4  1970-01-01 00:28:18.098168            2         Vible     15.0   \n",
       "\n",
       "   total_views  total_likes  total_inspirations  total_ratings  \\\n",
       "0         10.0          2.0                 0.0            7.0   \n",
       "1          1.0          2.0                 0.0            0.0   \n",
       "2         57.0          0.0                 0.0           44.0   \n",
       "3          4.0          2.0                 1.0            6.0   \n",
       "4          8.0          1.0                 0.0            9.0   \n",
       "\n",
       "   average_rating_features  \n",
       "0                39.571429  \n",
       "1                 0.000000  \n",
       "2                20.977273  \n",
       "3                33.333333  \n",
       "4                37.888889  "
      ]
     },
     "execution_count": 1,
     "metadata": {},
     "output_type": "execute_result"
    }
   ],
   "source": [
    "import pandas as pd\n",
    "\n",
    "# Load the dataset\n",
    "posts_df = pd.read_csv(\"../data/processed/all_posts_with_features.csv\")\n",
    "\n",
    "# Inspect the structure\n",
    "print(\"Posts Dataset Info:\")\n",
    "posts_df.info()\n",
    "print(\"\\nSample Data:\")\n",
    "posts_df.head()"
   ]
  },
  {
   "cell_type": "markdown",
   "metadata": {},
   "source": [
    "## 2. Select and Prepare Content Features"
   ]
  },
  {
   "cell_type": "code",
   "execution_count": null,
   "metadata": {},
   "outputs": [
    {
     "name": "stdout",
     "output_type": "stream",
     "text": [
      "\n",
      "Content Features Info:\n",
      "<class 'pandas.core.frame.DataFrame'>\n",
      "RangeIndex: 1251 entries, 0 to 1250\n",
      "Data columns (total 6 columns):\n",
      " #   Column                   Non-Null Count  Dtype  \n",
      "---  ------                   --------------  -----  \n",
      " 0   id                       1251 non-null   int64  \n",
      " 1   title                    1251 non-null   object \n",
      " 2   category_name            1251 non-null   object \n",
      " 3   view_count               1251 non-null   int64  \n",
      " 4   total_likes              1251 non-null   float64\n",
      " 5   average_rating_features  1251 non-null   float64\n",
      "dtypes: float64(2), int64(2), object(2)\n",
      "memory usage: 58.8+ KB\n",
      "\n",
      "Sample Content Features:\n"
     ]
    },
    {
     "name": "stderr",
     "output_type": "stream",
     "text": [
      "/tmp/ipykernel_52564/2226745963.py:5: SettingWithCopyWarning: \n",
      "A value is trying to be set on a copy of a slice from a DataFrame.\n",
      "Try using .loc[row_indexer,col_indexer] = value instead\n",
      "\n",
      "See the caveats in the documentation: https://pandas.pydata.org/pandas-docs/stable/user_guide/indexing.html#returning-a-view-versus-a-copy\n",
      "  content_features['title'] = content_features['title'].fillna(\"Unknown\")\n"
     ]
    },
    {
     "data": {
      "text/html": [
       "<div>\n",
       "<style scoped>\n",
       "    .dataframe tbody tr th:only-of-type {\n",
       "        vertical-align: middle;\n",
       "    }\n",
       "\n",
       "    .dataframe tbody tr th {\n",
       "        vertical-align: top;\n",
       "    }\n",
       "\n",
       "    .dataframe thead th {\n",
       "        text-align: right;\n",
       "    }\n",
       "</style>\n",
       "<table border=\"1\" class=\"dataframe\">\n",
       "  <thead>\n",
       "    <tr style=\"text-align: right;\">\n",
       "      <th></th>\n",
       "      <th>id</th>\n",
       "      <th>title</th>\n",
       "      <th>category_name</th>\n",
       "      <th>view_count</th>\n",
       "      <th>total_likes</th>\n",
       "      <th>average_rating_features</th>\n",
       "    </tr>\n",
       "  </thead>\n",
       "  <tbody>\n",
       "    <tr>\n",
       "      <th>0</th>\n",
       "      <td>11</td>\n",
       "      <td>Recipe for a flow state</td>\n",
       "      <td>Vible</td>\n",
       "      <td>62</td>\n",
       "      <td>2.0</td>\n",
       "      <td>39.571429</td>\n",
       "    </tr>\n",
       "    <tr>\n",
       "      <th>1</th>\n",
       "      <td>12</td>\n",
       "      <td>Why fit in..?</td>\n",
       "      <td>Vible</td>\n",
       "      <td>54</td>\n",
       "      <td>2.0</td>\n",
       "      <td>0.000000</td>\n",
       "    </tr>\n",
       "    <tr>\n",
       "      <th>2</th>\n",
       "      <td>13</td>\n",
       "      <td>Transcending Singularity</td>\n",
       "      <td>Vible</td>\n",
       "      <td>75</td>\n",
       "      <td>0.0</td>\n",
       "      <td>20.977273</td>\n",
       "    </tr>\n",
       "    <tr>\n",
       "      <th>3</th>\n",
       "      <td>14</td>\n",
       "      <td>Peak Performance?</td>\n",
       "      <td>Vible</td>\n",
       "      <td>95</td>\n",
       "      <td>2.0</td>\n",
       "      <td>33.333333</td>\n",
       "    </tr>\n",
       "    <tr>\n",
       "      <th>4</th>\n",
       "      <td>15</td>\n",
       "      <td>Our Existential Situation</td>\n",
       "      <td>Vible</td>\n",
       "      <td>70</td>\n",
       "      <td>1.0</td>\n",
       "      <td>37.888889</td>\n",
       "    </tr>\n",
       "  </tbody>\n",
       "</table>\n",
       "</div>"
      ],
      "text/plain": [
       "   id                      title category_name  view_count  total_likes  \\\n",
       "0  11    Recipe for a flow state         Vible          62          2.0   \n",
       "1  12              Why fit in..?         Vible          54          2.0   \n",
       "2  13   Transcending Singularity         Vible          75          0.0   \n",
       "3  14          Peak Performance?         Vible          95          2.0   \n",
       "4  15  Our Existential Situation         Vible          70          1.0   \n",
       "\n",
       "   average_rating_features  \n",
       "0                39.571429  \n",
       "1                 0.000000  \n",
       "2                20.977273  \n",
       "3                33.333333  \n",
       "4                37.888889  "
      ]
     },
     "execution_count": 2,
     "metadata": {},
     "output_type": "execute_result"
    }
   ],
   "source": [
    "# Select relevant features for recommendation\n",
    "content_features = posts_df[['id', 'title', 'category_name', 'view_count', 'total_likes', 'average_rating_features']]\n",
    "\n",
    "# Handle missing values (fill missing titles with \"Unknown\")\n",
    "content_features['title'] = content_features['title'].fillna(\"Unknown\")\n",
    "\n",
    "print(\"\\nContent Features Info:\")\n",
    "content_features.info()\n",
    "print(\"\\nSample Content Features:\")\n",
    "content_features.head()"
   ]
  },
  {
   "cell_type": "markdown",
   "metadata": {},
   "source": [
    "## 3. Preprocess Titles for TF-IDF"
   ]
  },
  {
   "cell_type": "code",
   "execution_count": null,
   "metadata": {},
   "outputs": [
    {
     "name": "stderr",
     "output_type": "stream",
     "text": [
      "[nltk_data] Downloading package punkt to /home/rjacaac/nltk_data...\n",
      "[nltk_data]   Package punkt is already up-to-date!\n",
      "[nltk_data] Downloading package stopwords to\n",
      "[nltk_data]     /home/rjacaac/nltk_data...\n",
      "[nltk_data]   Package stopwords is already up-to-date!\n",
      "[nltk_data] Downloading package wordnet to /home/rjacaac/nltk_data...\n",
      "[nltk_data]   Package wordnet is already up-to-date!\n"
     ]
    },
    {
     "data": {
      "text/plain": [
       "True"
      ]
     },
     "execution_count": 3,
     "metadata": {},
     "output_type": "execute_result"
    }
   ],
   "source": [
    "import string\n",
    "from nltk.corpus import stopwords\n",
    "from nltk.tokenize import TreebankWordTokenizer\n",
    "from nltk.stem import WordNetLemmatizer\n",
    "import nltk\n",
    "\n",
    "# Download required NLTK resources\n",
    "nltk.download('punkt')\n",
    "nltk.download('stopwords')\n",
    "nltk.download('wordnet')"
   ]
  },
  {
   "cell_type": "code",
   "execution_count": null,
   "metadata": {},
   "outputs": [],
   "source": [
    "# Initialize lemmatizer and stop words\n",
    "lemmatizer = WordNetLemmatizer()\n",
    "stop_words = set(stopwords.words('english'))\n",
    "tokenizer = TreebankWordTokenizer()"
   ]
  },
  {
   "cell_type": "code",
   "execution_count": null,
   "metadata": {},
   "outputs": [],
   "source": [
    "# Define text preprocessing function\n",
    "def preprocess_text(text):\n",
    "    text = text.lower()\n",
    "    text = text.translate(str.maketrans('', '', string.punctuation))\n",
    "    tokens = [word for word in tokenizer.tokenize(text) if word not in stop_words]\n",
    "    lemmatized = [lemmatizer.lemmatize(token) for token in tokens]\n",
    "    return ' '.join(lemmatized)"
   ]
  },
  {
   "cell_type": "code",
   "execution_count": null,
   "metadata": {},
   "outputs": [
    {
     "name": "stdout",
     "output_type": "stream",
     "text": [
      "\n",
      "Sample Processed Titles:\n"
     ]
    },
    {
     "name": "stderr",
     "output_type": "stream",
     "text": [
      "/tmp/ipykernel_52564/1943921981.py:2: SettingWithCopyWarning: \n",
      "A value is trying to be set on a copy of a slice from a DataFrame.\n",
      "Try using .loc[row_indexer,col_indexer] = value instead\n",
      "\n",
      "See the caveats in the documentation: https://pandas.pydata.org/pandas-docs/stable/user_guide/indexing.html#returning-a-view-versus-a-copy\n",
      "  content_features['processed_title'] = content_features['title'].apply(preprocess_text)\n"
     ]
    },
    {
     "data": {
      "text/html": [
       "<div>\n",
       "<style scoped>\n",
       "    .dataframe tbody tr th:only-of-type {\n",
       "        vertical-align: middle;\n",
       "    }\n",
       "\n",
       "    .dataframe tbody tr th {\n",
       "        vertical-align: top;\n",
       "    }\n",
       "\n",
       "    .dataframe thead th {\n",
       "        text-align: right;\n",
       "    }\n",
       "</style>\n",
       "<table border=\"1\" class=\"dataframe\">\n",
       "  <thead>\n",
       "    <tr style=\"text-align: right;\">\n",
       "      <th></th>\n",
       "      <th>id</th>\n",
       "      <th>title</th>\n",
       "      <th>processed_title</th>\n",
       "    </tr>\n",
       "  </thead>\n",
       "  <tbody>\n",
       "    <tr>\n",
       "      <th>0</th>\n",
       "      <td>11</td>\n",
       "      <td>Recipe for a flow state</td>\n",
       "      <td>recipe flow state</td>\n",
       "    </tr>\n",
       "    <tr>\n",
       "      <th>1</th>\n",
       "      <td>12</td>\n",
       "      <td>Why fit in..?</td>\n",
       "      <td>fit</td>\n",
       "    </tr>\n",
       "    <tr>\n",
       "      <th>2</th>\n",
       "      <td>13</td>\n",
       "      <td>Transcending Singularity</td>\n",
       "      <td>transcending singularity</td>\n",
       "    </tr>\n",
       "    <tr>\n",
       "      <th>3</th>\n",
       "      <td>14</td>\n",
       "      <td>Peak Performance?</td>\n",
       "      <td>peak performance</td>\n",
       "    </tr>\n",
       "    <tr>\n",
       "      <th>4</th>\n",
       "      <td>15</td>\n",
       "      <td>Our Existential Situation</td>\n",
       "      <td>existential situation</td>\n",
       "    </tr>\n",
       "  </tbody>\n",
       "</table>\n",
       "</div>"
      ],
      "text/plain": [
       "   id                      title           processed_title\n",
       "0  11    Recipe for a flow state         recipe flow state\n",
       "1  12              Why fit in..?                       fit\n",
       "2  13   Transcending Singularity  transcending singularity\n",
       "3  14          Peak Performance?          peak performance\n",
       "4  15  Our Existential Situation     existential situation"
      ]
     },
     "execution_count": 6,
     "metadata": {},
     "output_type": "execute_result"
    }
   ],
   "source": [
    "# Apply preprocessing to the title column\n",
    "content_features['processed_title'] = content_features['title'].apply(preprocess_text)\n",
    "\n",
    "print(\"\\nSample Processed Titles:\")\n",
    "content_features[['id', 'title', 'processed_title']].head()"
   ]
  },
  {
   "cell_type": "markdown",
   "metadata": {},
   "source": [
    "## 4. Generate TF-IDF Features for Titles"
   ]
  },
  {
   "cell_type": "code",
   "execution_count": null,
   "metadata": {},
   "outputs": [
    {
     "name": "stdout",
     "output_type": "stream",
     "text": [
      "\n",
      "TF-IDF Matrix Shape: (1251, 2209)\n"
     ]
    }
   ],
   "source": [
    "from sklearn.feature_extraction.text import TfidfVectorizer\n",
    "\n",
    "# Initialize TF-IDF Vectorizer\n",
    "tfidf = TfidfVectorizer()\n",
    "\n",
    "# Fit and transform the processed_title column\n",
    "title_tfidf_matrix = tfidf.fit_transform(content_features['processed_title'])\n",
    "\n",
    "print(\"\\nTF-IDF Matrix Shape:\", title_tfidf_matrix.shape)  # (number_of_posts, number_of_features)"
   ]
  },
  {
   "cell_type": "markdown",
   "metadata": {},
   "source": [
    "## 5. Compute Cosine Similarity (Title-Based)"
   ]
  },
  {
   "cell_type": "code",
   "execution_count": null,
   "metadata": {},
   "outputs": [
    {
     "name": "stdout",
     "output_type": "stream",
     "text": [
      "\n",
      "Title-Based Similarity Matrix Shape: (1251, 1251)\n"
     ]
    }
   ],
   "source": [
    "from sklearn.metrics.pairwise import cosine_similarity\n",
    "\n",
    "# Compute cosine similarity between all pairs of posts\n",
    "similarity_matrix = cosine_similarity(title_tfidf_matrix, title_tfidf_matrix)\n",
    "\n",
    "print(\"\\nTitle-Based Similarity Matrix Shape:\", similarity_matrix.shape)"
   ]
  },
  {
   "cell_type": "code",
   "execution_count": null,
   "metadata": {},
   "outputs": [],
   "source": [
    "# Define a function to get similar posts\n",
    "def get_similar_posts(post_id, similarity_matrix, N=10):\n",
    "    # Get the index of the given post_id in content_features\n",
    "    post_index = content_features[content_features['id'] == post_id].index[0]\n",
    "    \n",
    "    # Retrieve similarity scores for this post\n",
    "    similarity_scores = list(enumerate(similarity_matrix[post_index]))\n",
    "    \n",
    "    # Sort by similarity score in descending order, excluding itself\n",
    "    similarity_scores = sorted(similarity_scores, key=lambda x: x[1], reverse=True)[1:N+1]\n",
    "    \n",
    "    # Retrieve the corresponding post IDs\n",
    "    similar_post_ids = [int(content_features.iloc[i[0]]['id']) for i in similarity_scores]\n",
    "    return similar_post_ids"
   ]
  },
  {
   "cell_type": "code",
   "execution_count": null,
   "metadata": {},
   "outputs": [
    {
     "name": "stdout",
     "output_type": "stream",
     "text": [
      "\n",
      "Title-Based Recommended Posts: [985, 12, 13, 14, 15, 16, 17, 19, 23, 26]\n"
     ]
    }
   ],
   "source": [
    "# Test the function\n",
    "test_post_id = 11  # Example post_id\n",
    "recommended_posts = get_similar_posts(test_post_id, similarity_matrix, N=10)\n",
    "print(\"\\nTitle-Based Recommended Posts:\", recommended_posts)"
   ]
  },
  {
   "cell_type": "markdown",
   "metadata": {},
   "source": [
    "## 6. Incorporate Category Features (One-Hot Encoding)"
   ]
  },
  {
   "cell_type": "code",
   "execution_count": null,
   "metadata": {},
   "outputs": [
    {
     "name": "stdout",
     "output_type": "stream",
     "text": [
      "\n",
      "Encoded Category Shape: (1251, 12)\n"
     ]
    }
   ],
   "source": [
    "# One-hot encode the category_name feature\n",
    "category_encoded = pd.get_dummies(content_features['category_name'])\n",
    "\n",
    "print(\"\\nEncoded Category Shape:\", category_encoded.shape)"
   ]
  },
  {
   "cell_type": "markdown",
   "metadata": {},
   "source": [
    "## 7. Combine Features (TF-IDF + Categories)"
   ]
  },
  {
   "cell_type": "code",
   "execution_count": null,
   "metadata": {},
   "outputs": [
    {
     "name": "stdout",
     "output_type": "stream",
     "text": [
      "\n",
      "Combined Feature Matrix Shape: (1251, 2221)\n"
     ]
    }
   ],
   "source": [
    "from scipy.sparse import hstack\n",
    "\n",
    "# Combine TF-IDF matrix and category encoding\n",
    "combined_features = hstack([title_tfidf_matrix, category_encoded.values])\n",
    "\n",
    "print(\"\\nCombined Feature Matrix Shape:\", combined_features.shape)"
   ]
  },
  {
   "cell_type": "code",
   "execution_count": null,
   "metadata": {},
   "outputs": [
    {
     "name": "stdout",
     "output_type": "stream",
     "text": [
      "\n",
      "Combined Similarity Matrix Shape: (1251, 1251)\n"
     ]
    }
   ],
   "source": [
    "# Compute cosine similarity with combined features\n",
    "combined_similarity_matrix = cosine_similarity(combined_features, combined_features)\n",
    "\n",
    "print(\"\\nCombined Similarity Matrix Shape:\", combined_similarity_matrix.shape)"
   ]
  },
  {
   "cell_type": "code",
   "execution_count": null,
   "metadata": {},
   "outputs": [
    {
     "name": "stdout",
     "output_type": "stream",
     "text": [
      "\n",
      "Combined Features Recommended Posts: [43, 696, 1250, 1315, 985, 44, 59, 85, 654, 684]\n"
     ]
    }
   ],
   "source": [
    "# Test recommendations with combined similarity\n",
    "recommended_posts = get_similar_posts(test_post_id, combined_similarity_matrix, N=10)\n",
    "print(\"\\nCombined Features Recommended Posts:\", recommended_posts)"
   ]
  },
  {
   "cell_type": "markdown",
   "metadata": {},
   "source": [
    "## 8. Integrate Numeric Features (e.g., Ratings)"
   ]
  },
  {
   "cell_type": "code",
   "execution_count": null,
   "metadata": {},
   "outputs": [
    {
     "name": "stdout",
     "output_type": "stream",
     "text": [
      "\n",
      "Enhanced Feature Matrix Shape: (1251, 2222)\n"
     ]
    }
   ],
   "source": [
    "from sklearn.preprocessing import MinMaxScaler\n",
    "from scipy.sparse import hstack, csr_matrix\n",
    "\n",
    "# Normalize numeric features\n",
    "numeric_features = content_features[['average_rating_features']].values\n",
    "scaler = MinMaxScaler()\n",
    "numeric_scaled = scaler.fit_transform(numeric_features)\n",
    "\n",
    "# Convert scaled features to sparse matrix\n",
    "numeric_sparse = csr_matrix(numeric_scaled)\n",
    "\n",
    "# Combine all features: TF-IDF, categories, and numeric features\n",
    "enhanced_features = hstack([title_tfidf_matrix, category_encoded.values, numeric_sparse])\n",
    "\n",
    "print(\"\\nEnhanced Feature Matrix Shape:\", enhanced_features.shape)"
   ]
  },
  {
   "cell_type": "code",
   "execution_count": null,
   "metadata": {},
   "outputs": [
    {
     "name": "stdout",
     "output_type": "stream",
     "text": [
      "\n",
      "Enhanced Similarity Matrix Shape: (1251, 1251)\n"
     ]
    }
   ],
   "source": [
    "# Compute similarity with enhanced features\n",
    "enhanced_similarity_matrix = cosine_similarity(enhanced_features, enhanced_features)\n",
    "print(\"\\nEnhanced Similarity Matrix Shape:\", enhanced_similarity_matrix.shape)"
   ]
  },
  {
   "cell_type": "code",
   "execution_count": null,
   "metadata": {},
   "outputs": [
    {
     "name": "stdout",
     "output_type": "stream",
     "text": [
      "\n",
      "Content-Based Recommended Posts: [696, 1250, 1315, 43, 985, 1224, 422, 583, 816, 697]\n"
     ]
    }
   ],
   "source": [
    "# Test enhanced recommendations (Content-Based Filtering)\n",
    "test_post_id = 11  # Replace with a valid post_id from your dataset\n",
    "content_recommended_posts = get_similar_posts(test_post_id, enhanced_similarity_matrix, N=10)\n",
    "print(\"\\nContent-Based Recommended Posts:\", content_recommended_posts)"
   ]
  },
  {
   "cell_type": "code",
   "execution_count": null,
   "metadata": {},
   "outputs": [
    {
     "name": "stdout",
     "output_type": "stream",
     "text": [
      "\n",
      "Details of Content-Based Recommended Posts:\n"
     ]
    },
    {
     "data": {
      "text/html": [
       "<div>\n",
       "<style scoped>\n",
       "    .dataframe tbody tr th:only-of-type {\n",
       "        vertical-align: middle;\n",
       "    }\n",
       "\n",
       "    .dataframe tbody tr th {\n",
       "        vertical-align: top;\n",
       "    }\n",
       "\n",
       "    .dataframe thead th {\n",
       "        text-align: right;\n",
       "    }\n",
       "</style>\n",
       "<table border=\"1\" class=\"dataframe\">\n",
       "  <thead>\n",
       "    <tr style=\"text-align: right;\">\n",
       "      <th></th>\n",
       "      <th>id</th>\n",
       "      <th>title</th>\n",
       "      <th>category_name</th>\n",
       "      <th>view_count</th>\n",
       "      <th>total_likes</th>\n",
       "      <th>average_rating_features</th>\n",
       "    </tr>\n",
       "  </thead>\n",
       "  <tbody>\n",
       "    <tr>\n",
       "      <th>23</th>\n",
       "      <td>43</td>\n",
       "      <td>why are you here?</td>\n",
       "      <td>Vible</td>\n",
       "      <td>95</td>\n",
       "      <td>2.0</td>\n",
       "      <td>20.911765</td>\n",
       "    </tr>\n",
       "    <tr>\n",
       "      <th>235</th>\n",
       "      <td>422</td>\n",
       "      <td>Unknown</td>\n",
       "      <td>Vible</td>\n",
       "      <td>94</td>\n",
       "      <td>1.0</td>\n",
       "      <td>50.444444</td>\n",
       "    </tr>\n",
       "    <tr>\n",
       "      <th>360</th>\n",
       "      <td>583</td>\n",
       "      <td>Unknown</td>\n",
       "      <td>Vible</td>\n",
       "      <td>75</td>\n",
       "      <td>6.0</td>\n",
       "      <td>48.142857</td>\n",
       "    </tr>\n",
       "    <tr>\n",
       "      <th>452</th>\n",
       "      <td>696</td>\n",
       "      <td>I am with you</td>\n",
       "      <td>Vible</td>\n",
       "      <td>27</td>\n",
       "      <td>0.0</td>\n",
       "      <td>37.857143</td>\n",
       "    </tr>\n",
       "    <tr>\n",
       "      <th>453</th>\n",
       "      <td>697</td>\n",
       "      <td>I am strong enough to save you</td>\n",
       "      <td>Vible</td>\n",
       "      <td>50</td>\n",
       "      <td>1.0</td>\n",
       "      <td>46.600000</td>\n",
       "    </tr>\n",
       "    <tr>\n",
       "      <th>550</th>\n",
       "      <td>816</td>\n",
       "      <td>The story of prophet Elijah proving who the re...</td>\n",
       "      <td>Vible</td>\n",
       "      <td>56</td>\n",
       "      <td>2.0</td>\n",
       "      <td>47.909091</td>\n",
       "    </tr>\n",
       "    <tr>\n",
       "      <th>696</th>\n",
       "      <td>985</td>\n",
       "      <td>Its all in the state of mind - StoicMentor</td>\n",
       "      <td>Vible</td>\n",
       "      <td>61</td>\n",
       "      <td>0.0</td>\n",
       "      <td>0.000000</td>\n",
       "    </tr>\n",
       "    <tr>\n",
       "      <th>903</th>\n",
       "      <td>1224</td>\n",
       "      <td>Early morning exercise. The world’s greatest m...</td>\n",
       "      <td>Vible</td>\n",
       "      <td>105</td>\n",
       "      <td>0.0</td>\n",
       "      <td>50.750000</td>\n",
       "    </tr>\n",
       "    <tr>\n",
       "      <th>929</th>\n",
       "      <td>1250</td>\n",
       "      <td>🙏🏽</td>\n",
       "      <td>Vible</td>\n",
       "      <td>79</td>\n",
       "      <td>1.0</td>\n",
       "      <td>36.000000</td>\n",
       "    </tr>\n",
       "    <tr>\n",
       "      <th>980</th>\n",
       "      <td>1315</td>\n",
       "      <td>do it now</td>\n",
       "      <td>Vible</td>\n",
       "      <td>119</td>\n",
       "      <td>3.0</td>\n",
       "      <td>36.000000</td>\n",
       "    </tr>\n",
       "  </tbody>\n",
       "</table>\n",
       "</div>"
      ],
      "text/plain": [
       "       id                                              title category_name  \\\n",
       "23     43                                  why are you here?         Vible   \n",
       "235   422                                            Unknown         Vible   \n",
       "360   583                                            Unknown         Vible   \n",
       "452   696                                      I am with you         Vible   \n",
       "453   697                     I am strong enough to save you         Vible   \n",
       "550   816  The story of prophet Elijah proving who the re...         Vible   \n",
       "696   985         Its all in the state of mind - StoicMentor         Vible   \n",
       "903  1224  Early morning exercise. The world’s greatest m...         Vible   \n",
       "929  1250                                                 🙏🏽         Vible   \n",
       "980  1315                                          do it now         Vible   \n",
       "\n",
       "     view_count  total_likes  average_rating_features  \n",
       "23           95          2.0                20.911765  \n",
       "235          94          1.0                50.444444  \n",
       "360          75          6.0                48.142857  \n",
       "452          27          0.0                37.857143  \n",
       "453          50          1.0                46.600000  \n",
       "550          56          2.0                47.909091  \n",
       "696          61          0.0                 0.000000  \n",
       "903         105          0.0                50.750000  \n",
       "929          79          1.0                36.000000  \n",
       "980         119          3.0                36.000000  "
      ]
     },
     "execution_count": 18,
     "metadata": {},
     "output_type": "execute_result"
    }
   ],
   "source": [
    "# View content-based recommended posts\n",
    "content_recommended_posts_cleaned = [int(post_id) for post_id in content_recommended_posts]\n",
    "content_recommended_posts_content = content_features[content_features['id'].isin(content_recommended_posts_cleaned)]\n",
    "print(\"\\nDetails of Content-Based Recommended Posts:\")\n",
    "content_recommended_posts_content[['id', 'title', 'category_name', 'view_count', 'total_likes', 'average_rating_features']]"
   ]
  },
  {
   "cell_type": "markdown",
   "metadata": {},
   "source": [
    "## 9. Collaborative Filtering: User-Post Interaction Matrix"
   ]
  },
  {
   "cell_type": "code",
   "execution_count": null,
   "metadata": {},
   "outputs": [
    {
     "name": "stdout",
     "output_type": "stream",
     "text": [
      "\n",
      "User-Post Matrix Shape: (831, 835)\n"
     ]
    }
   ],
   "source": [
    "# Load interactions\n",
    "interaction_df = pd.read_csv(\"../data/processed/interaction_df.csv\")\n",
    "\n",
    "# Create a user-post interaction matrix\n",
    "user_post_matrix = interaction_df.pivot_table(\n",
    "    index='user_id',\n",
    "    columns='post_id',\n",
    "    values='interaction_type',\n",
    "    aggfunc=lambda x: 1 if len(x) > 0 else 0\n",
    ").fillna(0)\n",
    "\n",
    "print(\"\\nUser-Post Matrix Shape:\", user_post_matrix.shape)"
   ]
  },
  {
   "cell_type": "markdown",
   "metadata": {},
   "source": [
    "# 10. Item-Item Collaborative Filtering"
   ]
  },
  {
   "cell_type": "code",
   "execution_count": null,
   "metadata": {},
   "outputs": [
    {
     "name": "stdout",
     "output_type": "stream",
     "text": [
      "\n",
      "Item-Item Similarity Matrix Shape: (835, 835)\n"
     ]
    }
   ],
   "source": [
    "post_user_matrix = user_post_matrix.T\n",
    "item_similarity_matrix = cosine_similarity(post_user_matrix)\n",
    "\n",
    "print(\"\\nItem-Item Similarity Matrix Shape:\", item_similarity_matrix.shape)"
   ]
  },
  {
   "cell_type": "code",
   "execution_count": null,
   "metadata": {},
   "outputs": [],
   "source": [
    "def recommend_posts(user_id, user_post_matrix, item_similarity_matrix, top_n=10):\n",
    "    \"\"\"\n",
    "    Recommend posts for a given user based on item-item collaborative filtering.\n",
    "    \"\"\"\n",
    "    # Get posts the user has interacted with\n",
    "    user_interactions = user_post_matrix.loc[user_id]\n",
    "    interacted_posts = user_interactions[user_interactions > 0].index.tolist()\n",
    "\n",
    "    # Dictionary to store recommendation scores\n",
    "    recommendation_scores = {}\n",
    "\n",
    "    # Get column indices for interacted posts\n",
    "    interacted_indices = [user_post_matrix.columns.get_loc(post_id) for post_id in interacted_posts]\n",
    "\n",
    "    # Iterate through each post the user has interacted with\n",
    "    for idx in interacted_indices:\n",
    "        # Get similarity scores for this post\n",
    "        similar_posts = item_similarity_matrix[idx]\n",
    "        \n",
    "        # Add similarity scores to the recommendation dictionary\n",
    "        for i, score in enumerate(similar_posts):\n",
    "            # Skip posts the user has already interacted with\n",
    "            if user_post_matrix.columns[i] in interacted_posts:\n",
    "                continue\n",
    "            if user_post_matrix.columns[i] not in recommendation_scores:\n",
    "                recommendation_scores[user_post_matrix.columns[i]] = 0\n",
    "            recommendation_scores[user_post_matrix.columns[i]] += score\n",
    "\n",
    "    # Sort recommendations by score in descending order\n",
    "    recommended_posts = sorted(recommendation_scores.items(), key=lambda x: x[1], reverse=True)\n",
    "\n",
    "    # Return top N recommended posts\n",
    "    return [post_id for post_id, score in recommended_posts[:top_n]]"
   ]
  },
  {
   "cell_type": "code",
   "execution_count": null,
   "metadata": {},
   "outputs": [
    {
     "name": "stdout",
     "output_type": "stream",
     "text": [
      "\n",
      "Collaborative Filtering Recommended Posts for User: [np.int64(82), np.int64(85), np.int64(837), np.int64(722), np.int64(658), np.int64(363), np.int64(845), np.int64(209), np.int64(1202), np.int64(922)]\n"
     ]
    }
   ],
   "source": [
    "# Test collaborative filtering recommendations\n",
    "sample_user_id = 1  # Replace with a valid user_id from your dataset\n",
    "collaborative_recommended_posts = recommend_posts(sample_user_id, user_post_matrix, item_similarity_matrix)\n",
    "print(\"\\nCollaborative Filtering Recommended Posts for User:\", collaborative_recommended_posts)"
   ]
  },
  {
   "cell_type": "code",
   "execution_count": null,
   "metadata": {},
   "outputs": [
    {
     "name": "stdout",
     "output_type": "stream",
     "text": [
      "\n",
      "Details of Collaborative Filtering Recommended Posts:\n"
     ]
    },
    {
     "data": {
      "text/html": [
       "<div>\n",
       "<style scoped>\n",
       "    .dataframe tbody tr th:only-of-type {\n",
       "        vertical-align: middle;\n",
       "    }\n",
       "\n",
       "    .dataframe tbody tr th {\n",
       "        vertical-align: top;\n",
       "    }\n",
       "\n",
       "    .dataframe thead th {\n",
       "        text-align: right;\n",
       "    }\n",
       "</style>\n",
       "<table border=\"1\" class=\"dataframe\">\n",
       "  <thead>\n",
       "    <tr style=\"text-align: right;\">\n",
       "      <th></th>\n",
       "      <th>id</th>\n",
       "      <th>title</th>\n",
       "      <th>category_name</th>\n",
       "      <th>view_count</th>\n",
       "      <th>total_likes</th>\n",
       "      <th>average_rating_features</th>\n",
       "    </tr>\n",
       "  </thead>\n",
       "  <tbody>\n",
       "    <tr>\n",
       "      <th>55</th>\n",
       "      <td>82</td>\n",
       "      <td>Decide to be extraodinary and do</td>\n",
       "      <td>Vible</td>\n",
       "      <td>88</td>\n",
       "      <td>2.0</td>\n",
       "      <td>34.200000</td>\n",
       "    </tr>\n",
       "    <tr>\n",
       "      <th>58</th>\n",
       "      <td>85</td>\n",
       "      <td>Fun fact: Oscar Wilde was a homosexual. I thin...</td>\n",
       "      <td>Vible</td>\n",
       "      <td>58</td>\n",
       "      <td>0.0</td>\n",
       "      <td>24.285714</td>\n",
       "    </tr>\n",
       "    <tr>\n",
       "      <th>118</th>\n",
       "      <td>209</td>\n",
       "      <td>Unknown</td>\n",
       "      <td>Vible</td>\n",
       "      <td>92</td>\n",
       "      <td>0.0</td>\n",
       "      <td>32.428571</td>\n",
       "    </tr>\n",
       "    <tr>\n",
       "      <th>181</th>\n",
       "      <td>363</td>\n",
       "      <td>Unknown</td>\n",
       "      <td>Vible</td>\n",
       "      <td>55</td>\n",
       "      <td>0.0</td>\n",
       "      <td>29.111111</td>\n",
       "    </tr>\n",
       "    <tr>\n",
       "      <th>416</th>\n",
       "      <td>658</td>\n",
       "      <td>Rule No. 3. Gratitude.  Follow for more.</td>\n",
       "      <td>Vible</td>\n",
       "      <td>94</td>\n",
       "      <td>0.0</td>\n",
       "      <td>25.000000</td>\n",
       "    </tr>\n",
       "    <tr>\n",
       "      <th>477</th>\n",
       "      <td>722</td>\n",
       "      <td>He saved us -</td>\n",
       "      <td>Vible</td>\n",
       "      <td>92</td>\n",
       "      <td>1.0</td>\n",
       "      <td>26.500000</td>\n",
       "    </tr>\n",
       "    <tr>\n",
       "      <th>567</th>\n",
       "      <td>837</td>\n",
       "      <td>No more things of this world Amen</td>\n",
       "      <td>Vible</td>\n",
       "      <td>74</td>\n",
       "      <td>0.0</td>\n",
       "      <td>25.888889</td>\n",
       "    </tr>\n",
       "    <tr>\n",
       "      <th>572</th>\n",
       "      <td>845</td>\n",
       "      <td>For God so loved the world</td>\n",
       "      <td>Vible</td>\n",
       "      <td>98</td>\n",
       "      <td>0.0</td>\n",
       "      <td>36.500000</td>\n",
       "    </tr>\n",
       "    <tr>\n",
       "      <th>645</th>\n",
       "      <td>922</td>\n",
       "      <td>Jesus EXPOSED Satan!</td>\n",
       "      <td>Vible</td>\n",
       "      <td>12</td>\n",
       "      <td>1.0</td>\n",
       "      <td>27.000000</td>\n",
       "    </tr>\n",
       "    <tr>\n",
       "      <th>883</th>\n",
       "      <td>1202</td>\n",
       "      <td>The Higher Self Podcast + TAG your personal he...</td>\n",
       "      <td>Vible</td>\n",
       "      <td>92</td>\n",
       "      <td>2.0</td>\n",
       "      <td>28.666667</td>\n",
       "    </tr>\n",
       "  </tbody>\n",
       "</table>\n",
       "</div>"
      ],
      "text/plain": [
       "       id                                              title category_name  \\\n",
       "55     82                   Decide to be extraodinary and do         Vible   \n",
       "58     85  Fun fact: Oscar Wilde was a homosexual. I thin...         Vible   \n",
       "118   209                                            Unknown         Vible   \n",
       "181   363                                            Unknown         Vible   \n",
       "416   658           Rule No. 3. Gratitude.  Follow for more.         Vible   \n",
       "477   722                                      He saved us -         Vible   \n",
       "567   837                  No more things of this world Amen         Vible   \n",
       "572   845                         For God so loved the world         Vible   \n",
       "645   922                               Jesus EXPOSED Satan!         Vible   \n",
       "883  1202  The Higher Self Podcast + TAG your personal he...         Vible   \n",
       "\n",
       "     view_count  total_likes  average_rating_features  \n",
       "55           88          2.0                34.200000  \n",
       "58           58          0.0                24.285714  \n",
       "118          92          0.0                32.428571  \n",
       "181          55          0.0                29.111111  \n",
       "416          94          0.0                25.000000  \n",
       "477          92          1.0                26.500000  \n",
       "567          74          0.0                25.888889  \n",
       "572          98          0.0                36.500000  \n",
       "645          12          1.0                27.000000  \n",
       "883          92          2.0                28.666667  "
      ]
     },
     "execution_count": 23,
     "metadata": {},
     "output_type": "execute_result"
    }
   ],
   "source": [
    "# View collaborative filtering recommended posts\n",
    "collaborative_recommended_posts_cleaned = [int(post_id) for post_id in collaborative_recommended_posts]\n",
    "collaborative_recommended_posts_content = content_features[content_features['id'].isin(collaborative_recommended_posts_cleaned)]\n",
    "print(\"\\nDetails of Collaborative Filtering Recommended Posts:\")\n",
    "collaborative_recommended_posts_content[['id', 'title', 'category_name', 'view_count', 'total_likes', 'average_rating_features']]"
   ]
  },
  {
   "cell_type": "markdown",
   "metadata": {},
   "source": [
    "## Evaluate Both Algorithms"
   ]
  },
  {
   "cell_type": "code",
   "execution_count": null,
   "metadata": {},
   "outputs": [
    {
     "name": "stdout",
     "output_type": "stream",
     "text": [
      "Content-Based Filtering Metrics:\n",
      "Mean Absolute Error (MAE): 2.1767180704906552\n",
      "Root Mean Square Error (RMSE): 9.616898364307184\n"
     ]
    },
    {
     "name": "stderr",
     "output_type": "stream",
     "text": [
      "/mnt/d/Users/RJ/Career_Growth/Career Development/Job application/Internshala/AI Intern at Persist Ventures/Video-Recommendation-Assignment-Acaac/venv/lib/python3.10/site-packages/sklearn/metrics/_regression.py:492: FutureWarning: 'squared' is deprecated in version 1.4 and will be removed in 1.6. To calculate the root mean squared error, use the function'root_mean_squared_error'.\n",
      "  warnings.warn(\n"
     ]
    }
   ],
   "source": [
    "from sklearn.metrics import mean_absolute_error, mean_squared_error\n",
    "import numpy as np\n",
    "\n",
    "# Step 1: Align enhanced similarity matrix with posts in user-post matrix\n",
    "# Get the post IDs in the user-post interaction matrix\n",
    "interaction_post_ids = user_post_matrix.columns\n",
    "\n",
    "# Filter the enhanced similarity matrix to include only these posts\n",
    "post_indices = [content_features[content_features['id'] == post_id].index[0] for post_id in interaction_post_ids]\n",
    "aligned_similarity_matrix = enhanced_similarity_matrix[post_indices, :][:, post_indices]\n",
    "\n",
    "# Step 2: Generate predicted scores using the aligned similarity matrix\n",
    "predicted_scores_content = aligned_similarity_matrix.dot(user_post_matrix.T).T\n",
    "\n",
    "# Step 3: Align ground truth with predictions\n",
    "ground_truth_content = user_post_matrix.values\n",
    "\n",
    "# Ensure alignment of shapes\n",
    "predicted_scores_content = predicted_scores_content[:ground_truth_content.shape[0], :ground_truth_content.shape[1]]\n",
    "\n",
    "# Step 4: Evaluate using MAE and RMSE\n",
    "mae_content = mean_absolute_error(ground_truth_content.flatten(), predicted_scores_content.flatten())\n",
    "rmse_content = mean_squared_error(ground_truth_content.flatten(), predicted_scores_content.flatten(), squared=False)\n",
    "\n",
    "print(\"Content-Based Filtering Metrics:\")\n",
    "print(\"Mean Absolute Error (MAE):\", mae_content)\n",
    "print(\"Root Mean Square Error (RMSE):\", rmse_content)"
   ]
  },
  {
   "cell_type": "code",
   "execution_count": null,
   "metadata": {},
   "outputs": [
    {
     "name": "stdout",
     "output_type": "stream",
     "text": [
      "Collaborative Filtering Metrics:\n",
      "Mean Absolute Error (MAE): 1.135038809364519\n",
      "Root Mean Square Error (RMSE): 6.049667795962524\n"
     ]
    }
   ],
   "source": [
    "from sklearn.metrics import mean_absolute_error, mean_squared_error\n",
    "import numpy as np\n",
    "\n",
    "# Step 1: Extract binary ground truth from interaction_df\n",
    "# Pivot interaction_df to create a ground truth matrix\n",
    "ground_truth = interaction_df.pivot_table(\n",
    "    index='user_id',\n",
    "    columns='post_id',\n",
    "    values='interaction_type',\n",
    "    aggfunc=lambda x: 1 if len(x) > 0 else 0\n",
    ").fillna(0)\n",
    "\n",
    "# Step 2: Generate predicted scores\n",
    "# For simplicity, use item-item collaborative filtering scores for now\n",
    "# The shape of item_similarity_matrix should match ground_truth.T\n",
    "predicted_scores = np.dot(ground_truth.values, item_similarity_matrix)\n",
    "\n",
    "# Ensure predicted_scores aligns with the same structure as ground_truth\n",
    "predicted_scores_df = pd.DataFrame(predicted_scores, index=ground_truth.index, columns=ground_truth.columns)\n",
    "\n",
    "# Step 3: Flatten ground truth and predictions for evaluation\n",
    "ground_truth_flat = ground_truth.values.flatten()\n",
    "predicted_scores_flat = predicted_scores_df.values.flatten()\n",
    "\n",
    "# Step 4: Calculate MAE and RMSE\n",
    "mae = mean_absolute_error(ground_truth_flat, predicted_scores_flat)\n",
    "rmse = np.sqrt(mean_squared_error(ground_truth_flat, predicted_scores_flat))\n",
    "\n",
    "# Step 5: Display results\n",
    "print(\"Collaborative Filtering Metrics:\")\n",
    "print(\"Mean Absolute Error (MAE):\", mae)\n",
    "print(\"Root Mean Square Error (RMSE):\", rmse)"
   ]
  },
  {
   "cell_type": "markdown",
   "metadata": {},
   "source": [
    "## Hybrid Model"
   ]
  },
  {
   "cell_type": "code",
   "execution_count": null,
   "metadata": {},
   "outputs": [
    {
     "name": "stdout",
     "output_type": "stream",
     "text": [
      "\n",
      "Hybrid Model Metrics:\n",
      "Mean Absolute Error (MAE): 0.018933430124519708\n",
      "Root Mean Square Error (RMSE): 0.08598895648157523\n"
     ]
    },
    {
     "name": "stderr",
     "output_type": "stream",
     "text": [
      "/mnt/d/Users/RJ/Career_Growth/Career Development/Job application/Internshala/AI Intern at Persist Ventures/Video-Recommendation-Assignment-Acaac/venv/lib/python3.10/site-packages/sklearn/metrics/_regression.py:492: FutureWarning: 'squared' is deprecated in version 1.4 and will be removed in 1.6. To calculate the root mean squared error, use the function'root_mean_squared_error'.\n",
      "  warnings.warn(\n"
     ]
    }
   ],
   "source": [
    "# Map post IDs in user_post_matrix to indices in enhanced_similarity_matrix\n",
    "post_id_to_index = {post_id: idx for idx, post_id in enumerate(content_features['id'])}\n",
    "filtered_indices = [post_id_to_index[post_id] for post_id in user_post_matrix.columns if post_id in post_id_to_index]\n",
    "\n",
    "# Filter enhanced similarity matrix to match posts in user_post_matrix\n",
    "enhanced_similarity_matrix_filtered = enhanced_similarity_matrix[\n",
    "    filtered_indices, :][:, filtered_indices]\n",
    "\n",
    "# Generate Content-Based Filtering Predicted Scores\n",
    "predicted_scores_content = user_post_matrix.dot(enhanced_similarity_matrix_filtered)\n",
    "\n",
    "# Generate Collaborative Filtering Predicted Scores\n",
    "predicted_scores_collab = user_post_matrix.dot(item_similarity_matrix)\n",
    "\n",
    "# Normalize predictions\n",
    "scaler = MinMaxScaler()\n",
    "\n",
    "# Normalize Collaborative Filtering predictions\n",
    "normalized_collab = scaler.fit_transform(predicted_scores_collab)\n",
    "\n",
    "# Normalize Content-Based Filtering predictions\n",
    "normalized_content = scaler.fit_transform(predicted_scores_content)\n",
    "\n",
    "# Weighted Aggregation\n",
    "weight_collab = 0.7\n",
    "weight_content = 0.3\n",
    "hybrid_predictions = (weight_collab * normalized_collab) + (weight_content * normalized_content)\n",
    "\n",
    "# Align Ground Truth\n",
    "ground_truth_hybrid = user_post_matrix.values\n",
    "\n",
    "# Evaluate the Hybrid Model\n",
    "from sklearn.metrics import mean_absolute_error, mean_squared_error\n",
    "\n",
    "mae_hybrid = mean_absolute_error(ground_truth_hybrid.flatten(), hybrid_predictions.flatten())\n",
    "rmse_hybrid = mean_squared_error(ground_truth_hybrid.flatten(), hybrid_predictions.flatten(), squared=False)\n",
    "\n",
    "print(\"\\nHybrid Model Metrics:\")\n",
    "print(\"Mean Absolute Error (MAE):\", mae_hybrid)\n",
    "print(\"Root Mean Square Error (RMSE):\", rmse_hybrid)"
   ]
  },
  {
   "cell_type": "markdown",
   "metadata": {},
   "source": [
    "### **Compare Models**\n",
    "\n",
    "We’ll compare the **Content-Based Filtering**, **Collaborative Filtering**, and **Hybrid Model** based on their **MAE** and **RMSE** metrics.\n",
    "\n",
    "---\n",
    "\n",
    "### **Metrics Summary**\n",
    "\n",
    "| Model | MAE | RMSE |\n",
    "| --- | --- | --- |\n",
    "| Content-Based Filtering | 2.1767 | 9.6169 |\n",
    "| Collaborative Filtering | 1.1350 | 6.0497 |\n",
    "| Hybrid Model | 0.0189 | 0.0860 |\n",
    "\n",
    "---\n",
    "\n",
    "### **Key Observations**\n",
    "\n",
    "1. **Content-Based Filtering**:\n",
    "    - Higher MAE and RMSE indicate weaker performance.\n",
    "    - The similarity-based approach is not as effective when used in isolation, as it relies solely on content similarity.\n",
    "2. **Collaborative Filtering**:\n",
    "    - MAE and RMSE are significantly better compared to content-based filtering.\n",
    "    - The model benefits from patterns in user interactions but may struggle with cold-start problems (e.g., new users or items).\n",
    "3. **Hybrid Model**:\n",
    "    - Outperforms both models by combining their strengths.\n",
    "    - Achieves extremely low MAE and RMSE, indicating highly accurate predictions.\n",
    "    - Balances the strengths of both algorithms while mitigating their individual weaknesses."
   ]
  },
  {
   "cell_type": "markdown",
   "metadata": {},
   "source": [
    "### **Generate Recommendations Using the Hybrid Model**\n",
    "\n",
    "Now, we will generate recommendations for specific users based on the hybrid model. This involves:\n",
    "\n",
    "1. **Scoring All Posts for a Specific User**:\n",
    "    - Use the hybrid predictions to determine scores for all posts for a user.\n",
    "2. **Sorting the Scores**:\n",
    "    - Rank the posts based on the scores in descending order.\n",
    "3. **Filtering Out Interacted Posts**:\n",
    "    - Exclude posts the user has already interacted with.\n",
    "4. **Retrieving the Top-N Recommendations**:\n",
    "    - Select the top-N posts for the user."
   ]
  },
  {
   "cell_type": "code",
   "execution_count": null,
   "metadata": {},
   "outputs": [],
   "source": [
    "def recommend_hybrid(user_id, user_post_matrix, hybrid_predictions, top_n=10):\n",
    "    \"\"\"\n",
    "    Generate recommendations for a specific user using the hybrid model.\n",
    "    \"\"\"\n",
    "    # Get index of the user in the user_post_matrix\n",
    "    user_index = user_post_matrix.index.get_loc(user_id)\n",
    "    \n",
    "    # Get scores for all posts for this user\n",
    "    user_scores = hybrid_predictions[user_index]\n",
    "    \n",
    "    # Get the posts the user has already interacted with\n",
    "    interacted_posts = user_post_matrix.loc[user_id]\n",
    "    interacted_post_ids = interacted_posts[interacted_posts > 0].index.tolist()\n",
    "    \n",
    "    # Create a DataFrame with post IDs and scores\n",
    "    scores_df = pd.DataFrame({\n",
    "        'post_id': user_post_matrix.columns,\n",
    "        'score': user_scores\n",
    "    })\n",
    "    \n",
    "    # Exclude interacted posts\n",
    "    scores_df = scores_df[~scores_df['post_id'].isin(interacted_post_ids)]\n",
    "    \n",
    "    # Sort by score in descending order and select top-N\n",
    "    top_recommendations = scores_df.sort_values(by='score', ascending=False).head(top_n)\n",
    "    \n",
    "    return top_recommendations"
   ]
  },
  {
   "cell_type": "code",
   "execution_count": null,
   "metadata": {},
   "outputs": [
    {
     "name": "stdout",
     "output_type": "stream",
     "text": [
      "\n",
      "Top Recommendations for User 1\n",
      "     post_id  score\n",
      "791     1401    1.0\n",
      "790     1400    1.0\n",
      "658     1243    1.0\n",
      "648     1233    1.0\n",
      "636     1220    1.0\n",
      "632     1216    1.0\n",
      "48        82    1.0\n",
      "375      845    1.0\n",
      "330      775    1.0\n",
      "335      781    1.0\n",
      "\n",
      "Details of Recommended Posts:\n"
     ]
    },
    {
     "data": {
      "text/html": [
       "<div>\n",
       "<style scoped>\n",
       "    .dataframe tbody tr th:only-of-type {\n",
       "        vertical-align: middle;\n",
       "    }\n",
       "\n",
       "    .dataframe tbody tr th {\n",
       "        vertical-align: top;\n",
       "    }\n",
       "\n",
       "    .dataframe thead th {\n",
       "        text-align: right;\n",
       "    }\n",
       "</style>\n",
       "<table border=\"1\" class=\"dataframe\">\n",
       "  <thead>\n",
       "    <tr style=\"text-align: right;\">\n",
       "      <th></th>\n",
       "      <th>id</th>\n",
       "      <th>title</th>\n",
       "      <th>category_name</th>\n",
       "      <th>view_count</th>\n",
       "      <th>total_likes</th>\n",
       "      <th>average_rating_features</th>\n",
       "    </tr>\n",
       "  </thead>\n",
       "  <tbody>\n",
       "    <tr>\n",
       "      <th>55</th>\n",
       "      <td>82</td>\n",
       "      <td>Decide to be extraodinary and do</td>\n",
       "      <td>Vible</td>\n",
       "      <td>88</td>\n",
       "      <td>2.0</td>\n",
       "      <td>34.200000</td>\n",
       "    </tr>\n",
       "    <tr>\n",
       "      <th>513</th>\n",
       "      <td>775</td>\n",
       "      <td>part 2</td>\n",
       "      <td>Vible</td>\n",
       "      <td>76</td>\n",
       "      <td>2.0</td>\n",
       "      <td>33.250000</td>\n",
       "    </tr>\n",
       "    <tr>\n",
       "      <th>518</th>\n",
       "      <td>781</td>\n",
       "      <td>introduction vid by-  King</td>\n",
       "      <td>Vible</td>\n",
       "      <td>42</td>\n",
       "      <td>1.0</td>\n",
       "      <td>32.400000</td>\n",
       "    </tr>\n",
       "    <tr>\n",
       "      <th>572</th>\n",
       "      <td>845</td>\n",
       "      <td>For God so loved the world</td>\n",
       "      <td>Vible</td>\n",
       "      <td>98</td>\n",
       "      <td>0.0</td>\n",
       "      <td>36.500000</td>\n",
       "    </tr>\n",
       "    <tr>\n",
       "      <th>896</th>\n",
       "      <td>1216</td>\n",
       "      <td>Strive for true vitality…#dailywisdom #inspost...</td>\n",
       "      <td>Vible</td>\n",
       "      <td>45</td>\n",
       "      <td>1.0</td>\n",
       "      <td>28.000000</td>\n",
       "    </tr>\n",
       "    <tr>\n",
       "      <th>900</th>\n",
       "      <td>1220</td>\n",
       "      <td>The discomfort of change is always better than...</td>\n",
       "      <td>Vible</td>\n",
       "      <td>49</td>\n",
       "      <td>1.0</td>\n",
       "      <td>28.000000</td>\n",
       "    </tr>\n",
       "    <tr>\n",
       "      <th>912</th>\n",
       "      <td>1233</td>\n",
       "      <td>“We are actors…” #dailywisdom #inspiration #mo...</td>\n",
       "      <td>Vible</td>\n",
       "      <td>72</td>\n",
       "      <td>0.0</td>\n",
       "      <td>32.333333</td>\n",
       "    </tr>\n",
       "    <tr>\n",
       "      <th>922</th>\n",
       "      <td>1243</td>\n",
       "      <td>“Listen to what they do…” 💯 - Justin Waller #r...</td>\n",
       "      <td>Vible</td>\n",
       "      <td>40</td>\n",
       "      <td>0.0</td>\n",
       "      <td>35.000000</td>\n",
       "    </tr>\n",
       "    <tr>\n",
       "      <th>1054</th>\n",
       "      <td>1400</td>\n",
       "      <td>mountainwolf14_7342944092571176194</td>\n",
       "      <td>Bloom Scroll</td>\n",
       "      <td>4</td>\n",
       "      <td>1.0</td>\n",
       "      <td>19.000000</td>\n",
       "    </tr>\n",
       "    <tr>\n",
       "      <th>1055</th>\n",
       "      <td>1401</td>\n",
       "      <td>You are enough #qoutesoftheday #hopecore #deep...</td>\n",
       "      <td>Bloom Scroll</td>\n",
       "      <td>6</td>\n",
       "      <td>0.0</td>\n",
       "      <td>15.000000</td>\n",
       "    </tr>\n",
       "  </tbody>\n",
       "</table>\n",
       "</div>"
      ],
      "text/plain": [
       "        id                                              title category_name  \\\n",
       "55      82                   Decide to be extraodinary and do         Vible   \n",
       "513    775                                             part 2         Vible   \n",
       "518    781                         introduction vid by-  King         Vible   \n",
       "572    845                         For God so loved the world         Vible   \n",
       "896   1216  Strive for true vitality…#dailywisdom #inspost...         Vible   \n",
       "900   1220  The discomfort of change is always better than...         Vible   \n",
       "912   1233  “We are actors…” #dailywisdom #inspiration #mo...         Vible   \n",
       "922   1243  “Listen to what they do…” 💯 - Justin Waller #r...         Vible   \n",
       "1054  1400                 mountainwolf14_7342944092571176194  Bloom Scroll   \n",
       "1055  1401  You are enough #qoutesoftheday #hopecore #deep...  Bloom Scroll   \n",
       "\n",
       "      view_count  total_likes  average_rating_features  \n",
       "55            88          2.0                34.200000  \n",
       "513           76          2.0                33.250000  \n",
       "518           42          1.0                32.400000  \n",
       "572           98          0.0                36.500000  \n",
       "896           45          1.0                28.000000  \n",
       "900           49          1.0                28.000000  \n",
       "912           72          0.0                32.333333  \n",
       "922           40          0.0                35.000000  \n",
       "1054           4          1.0                19.000000  \n",
       "1055           6          0.0                15.000000  "
      ]
     },
     "execution_count": 28,
     "metadata": {},
     "output_type": "execute_result"
    }
   ],
   "source": [
    "# Example Usage\n",
    "sample_user_id = 1  # Replace with a valid user_id from your dataset\n",
    "top_recommendations = recommend_hybrid(sample_user_id, user_post_matrix, hybrid_predictions, top_n=10)\n",
    "\n",
    "print(\"\\nTop Recommendations for User\", sample_user_id)\n",
    "print(top_recommendations)\n",
    "\n",
    "# Retrieve and display details of the recommended posts\n",
    "recommended_posts_content = content_features[content_features['id'].isin(top_recommendations['post_id'])]\n",
    "print(\"\\nDetails of Recommended Posts:\")\n",
    "recommended_posts_content[['id', 'title', 'category_name', 'view_count', 'total_likes', 'average_rating_features']]"
   ]
  },
  {
   "cell_type": "markdown",
   "metadata": {},
   "source": [
    "### Recommendations Summary\n",
    "\n",
    "### **Top Recommendations for User 1:**\n",
    "\n",
    "- **Post IDs and Scores:**\n",
    "The top 10 recommendations for User 1 have all received a score of `1.0`, indicating they are equally recommended based on the hybrid model.\n",
    "\n",
    "### **Details of Recommended Posts:**\n",
    "\n",
    "- **Notable Posts:**\n",
    "    - **Post 1401:** *\"You are enough\"* (Bloom Scroll, #qoutesoftheday)\n",
    "    - **Post 845:** *\"For God so loved the world\"* (Vible, Inspirational)\n",
    "    - **Post 1233:** *\"We are actors…\"* (Vible, Daily Wisdom)\n",
    "    - **Post 1243:** *\"Listen to what they do…\"* (Vible, Motivational)\n",
    "- **Categories:**\n",
    "    - Posts are mostly from *Vible* and *Bloom Scroll* categories.\n",
    "    - A mix of motivational, inspirational, and reflective content is recommended.\n",
    "- **Engagement Metrics:**\n",
    "    - Posts with relatively high **view counts** (e.g., 98 views for Post 845).\n",
    "    - Varying **like counts**, with some highly engaged posts (e.g., Post 82 with 88 views and 2 likes)."
   ]
  },
  {
   "cell_type": "markdown",
   "metadata": {},
   "source": [
    "### Documenting Insights"
   ]
  },
  {
   "cell_type": "code",
   "execution_count": null,
   "metadata": {},
   "outputs": [
    {
     "data": {
      "image/png": "[encoded data removed]",
      "text/plain": [
       "<Figure size 1200x600 with 1 Axes>"
      ]
     },
     "metadata": {},
     "output_type": "display_data"
    }
   ],
   "source": [
    "import matplotlib.pyplot as plt\n",
    "\n",
    "# Ensure recommended_posts contains the list of recommended post IDs\n",
    "# Replace `recommended_posts` with your variable containing the list of recommended post IDs\n",
    "recommended_post_ids = recommended_posts\n",
    "\n",
    "# Retrieve engagement metrics for recommended posts\n",
    "recommended_posts_content = content_features[content_features['id'].isin(recommended_post_ids)]\n",
    "\n",
    "# Extract data for plotting\n",
    "post_ids = recommended_posts_content['id'].tolist()\n",
    "views = recommended_posts_content['view_count'].tolist()\n",
    "likes = recommended_posts_content['total_likes'].tolist()\n",
    "ratings = recommended_posts_content['average_rating_features'].tolist()\n",
    "\n",
    "# Bar chart for engagement metrics\n",
    "plt.figure(figsize=(12, 6))\n",
    "x = range(len(post_ids))\n",
    "\n",
    "plt.bar(x, views, width=0.2, label=\"Views\", align=\"center\")\n",
    "plt.bar([i + 0.2 for i in x], likes, width=0.2, label=\"Likes\", align=\"center\")\n",
    "plt.bar([i + 0.4 for i in x], ratings, width=0.2, label=\"Average Rating\", align=\"center\")\n",
    "\n",
    "plt.xlabel(\"Post IDs\")\n",
    "plt.ylabel(\"Engagement Metrics\")\n",
    "plt.title(\"Engagement Metrics of Recommended Posts\")\n",
    "plt.xticks([i + 0.2 for i in x], post_ids, rotation=45)\n",
    "plt.legend()\n",
    "plt.tight_layout()\n",
    "plt.show()"
   ]
  },
  {
   "cell_type": "markdown",
   "metadata": {},
   "source": [
    "### Summary of Results and Insights:\n",
    "\n",
    "1. **Engagement Metrics Overview**:\n",
    "    - The recommended posts show a wide range of engagement metrics (Views, Likes, and Average Ratings).\n",
    "    - Post **44** stands out with the highest number of **Views**, indicating strong viewer interest.\n",
    "    - Posts **696** and **1315** exhibit relatively high **Average Ratings**, reflecting a positive reception by users.\n",
    "2. **Diversity in Engagement**:\n",
    "    - Some posts, like **44**, attract significant views but have relatively low likes and ratings. This suggests that while they are widely seen, they may not resonate deeply with users.\n",
    "    - Other posts, such as **696**, show a balance between views and higher ratings, indicating they are both visible and well-received.\n",
    "3. **Potential Improvement Areas**:\n",
    "    - Posts with high views but lower likes and ratings could indicate a mismatch between user preferences and content quality or relevance. These posts can be re-evaluated to identify improvement opportunities.\n",
    "    - Recommendations should focus on posts like **696** and **1315**, which achieve both high visibility and positive user feedback.\n",
    "4. **Insights for the Recommendation System**:\n",
    "    - **Collaborative Filtering** seems effective at identifying posts with balanced metrics (e.g., **696**, **1315**), showcasing its ability to leverage user interaction data.\n",
    "    - **Content-Based Filtering** complements this by suggesting posts that align with user preferences, as seen in high views for posts like **44**.\n",
    "5. **Hybrid Model Effectiveness**:\n",
    "    - The hybrid model’s ability to recommend posts that combine high engagement across metrics validates its performance.\n",
    "    - Incorporating user interaction data and content similarity ensures diverse recommendations, catering to different types of user behavior."
   ]
  }
 ],
 "metadata": {
  "language_info": {
   "name": "python"
  }
 },
 "nbformat": 4,
 "nbformat_minor": 2
}
