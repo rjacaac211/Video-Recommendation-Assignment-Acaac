{
 "cells": [
  {
   "cell_type": "code",
   "execution_count": 1,
   "metadata": {},
   "outputs": [],
   "source": [
    "# Importing necessary libraries\n",
    "import pandas as pd\n",
    "from sklearn.metrics import mean_absolute_error, mean_squared_error\n",
    "import numpy as np\n",
    "from src.recommendation_engine.content_based import ContentBasedRecommender\n",
    "from src.recommendation_engine.collaborative import CollaborativeRecommender\n",
    "from src.recommendation_engine.hybrid import HybridRecommender"
   ]
  },
  {
   "cell_type": "code",
   "execution_count": 2,
   "metadata": {},
   "outputs": [
    {
     "name": "stdout",
     "output_type": "stream",
     "text": [
      "Loading interactions data from data/processed/interaction_df.csv...\n",
      "Interactions DataFrame Loaded: (9781, 9) rows, columns: ['id', 'post_id', 'user_id', 'viewed_at', 'interaction_type', 'rating_percent', 'liked_at', 'inspired_at', 'rated_at']\n",
      "     id  post_id  user_id            viewed_at interaction_type  \\\n",
      "0  9447     1256        1  2024-09-24 13:33:57           viewed   \n",
      "1  9487     1253        1  2024-09-25 07:34:56           viewed   \n",
      "2  9488     1257        1  2024-09-25 07:36:46           viewed   \n",
      "3  9489     1258        1  2024-09-25 07:36:47           viewed   \n",
      "4  9502     1252        1  2024-09-26 15:09:11           viewed   \n",
      "\n",
      "   rating_percent liked_at inspired_at rated_at  \n",
      "0             NaN      NaN         NaN      NaN  \n",
      "1             NaN      NaN         NaN      NaN  \n",
      "2             NaN      NaN         NaN      NaN  \n",
      "3             NaN      NaN         NaN      NaN  \n",
      "4             NaN      NaN         NaN      NaN  \n",
      "Creating User-Post Interaction Matrix...\n",
      "User-Post Matrix Shape: (831, 835)\n",
      "User-Post Interaction Matrix (First Few Rows):\n",
      "post_id  11    12    13    14    15    16    17    19    23    26    ...  \\\n",
      "user_id                                                              ...   \n",
      "1         1.0   1.0   1.0   1.0   1.0   1.0   1.0   1.0   1.0   1.0  ...   \n",
      "5         1.0   0.0   0.0   1.0   1.0   1.0   0.0   1.0   1.0   0.0  ...   \n",
      "9         0.0   0.0   1.0   1.0   1.0   1.0   0.0   1.0   1.0   1.0  ...   \n",
      "16        1.0   0.0   0.0   0.0   0.0   0.0   0.0   0.0   0.0   0.0  ...   \n",
      "18        1.0   0.0   1.0   1.0   1.0   1.0   1.0   1.0   1.0   1.0  ...   \n",
      "\n",
      "post_id  1631  1632  1633  1634  1636  1638  1640  1641  1644  1654  \n",
      "user_id                                                              \n",
      "1         0.0   0.0   0.0   0.0   0.0   0.0   0.0   0.0   0.0   0.0  \n",
      "5         0.0   0.0   0.0   0.0   0.0   0.0   0.0   0.0   0.0   0.0  \n",
      "9         0.0   0.0   0.0   0.0   0.0   0.0   0.0   0.0   0.0   0.0  \n",
      "16        0.0   0.0   0.0   0.0   0.0   0.0   0.0   0.0   0.0   0.0  \n",
      "18        0.0   0.0   0.0   0.0   0.0   0.0   0.0   0.0   0.0   0.0  \n",
      "\n",
      "[5 rows x 835 columns]\n",
      "Computing Item-Item Similarity...\n",
      "Item-Item Similarity Matrix Shape: (835, 835)\n"
     ]
    }
   ],
   "source": [
    "# Initialize the Content-Based and Collaborative Filtering models\n",
    "# Assuming you have your models already created\n",
    "posts_csv_path = \"data/processed/all_posts_with_features.csv\"\n",
    "interaction_csv_path = \"data/processed/interaction_df.csv\"\n",
    "\n",
    "# Initialize the content and collaborative models\n",
    "content_recommender = ContentBasedRecommender(posts_csv_path)\n",
    "collaborative_recommender = CollaborativeRecommender(interaction_csv_path)\n",
    "\n",
    "# Initialize the HybridRecommender\n",
    "hybrid_recommender = HybridRecommender(content_model=content_recommender, collaborative_model=collaborative_recommender)"
   ]
  },
  {
   "cell_type": "code",
   "execution_count": 6,
   "metadata": {},
   "outputs": [
    {
     "name": "stdout",
     "output_type": "stream",
     "text": [
      "Generating hybrid recommendations for user: 1\n",
      "Post ID 1 not found in posts data.\n",
      "Generating recommendations for user_id: 1\n",
      "Top-10 Recommendations for user_id 1:\n",
      "   post_id       score\n",
      "0       82  123.161119\n",
      "1       85  113.963287\n",
      "2      837  104.530852\n",
      "3      722  104.102783\n",
      "4      658  103.941377\n",
      "5      363  103.759528\n",
      "6      845   99.798276\n",
      "7      209   99.294035\n",
      "8     1202   97.733980\n",
      "9      922   97.080322\n",
      "Content-Based Recommendations: Empty DataFrame\n",
      "Columns: [post_id, score]\n",
      "Index: []\n",
      "Collaborative Recommendations:    post_id       score\n",
      "0       82  123.161119\n",
      "1       85  113.963287\n",
      "2      837  104.530852\n",
      "3      722  104.102783\n",
      "4      658  103.941377\n",
      "5      363  103.759528\n",
      "6      845   99.798276\n",
      "7      209   99.294035\n",
      "8     1202   97.733980\n",
      "9      922   97.080322\n",
      "Final Hybrid Recommendations:   post_id  weighted_score\n",
      "0      82       86.212784\n",
      "1      85       79.774301\n",
      "6     837       73.171597\n",
      "5     722       72.871948\n",
      "4     658       72.758964\n",
      "3     363       72.631670\n",
      "7     845       69.858793\n",
      "2     209       69.505825\n",
      "9    1202       68.413786\n",
      "8     922       67.956225\n",
      "Warning: Mismatch between true ratings and predicted ratings length: 97 != 10\n"
     ]
    },
    {
     "name": "stderr",
     "output_type": "stream",
     "text": [
      "/mnt/d/Users/RJ/Career_Growth/Career Development/Job application/Internshala/AI Intern at Persist Ventures/Video-Recommendation-Assignment-Acaac/src/recommendation_engine/hybrid.py:45: FutureWarning: The behavior of DataFrame concatenation with empty or all-NA entries is deprecated. In a future version, this will no longer exclude empty or all-NA columns when determining the result dtypes. To retain the old behavior, exclude the relevant entries before the concat operation.\n",
      "  combined_df = pd.concat([content_df, collaborative_df], ignore_index=True)\n"
     ]
    }
   ],
   "source": [
    "# Get true ratings (ground truth) from interaction data (e.g., user interactions)\n",
    "interaction_df = pd.read_csv(interaction_csv_path)\n",
    "\n",
    "# Select a valid user_id (assuming user_id exists in your dataset)\n",
    "user_id = 1  # Example user_id\n",
    "\n",
    "# Generate hybrid recommendations for the user\n",
    "recommendations_df = hybrid_recommender.recommend_hybrid(user_id, top_n=10)\n",
    "\n",
    "# Ensure recommendations_df contains both 'post_id' and 'weighted_score' columns\n",
    "if 'weighted_score' in recommendations_df.columns:\n",
    "    predicted_ratings = recommendations_df['weighted_score'].values\n",
    "else:\n",
    "    print(\"No predicted ratings available.\")\n",
    "    predicted_ratings = []\n",
    "\n",
    "# Get true ratings corresponding to the recommended post_ids\n",
    "# Filter interaction_df for only the posts in recommendations_df\n",
    "true_ratings = interaction_df[interaction_df['post_id'].isin(recommendations_df['post_id'])]\n",
    "\n",
    "# Now match the post_id's between the recommended posts and true ratings\n",
    "# Align true ratings with the recommended post_ids\n",
    "true_ratings = true_ratings.set_index('post_id')['rating_percent'].loc[recommendations_df['post_id']].values\n",
    "\n",
    "# Ensure that true_ratings and predicted_ratings are aligned\n",
    "if len(true_ratings) != len(predicted_ratings):\n",
    "    # If the lengths don't match, trim the predicted_ratings to match true_ratings\n",
    "    print(f\"Warning: Mismatch between true ratings and predicted ratings length: {len(true_ratings)} != {len(predicted_ratings)}\")\n",
    "    min_len = min(len(true_ratings), len(predicted_ratings))\n",
    "    true_ratings = true_ratings[:min_len]\n",
    "    predicted_ratings = predicted_ratings[:min_len]"
   ]
  },
  {
   "cell_type": "code",
   "execution_count": 9,
   "metadata": {},
   "outputs": [
    {
     "ename": "ValueError",
     "evalue": "Input contains NaN.",
     "output_type": "error",
     "traceback": [
      "\u001b[0;31m---------------------------------------------------------------------------\u001b[0m",
      "\u001b[0;31mValueError\u001b[0m                                Traceback (most recent call last)",
      "Cell \u001b[0;32mIn[9], line 2\u001b[0m\n\u001b[1;32m      1\u001b[0m \u001b[38;5;66;03m# Calculate MAE and RMSE\u001b[39;00m\n\u001b[0;32m----> 2\u001b[0m mae \u001b[38;5;241m=\u001b[39m \u001b[43mmean_absolute_error\u001b[49m\u001b[43m(\u001b[49m\u001b[43mtrue_ratings\u001b[49m\u001b[43m,\u001b[49m\u001b[43m \u001b[49m\u001b[43mpredicted_ratings\u001b[49m\u001b[43m)\u001b[49m\n\u001b[1;32m      3\u001b[0m rmse \u001b[38;5;241m=\u001b[39m np\u001b[38;5;241m.\u001b[39msqrt(mean_squared_error(true_ratings, predicted_ratings))\n\u001b[1;32m      5\u001b[0m \u001b[38;5;66;03m# Print the evaluation metrics\u001b[39;00m\n",
      "File \u001b[0;32m/mnt/d/Users/RJ/Career_Growth/Career Development/Job application/Internshala/AI Intern at Persist Ventures/Video-Recommendation-Assignment-Acaac/venv/lib/python3.10/site-packages/sklearn/utils/_param_validation.py:213\u001b[0m, in \u001b[0;36mvalidate_params.<locals>.decorator.<locals>.wrapper\u001b[0;34m(*args, **kwargs)\u001b[0m\n\u001b[1;32m    207\u001b[0m \u001b[38;5;28;01mtry\u001b[39;00m:\n\u001b[1;32m    208\u001b[0m     \u001b[38;5;28;01mwith\u001b[39;00m config_context(\n\u001b[1;32m    209\u001b[0m         skip_parameter_validation\u001b[38;5;241m=\u001b[39m(\n\u001b[1;32m    210\u001b[0m             prefer_skip_nested_validation \u001b[38;5;129;01mor\u001b[39;00m global_skip_validation\n\u001b[1;32m    211\u001b[0m         )\n\u001b[1;32m    212\u001b[0m     ):\n\u001b[0;32m--> 213\u001b[0m         \u001b[38;5;28;01mreturn\u001b[39;00m \u001b[43mfunc\u001b[49m\u001b[43m(\u001b[49m\u001b[38;5;241;43m*\u001b[39;49m\u001b[43margs\u001b[49m\u001b[43m,\u001b[49m\u001b[43m \u001b[49m\u001b[38;5;241;43m*\u001b[39;49m\u001b[38;5;241;43m*\u001b[39;49m\u001b[43mkwargs\u001b[49m\u001b[43m)\u001b[49m\n\u001b[1;32m    214\u001b[0m \u001b[38;5;28;01mexcept\u001b[39;00m InvalidParameterError \u001b[38;5;28;01mas\u001b[39;00m e:\n\u001b[1;32m    215\u001b[0m     \u001b[38;5;66;03m# When the function is just a wrapper around an estimator, we allow\u001b[39;00m\n\u001b[1;32m    216\u001b[0m     \u001b[38;5;66;03m# the function to delegate validation to the estimator, but we replace\u001b[39;00m\n\u001b[1;32m    217\u001b[0m     \u001b[38;5;66;03m# the name of the estimator by the name of the function in the error\u001b[39;00m\n\u001b[1;32m    218\u001b[0m     \u001b[38;5;66;03m# message to avoid confusion.\u001b[39;00m\n\u001b[1;32m    219\u001b[0m     msg \u001b[38;5;241m=\u001b[39m re\u001b[38;5;241m.\u001b[39msub(\n\u001b[1;32m    220\u001b[0m         \u001b[38;5;124mr\u001b[39m\u001b[38;5;124m\"\u001b[39m\u001b[38;5;124mparameter of \u001b[39m\u001b[38;5;124m\\\u001b[39m\u001b[38;5;124mw+ must be\u001b[39m\u001b[38;5;124m\"\u001b[39m,\n\u001b[1;32m    221\u001b[0m         \u001b[38;5;124mf\u001b[39m\u001b[38;5;124m\"\u001b[39m\u001b[38;5;124mparameter of \u001b[39m\u001b[38;5;132;01m{\u001b[39;00mfunc\u001b[38;5;241m.\u001b[39m\u001b[38;5;18m__qualname__\u001b[39m\u001b[38;5;132;01m}\u001b[39;00m\u001b[38;5;124m must be\u001b[39m\u001b[38;5;124m\"\u001b[39m,\n\u001b[1;32m    222\u001b[0m         \u001b[38;5;28mstr\u001b[39m(e),\n\u001b[1;32m    223\u001b[0m     )\n",
      "File \u001b[0;32m/mnt/d/Users/RJ/Career_Growth/Career Development/Job application/Internshala/AI Intern at Persist Ventures/Video-Recommendation-Assignment-Acaac/venv/lib/python3.10/site-packages/sklearn/metrics/_regression.py:216\u001b[0m, in \u001b[0;36mmean_absolute_error\u001b[0;34m(y_true, y_pred, sample_weight, multioutput)\u001b[0m\n\u001b[1;32m    152\u001b[0m \u001b[38;5;129m@validate_params\u001b[39m(\n\u001b[1;32m    153\u001b[0m     {\n\u001b[1;32m    154\u001b[0m         \u001b[38;5;124m\"\u001b[39m\u001b[38;5;124my_true\u001b[39m\u001b[38;5;124m\"\u001b[39m: [\u001b[38;5;124m\"\u001b[39m\u001b[38;5;124marray-like\u001b[39m\u001b[38;5;124m\"\u001b[39m],\n\u001b[0;32m   (...)\u001b[0m\n\u001b[1;32m    162\u001b[0m     y_true, y_pred, \u001b[38;5;241m*\u001b[39m, sample_weight\u001b[38;5;241m=\u001b[39m\u001b[38;5;28;01mNone\u001b[39;00m, multioutput\u001b[38;5;241m=\u001b[39m\u001b[38;5;124m\"\u001b[39m\u001b[38;5;124muniform_average\u001b[39m\u001b[38;5;124m\"\u001b[39m\n\u001b[1;32m    163\u001b[0m ):\n\u001b[1;32m    164\u001b[0m \u001b[38;5;250m    \u001b[39m\u001b[38;5;124;03m\"\"\"Mean absolute error regression loss.\u001b[39;00m\n\u001b[1;32m    165\u001b[0m \n\u001b[1;32m    166\u001b[0m \u001b[38;5;124;03m    Read more in the :ref:`User Guide <mean_absolute_error>`.\u001b[39;00m\n\u001b[0;32m   (...)\u001b[0m\n\u001b[1;32m    214\u001b[0m \u001b[38;5;124;03m    np.float64(0.85...)\u001b[39;00m\n\u001b[1;32m    215\u001b[0m \u001b[38;5;124;03m    \"\"\"\u001b[39;00m\n\u001b[0;32m--> 216\u001b[0m     y_type, y_true, y_pred, multioutput \u001b[38;5;241m=\u001b[39m \u001b[43m_check_reg_targets\u001b[49m\u001b[43m(\u001b[49m\n\u001b[1;32m    217\u001b[0m \u001b[43m        \u001b[49m\u001b[43my_true\u001b[49m\u001b[43m,\u001b[49m\u001b[43m \u001b[49m\u001b[43my_pred\u001b[49m\u001b[43m,\u001b[49m\u001b[43m \u001b[49m\u001b[43mmultioutput\u001b[49m\n\u001b[1;32m    218\u001b[0m \u001b[43m    \u001b[49m\u001b[43m)\u001b[49m\n\u001b[1;32m    219\u001b[0m     check_consistent_length(y_true, y_pred, sample_weight)\n\u001b[1;32m    220\u001b[0m     output_errors \u001b[38;5;241m=\u001b[39m np\u001b[38;5;241m.\u001b[39maverage(np\u001b[38;5;241m.\u001b[39mabs(y_pred \u001b[38;5;241m-\u001b[39m y_true), weights\u001b[38;5;241m=\u001b[39msample_weight, axis\u001b[38;5;241m=\u001b[39m\u001b[38;5;241m0\u001b[39m)\n",
      "File \u001b[0;32m/mnt/d/Users/RJ/Career_Growth/Career Development/Job application/Internshala/AI Intern at Persist Ventures/Video-Recommendation-Assignment-Acaac/venv/lib/python3.10/site-packages/sklearn/metrics/_regression.py:112\u001b[0m, in \u001b[0;36m_check_reg_targets\u001b[0;34m(y_true, y_pred, multioutput, dtype, xp)\u001b[0m\n\u001b[1;32m    109\u001b[0m xp, _ \u001b[38;5;241m=\u001b[39m get_namespace(y_true, y_pred, multioutput, xp\u001b[38;5;241m=\u001b[39mxp)\n\u001b[1;32m    111\u001b[0m check_consistent_length(y_true, y_pred)\n\u001b[0;32m--> 112\u001b[0m y_true \u001b[38;5;241m=\u001b[39m \u001b[43mcheck_array\u001b[49m\u001b[43m(\u001b[49m\u001b[43my_true\u001b[49m\u001b[43m,\u001b[49m\u001b[43m \u001b[49m\u001b[43mensure_2d\u001b[49m\u001b[38;5;241;43m=\u001b[39;49m\u001b[38;5;28;43;01mFalse\u001b[39;49;00m\u001b[43m,\u001b[49m\u001b[43m \u001b[49m\u001b[43mdtype\u001b[49m\u001b[38;5;241;43m=\u001b[39;49m\u001b[43mdtype\u001b[49m\u001b[43m)\u001b[49m\n\u001b[1;32m    113\u001b[0m y_pred \u001b[38;5;241m=\u001b[39m check_array(y_pred, ensure_2d\u001b[38;5;241m=\u001b[39m\u001b[38;5;28;01mFalse\u001b[39;00m, dtype\u001b[38;5;241m=\u001b[39mdtype)\n\u001b[1;32m    115\u001b[0m \u001b[38;5;28;01mif\u001b[39;00m y_true\u001b[38;5;241m.\u001b[39mndim \u001b[38;5;241m==\u001b[39m \u001b[38;5;241m1\u001b[39m:\n",
      "File \u001b[0;32m/mnt/d/Users/RJ/Career_Growth/Career Development/Job application/Internshala/AI Intern at Persist Ventures/Video-Recommendation-Assignment-Acaac/venv/lib/python3.10/site-packages/sklearn/utils/validation.py:1064\u001b[0m, in \u001b[0;36mcheck_array\u001b[0;34m(array, accept_sparse, accept_large_sparse, dtype, order, copy, force_writeable, force_all_finite, ensure_2d, allow_nd, ensure_min_samples, ensure_min_features, estimator, input_name)\u001b[0m\n\u001b[1;32m   1058\u001b[0m     \u001b[38;5;28;01mraise\u001b[39;00m \u001b[38;5;167;01mValueError\u001b[39;00m(\n\u001b[1;32m   1059\u001b[0m         \u001b[38;5;124m\"\u001b[39m\u001b[38;5;124mFound array with dim \u001b[39m\u001b[38;5;132;01m%d\u001b[39;00m\u001b[38;5;124m. \u001b[39m\u001b[38;5;132;01m%s\u001b[39;00m\u001b[38;5;124m expected <= 2.\u001b[39m\u001b[38;5;124m\"\u001b[39m\n\u001b[1;32m   1060\u001b[0m         \u001b[38;5;241m%\u001b[39m (array\u001b[38;5;241m.\u001b[39mndim, estimator_name)\n\u001b[1;32m   1061\u001b[0m     )\n\u001b[1;32m   1063\u001b[0m \u001b[38;5;28;01mif\u001b[39;00m force_all_finite:\n\u001b[0;32m-> 1064\u001b[0m     \u001b[43m_assert_all_finite\u001b[49m\u001b[43m(\u001b[49m\n\u001b[1;32m   1065\u001b[0m \u001b[43m        \u001b[49m\u001b[43marray\u001b[49m\u001b[43m,\u001b[49m\n\u001b[1;32m   1066\u001b[0m \u001b[43m        \u001b[49m\u001b[43minput_name\u001b[49m\u001b[38;5;241;43m=\u001b[39;49m\u001b[43minput_name\u001b[49m\u001b[43m,\u001b[49m\n\u001b[1;32m   1067\u001b[0m \u001b[43m        \u001b[49m\u001b[43mestimator_name\u001b[49m\u001b[38;5;241;43m=\u001b[39;49m\u001b[43mestimator_name\u001b[49m\u001b[43m,\u001b[49m\n\u001b[1;32m   1068\u001b[0m \u001b[43m        \u001b[49m\u001b[43mallow_nan\u001b[49m\u001b[38;5;241;43m=\u001b[39;49m\u001b[43mforce_all_finite\u001b[49m\u001b[43m \u001b[49m\u001b[38;5;241;43m==\u001b[39;49m\u001b[43m \u001b[49m\u001b[38;5;124;43m\"\u001b[39;49m\u001b[38;5;124;43mallow-nan\u001b[39;49m\u001b[38;5;124;43m\"\u001b[39;49m\u001b[43m,\u001b[49m\n\u001b[1;32m   1069\u001b[0m \u001b[43m    \u001b[49m\u001b[43m)\u001b[49m\n\u001b[1;32m   1071\u001b[0m \u001b[38;5;28;01mif\u001b[39;00m copy:\n\u001b[1;32m   1072\u001b[0m     \u001b[38;5;28;01mif\u001b[39;00m _is_numpy_namespace(xp):\n\u001b[1;32m   1073\u001b[0m         \u001b[38;5;66;03m# only make a copy if `array` and `array_orig` may share memory`\u001b[39;00m\n",
      "File \u001b[0;32m/mnt/d/Users/RJ/Career_Growth/Career Development/Job application/Internshala/AI Intern at Persist Ventures/Video-Recommendation-Assignment-Acaac/venv/lib/python3.10/site-packages/sklearn/utils/validation.py:123\u001b[0m, in \u001b[0;36m_assert_all_finite\u001b[0;34m(X, allow_nan, msg_dtype, estimator_name, input_name)\u001b[0m\n\u001b[1;32m    120\u001b[0m \u001b[38;5;28;01mif\u001b[39;00m first_pass_isfinite:\n\u001b[1;32m    121\u001b[0m     \u001b[38;5;28;01mreturn\u001b[39;00m\n\u001b[0;32m--> 123\u001b[0m \u001b[43m_assert_all_finite_element_wise\u001b[49m\u001b[43m(\u001b[49m\n\u001b[1;32m    124\u001b[0m \u001b[43m    \u001b[49m\u001b[43mX\u001b[49m\u001b[43m,\u001b[49m\n\u001b[1;32m    125\u001b[0m \u001b[43m    \u001b[49m\u001b[43mxp\u001b[49m\u001b[38;5;241;43m=\u001b[39;49m\u001b[43mxp\u001b[49m\u001b[43m,\u001b[49m\n\u001b[1;32m    126\u001b[0m \u001b[43m    \u001b[49m\u001b[43mallow_nan\u001b[49m\u001b[38;5;241;43m=\u001b[39;49m\u001b[43mallow_nan\u001b[49m\u001b[43m,\u001b[49m\n\u001b[1;32m    127\u001b[0m \u001b[43m    \u001b[49m\u001b[43mmsg_dtype\u001b[49m\u001b[38;5;241;43m=\u001b[39;49m\u001b[43mmsg_dtype\u001b[49m\u001b[43m,\u001b[49m\n\u001b[1;32m    128\u001b[0m \u001b[43m    \u001b[49m\u001b[43mestimator_name\u001b[49m\u001b[38;5;241;43m=\u001b[39;49m\u001b[43mestimator_name\u001b[49m\u001b[43m,\u001b[49m\n\u001b[1;32m    129\u001b[0m \u001b[43m    \u001b[49m\u001b[43minput_name\u001b[49m\u001b[38;5;241;43m=\u001b[39;49m\u001b[43minput_name\u001b[49m\u001b[43m,\u001b[49m\n\u001b[1;32m    130\u001b[0m \u001b[43m\u001b[49m\u001b[43m)\u001b[49m\n",
      "File \u001b[0;32m/mnt/d/Users/RJ/Career_Growth/Career Development/Job application/Internshala/AI Intern at Persist Ventures/Video-Recommendation-Assignment-Acaac/venv/lib/python3.10/site-packages/sklearn/utils/validation.py:172\u001b[0m, in \u001b[0;36m_assert_all_finite_element_wise\u001b[0;34m(X, xp, allow_nan, msg_dtype, estimator_name, input_name)\u001b[0m\n\u001b[1;32m    155\u001b[0m \u001b[38;5;28;01mif\u001b[39;00m estimator_name \u001b[38;5;129;01mand\u001b[39;00m input_name \u001b[38;5;241m==\u001b[39m \u001b[38;5;124m\"\u001b[39m\u001b[38;5;124mX\u001b[39m\u001b[38;5;124m\"\u001b[39m \u001b[38;5;129;01mand\u001b[39;00m has_nan_error:\n\u001b[1;32m    156\u001b[0m     \u001b[38;5;66;03m# Improve the error message on how to handle missing values in\u001b[39;00m\n\u001b[1;32m    157\u001b[0m     \u001b[38;5;66;03m# scikit-learn.\u001b[39;00m\n\u001b[1;32m    158\u001b[0m     msg_err \u001b[38;5;241m+\u001b[39m\u001b[38;5;241m=\u001b[39m (\n\u001b[1;32m    159\u001b[0m         \u001b[38;5;124mf\u001b[39m\u001b[38;5;124m\"\u001b[39m\u001b[38;5;130;01m\\n\u001b[39;00m\u001b[38;5;132;01m{\u001b[39;00mestimator_name\u001b[38;5;132;01m}\u001b[39;00m\u001b[38;5;124m does not accept missing values\u001b[39m\u001b[38;5;124m\"\u001b[39m\n\u001b[1;32m    160\u001b[0m         \u001b[38;5;124m\"\u001b[39m\u001b[38;5;124m encoded as NaN natively. For supervised learning, you might want\u001b[39m\u001b[38;5;124m\"\u001b[39m\n\u001b[0;32m   (...)\u001b[0m\n\u001b[1;32m    170\u001b[0m         \u001b[38;5;124m\"\u001b[39m\u001b[38;5;124m#estimators-that-handle-nan-values\u001b[39m\u001b[38;5;124m\"\u001b[39m\n\u001b[1;32m    171\u001b[0m     )\n\u001b[0;32m--> 172\u001b[0m \u001b[38;5;28;01mraise\u001b[39;00m \u001b[38;5;167;01mValueError\u001b[39;00m(msg_err)\n",
      "\u001b[0;31mValueError\u001b[0m: Input contains NaN."
     ]
    }
   ],
   "source": [
    "# Calculate MAE and RMSE\n",
    "mae = mean_absolute_error(true_ratings, predicted_ratings)\n",
    "rmse = np.sqrt(mean_squared_error(true_ratings, predicted_ratings))\n",
    "\n",
    "# Print the evaluation metrics\n",
    "print(f\"Hybrid Model - Mean Absolute Error (MAE): {mae}\")\n",
    "print(f\"Hybrid Model - Root Mean Square Error (RMSE): {rmse}\")"
   ]
  },
  {
   "cell_type": "code",
   "execution_count": 8,
   "metadata": {},
   "outputs": [
    {
     "data": {
      "image/png": "[encoded data removed]",
      "text/plain": [
       "<Figure size 1000x600 with 1 Axes>"
      ]
     },
     "metadata": {},
     "output_type": "display_data"
    }
   ],
   "source": [
    "# Visualize the results (you can modify this part based on your needs)\n",
    "import matplotlib.pyplot as plt\n",
    "\n",
    "# Plot a comparison of predicted vs true ratings\n",
    "plt.figure(figsize=(10, 6))\n",
    "plt.scatter(true_ratings, predicted_ratings, alpha=0.6)\n",
    "plt.plot([min(true_ratings), max(true_ratings)], [min(true_ratings), max(true_ratings)], color='red', linestyle='--')\n",
    "plt.xlabel('True Ratings')\n",
    "plt.ylabel('Predicted Ratings')\n",
    "plt.title('True Ratings vs Predicted Ratings (Hybrid Model)')\n",
    "plt.show()"
   ]
  },
  {
   "cell_type": "code",
   "execution_count": null,
   "metadata": {},
   "outputs": [],
   "source": [
    "# Summarize Insights\n",
    "print(\"Evaluation Insights:\")\n",
    "print(f\"- The Mean Absolute Error (MAE) indicates the average difference between true and predicted ratings: {mae}\")\n",
    "print(f\"- The Root Mean Square Error (RMSE) penalizes large differences more, indicating how well the model's predictions fit the actual ratings: {rmse}\")"
   ]
  }
 ],
 "metadata": {
  "kernelspec": {
   "display_name": "Python (vid_recom)",
   "language": "python",
   "name": "vid_recom"
  },
  "language_info": {
   "codemirror_mode": {
    "name": "ipython",
    "version": 3
   },
   "file_extension": ".py",
   "mimetype": "text/x-python",
   "name": "python",
   "nbconvert_exporter": "python",
   "pygments_lexer": "ipython3",
   "version": "3.10.12"
  }
 },
 "nbformat": 4,
 "nbformat_minor": 2
}
