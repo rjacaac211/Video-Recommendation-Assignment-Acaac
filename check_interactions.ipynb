{
 "cells": [
  {
   "cell_type": "code",
   "execution_count": 1,
   "metadata": {},
   "outputs": [
    {
     "name": "stdout",
     "output_type": "stream",
     "text": [
      "       id  post_id  user_id            viewed_at interaction_type  \\\n",
      "0    9447     1256        1  2024-09-24 13:33:57           viewed   \n",
      "1    9487     1253        1  2024-09-25 07:34:56           viewed   \n",
      "2    9488     1257        1  2024-09-25 07:36:46           viewed   \n",
      "3    9489     1258        1  2024-09-25 07:36:47           viewed   \n",
      "4    9502     1252        1  2024-09-26 15:09:11           viewed   \n",
      "..    ...      ...      ...                  ...              ...   \n",
      "737  2860      631        1                  NaN            rated   \n",
      "738  2861       63        1                  NaN            rated   \n",
      "739  2862     1390        1                  NaN            rated   \n",
      "740  2866     1391        1                  NaN            rated   \n",
      "741  2903     1397        1                  NaN            rated   \n",
      "\n",
      "     rating_percent liked_at inspired_at             rated_at  \n",
      "0               NaN      NaN         NaN                  NaN  \n",
      "1               NaN      NaN         NaN                  NaN  \n",
      "2               NaN      NaN         NaN                  NaN  \n",
      "3               NaN      NaN         NaN                  NaN  \n",
      "4               NaN      NaN         NaN                  NaN  \n",
      "..              ...      ...         ...                  ...  \n",
      "737            43.0      NaN         NaN  2024-12-04 10:10:48  \n",
      "738            56.0      NaN         NaN  2024-12-04 10:11:31  \n",
      "739            68.0      NaN         NaN  2024-12-05 07:21:02  \n",
      "740            55.0      NaN         NaN  2024-12-05 11:11:21  \n",
      "741            81.0      NaN         NaN  2024-12-06 09:56:19  \n",
      "\n",
      "[742 rows x 9 columns]\n",
      "Number of interactions for user_id=1: 742\n"
     ]
    }
   ],
   "source": [
    "import pandas as pd\n",
    "\n",
    "# Load interaction_df\n",
    "interaction_df = pd.read_csv(\"data/processed/interaction_df.csv\")\n",
    "\n",
    "# Check interactions for user_id=1\n",
    "user_id = 1\n",
    "user_interactions = interaction_df[interaction_df['user_id'] == user_id]\n",
    "print(user_interactions)\n",
    "print(f\"Number of interactions for user_id={user_id}:\", len(user_interactions))"
   ]
  }
 ],
 "metadata": {
  "kernelspec": {
   "display_name": "base",
   "language": "python",
   "name": "python3"
  },
  "language_info": {
   "codemirror_mode": {
    "name": "ipython",
    "version": 3
   },
   "file_extension": ".py",
   "mimetype": "text/x-python",
   "name": "python",
   "nbconvert_exporter": "python",
   "pygments_lexer": "ipython3",
   "version": "3.11.7"
  }
 },
 "nbformat": 4,
 "nbformat_minor": 2
}
